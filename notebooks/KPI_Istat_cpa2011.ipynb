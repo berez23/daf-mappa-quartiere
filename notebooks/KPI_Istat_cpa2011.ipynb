{
 "cells": [
  {
   "cell_type": "markdown",
   "metadata": {},
   "source": [
    "## Data wrangling to reproduce Istat-based KPIs"
   ]
  },
  {
   "cell_type": "code",
   "execution_count": null,
   "metadata": {
    "scrolled": true
   },
   "outputs": [],
   "source": [
    "from enum import Enum\n",
    "from os import path, listdir\n",
    "\n",
    "import numpy as np\n",
    "import pandas as pd\n",
    "import geopandas as gpd\n",
    "import geopy, geopy.distance\n",
    "import shapely\n",
    "from sklearn import gaussian_process\n",
    "\n",
    "from matplotlib import pyplot as plt \n",
    "import seaborn as sns\n",
    "plt.rcParams['figure.figsize']= (20,14)"
   ]
  },
  {
   "cell_type": "code",
   "execution_count": null,
   "metadata": {},
   "outputs": [],
   "source": [
    "## TODO: find way to put this into some global settings\n",
    "import os\n",
    "import sys\n",
    "nb_dir = os.path.dirname(os.getcwd())\n",
    "if nb_dir not in sys.path:\n",
    "    sys.path.append(nb_dir)\n",
    "\n",
    "from references import common_cfg\n",
    "from references import istat_kpi"
   ]
  },
  {
   "cell_type": "code",
   "execution_count": null,
   "metadata": {},
   "outputs": [],
   "source": [
    "selectedCity = common_cfg.cityList[1]\n",
    "print(selectedCity)"
   ]
  },
  {
   "cell_type": "code",
   "execution_count": null,
   "metadata": {},
   "outputs": [],
   "source": [
    "# load sezione di censimento data for the selected city\n",
    "istatData = common_cfg.get_istat_cpa_data(selectedCity)"
   ]
  },
  {
   "cell_type": "code",
   "execution_count": null,
   "metadata": {},
   "outputs": [],
   "source": [
    "istatData.head()"
   ]
  },
  {
   "cell_type": "code",
   "execution_count": null,
   "metadata": {},
   "outputs": [],
   "source": [
    "if selectedCity == 'Milano':\n",
    "    # groupby Nome Quartiere\n",
    "    quartiereData = istatData.groupby([common_cfg.IdQuartiereColName, 'quartiere']).sum()\n",
    "elif selectedCity == 'Torino':\n",
    "    quartiereData = istatData.groupby([common_cfg.IdQuartiereColName]).sum()\n",
    "quartiereData.head()"
   ]
  },
  {
   "cell_type": "code",
   "execution_count": null,
   "metadata": {},
   "outputs": [],
   "source": [
    "metaData = common_cfg.get_istat_metadata()\n",
    "metaData.head()"
   ]
  },
  {
   "cell_type": "markdown",
   "metadata": {},
   "source": [
    "## Indici\n",
    "\n",
    "1. Percentuale residenti stranieri.\n",
    "    - Sul totale dei residenti\n",
    "    \n",
    "2. Percentuali di provenienza degli stranieri (*per ogni continente la percentuale è rispetto la popolazione residente straniera*).\n",
    "    - Europa\n",
    "    - Africa\n",
    "    - Asia\n",
    "    - America\n",
    "    - Oceania\n",
    "    \n",
    "3. Indice di vecchiaia: *rapporto tra il numero di residenti di età > 64 e numero residenti che hanno meno di 14 anni.*\n",
    "    - Sul totale popolazione\n",
    "    - Tra gli uomini\n",
    "    - Tra le donne\n",
    "    \n",
    "4. Indice di popolazione attiva: *rapporto tra il numero di residenti con età compresa tra i 39 ed i 64 anni e quelli tra i 15 ed i 39.*\n",
    "    - Sul totale popolazione\n",
    "    - Tra gli uomini\n",
    "    - Tra le donne\n",
    "    \n",
    "5. Popolazione residente che svolge la propria giornata fuori dal comune di residenza sul totale della popolazione residente.\n",
    "\n",
    "6. Popolazione residente che svolge la propria giornata nel comune ma fuori dal proprio quartiere\n",
    "\n",
    "7. Popolazione residente che svolge la propria giornata nel proprio quartiere"
   ]
  },
  {
   "cell_type": "markdown",
   "metadata": {},
   "source": [
    "#### 1. Percentuale residenti stranieri"
   ]
  },
  {
   "cell_type": "code",
   "execution_count": null,
   "metadata": {},
   "outputs": [],
   "source": [
    "# Colonne ISTAT utilizzate\n",
    "metaData[(metaData['NOME_CAMPO'] == 'P1') | (metaData['NOME_CAMPO'] == 'ST15')]"
   ]
  },
  {
   "cell_type": "code",
   "execution_count": null,
   "metadata": {},
   "outputs": [],
   "source": [
    "# Creazione indice residenti stranieri\n",
    "istat_kpi.new_index(quartiereData, ['ST15'], ['P1'], 'indice_stranieri').head()"
   ]
  },
  {
   "cell_type": "markdown",
   "metadata": {},
   "source": [
    "#### 2. Percentuali di provenienza degli stranieri"
   ]
  },
  {
   "cell_type": "code",
   "execution_count": null,
   "metadata": {},
   "outputs": [],
   "source": [
    "# Colonne ISTAT utilizzate\n",
    "metaData[(metaData['NOME_CAMPO'] == 'ST9') | \n",
    "         (metaData['NOME_CAMPO'] == 'ST10')|\n",
    "         (metaData['NOME_CAMPO'] == 'ST11')|\n",
    "         (metaData['NOME_CAMPO'] == 'ST12')|\n",
    "         (metaData['NOME_CAMPO'] == 'ST13')|\n",
    "         (metaData['NOME_CAMPO'] == 'ST15')]"
   ]
  },
  {
   "cell_type": "code",
   "execution_count": null,
   "metadata": {},
   "outputs": [],
   "source": [
    "# Lista di nomi di variabili che voglio creare \n",
    "list_columns_continenti = ['perc_europei', 'perc_africa', 'perc_america', 'perc_asia', 'perc_oceania']\n",
    "\n",
    "# Lista colonne utili dal df di istat\n",
    "list_attr_continenti = ['ST9', 'ST10', 'ST11', 'ST12', 'ST13']"
   ]
  },
  {
   "cell_type": "code",
   "execution_count": null,
   "metadata": {},
   "outputs": [],
   "source": [
    "# Calcolare l'indice per ogni continente\n",
    "for idx, continente in enumerate(list_columns_continenti):\n",
    "    istat_kpi.new_index(quartiereData, [list_attr_continenti[idx]], ['ST15'], list_columns_continenti[idx])"
   ]
  },
  {
   "cell_type": "code",
   "execution_count": null,
   "metadata": {},
   "outputs": [],
   "source": [
    "quartiereData.head()"
   ]
  },
  {
   "cell_type": "markdown",
   "metadata": {},
   "source": [
    "#### 3. Indice vecchiaia\n",
    "\n",
    "##### 3.1. Totale popolazione residente"
   ]
  },
  {
   "cell_type": "code",
   "execution_count": null,
   "metadata": {},
   "outputs": [],
   "source": [
    "# Colonne ISTAT utilizzate\n",
    "metaData[(metaData['NOME_CAMPO'] == 'P27') | \n",
    "         (metaData['NOME_CAMPO'] == 'P28')|\n",
    "         (metaData['NOME_CAMPO'] == 'P29')|\n",
    "         (metaData['NOME_CAMPO'] == 'P14')|\n",
    "         (metaData['NOME_CAMPO'] == 'P15')|\n",
    "         (metaData['NOME_CAMPO'] == 'P16')]"
   ]
  },
  {
   "cell_type": "code",
   "execution_count": null,
   "metadata": {},
   "outputs": [],
   "source": [
    "# Creo la nuova colonna\n",
    "istat_kpi.new_index(quartiereData, ['P27','P28','P29'], ['P14','P15','P16'], 'indice_vecchiaia').head()"
   ]
  },
  {
   "cell_type": "markdown",
   "metadata": {},
   "source": [
    "##### 3.2. Totale popolazione residente maschile"
   ]
  },
  {
   "cell_type": "code",
   "execution_count": null,
   "metadata": {},
   "outputs": [],
   "source": [
    "# Colonne ISTAT utilizzate\n",
    "metaData[(metaData['NOME_CAMPO'] == 'P43') | \n",
    "         (metaData['NOME_CAMPO'] == 'P44')|\n",
    "         (metaData['NOME_CAMPO'] == 'P45')|\n",
    "         (metaData['NOME_CAMPO'] == 'P30')|\n",
    "         (metaData['NOME_CAMPO'] == 'P31')|\n",
    "         (metaData['NOME_CAMPO'] == 'P32')]"
   ]
  },
  {
   "cell_type": "code",
   "execution_count": null,
   "metadata": {},
   "outputs": [],
   "source": [
    "# Creo la nuova colonna\n",
    "istat_kpi.new_index(quartiereData, ['P43','P44','P45'], ['P30','P31','P32'], 'indice_vecchiaia_uomo').head()"
   ]
  },
  {
   "cell_type": "markdown",
   "metadata": {},
   "source": [
    "##### 3.3. Totale popolazione residente femminile\n",
    "Il numero della popolazione femminile non è espresso esplicitamente nel dataset. Pertanto è ottenuto facendo la differenza tra la popolazione residente totale e quella maschile.\n",
    "\n",
    "Le colonne utilizzate sono descritte nelle due sezioni precedenti (`3.1` e `3.2`)."
   ]
  },
  {
   "cell_type": "code",
   "execution_count": null,
   "metadata": {},
   "outputs": [],
   "source": [
    "# Calcola numeratore e denominatore\n",
    "donne_anziane = quartiereData[['P27','P28','P29']].sum(axis=1)-(quartiereData[['P43','P44','P45']].sum(axis=1))\n",
    "donne_giovani = quartiereData[['P14','P15','P16']].sum(axis=1)-quartiereData[['P30','P31','P32']].sum(axis=1)\n",
    "\n",
    "# Quindi, il nuovo indice\n",
    "quartiereData['indice_vecchiaia_donna'] = donne_anziane/donne_giovani\n",
    "\n",
    "quartiereData.head()"
   ]
  },
  {
   "cell_type": "markdown",
   "metadata": {},
   "source": [
    "#### 4. Indice popolazione attiva\n",
    "\n",
    "##### 4.1. Totale popolazione residente\n"
   ]
  },
  {
   "cell_type": "code",
   "execution_count": null,
   "metadata": {},
   "outputs": [],
   "source": [
    "# Colonne ISTAT utilizzate\n",
    "metaData[(metaData['NOME_CAMPO'] == 'P22')| \n",
    "         (metaData['NOME_CAMPO'] == 'P23')|\n",
    "         (metaData['NOME_CAMPO'] == 'P24')|\n",
    "         (metaData['NOME_CAMPO'] == 'P25')|\n",
    "         (metaData['NOME_CAMPO'] == 'P26')|\n",
    "         (metaData['NOME_CAMPO'] == 'P17')|\n",
    "         (metaData['NOME_CAMPO'] == 'P18')|\n",
    "         (metaData['NOME_CAMPO'] == 'P19')|\n",
    "         (metaData['NOME_CAMPO'] == 'P20')|\n",
    "         (metaData['NOME_CAMPO'] == 'P21')]"
   ]
  },
  {
   "cell_type": "code",
   "execution_count": null,
   "metadata": {},
   "outputs": [],
   "source": [
    "# Creo la nuova colonna\n",
    "istat_kpi.new_index(quartiereData, ['P22','P23','P24','P25','P26'], ['P17','P18','P19','P20','P21'], 'indice_pop_attiva').head()"
   ]
  },
  {
   "cell_type": "markdown",
   "metadata": {},
   "source": [
    "##### 4.2. Popolazione residente maschile"
   ]
  },
  {
   "cell_type": "code",
   "execution_count": null,
   "metadata": {},
   "outputs": [],
   "source": [
    "# Colonne ISTAT utilizzate\n",
    "metaData[(metaData['NOME_CAMPO'] == 'P38')| \n",
    "         (metaData['NOME_CAMPO'] == 'P39')|\n",
    "         (metaData['NOME_CAMPO'] == 'P40')|\n",
    "         (metaData['NOME_CAMPO'] == 'P41')|\n",
    "         (metaData['NOME_CAMPO'] == 'P42')|\n",
    "         (metaData['NOME_CAMPO'] == 'P33')|\n",
    "         (metaData['NOME_CAMPO'] == 'P34')|\n",
    "         (metaData['NOME_CAMPO'] == 'P35')|\n",
    "         (metaData['NOME_CAMPO'] == 'P36')|\n",
    "         (metaData['NOME_CAMPO'] == 'P37')]"
   ]
  },
  {
   "cell_type": "code",
   "execution_count": null,
   "metadata": {},
   "outputs": [],
   "source": [
    "# Creo la nuova colonna\n",
    "istat_kpi.new_index(quartiereData, ['P38','P39','P40','P41','P42'], ['P33','P34','P35','P36','P37'], 'indice_pop_attiva').head()"
   ]
  },
  {
   "cell_type": "markdown",
   "metadata": {},
   "source": [
    "##### 4.3. Popolazione residente femminile\n",
    "\n",
    "Anche in questo caso, i numeri sulle donne sono ricavati dalla differenza tra il totale e la popolazione maschile."
   ]
  },
  {
   "cell_type": "code",
   "execution_count": null,
   "metadata": {},
   "outputs": [],
   "source": [
    "# Calcolo numeratore e denominatore\n",
    "numeratore_donne = (quartiereData[['P22','P23','P24','P25','P26']].sum(axis=1)) - (quartiereData[['P38','P39','P40','P41','P42']].sum(axis=1))\n",
    "denominatore_donne = (quartiereData[['P17','P18','P19','P20','P21']].sum(axis=1))-(quartiereData[['P33','P34','P35','P36','P37']].sum(axis=1))\n",
    "\n",
    "# Creazione colonna\n",
    "quartiereData['indice_pop_attiva_donna'] = numeratore_donne/denominatore_donne"
   ]
  },
  {
   "cell_type": "markdown",
   "metadata": {},
   "source": [
    "#### 5.  Popolazione residente che svolge la propria giornata fuori dal comune di residenza sul totale della popolazione residente"
   ]
  },
  {
   "cell_type": "code",
   "execution_count": null,
   "metadata": {},
   "outputs": [],
   "source": [
    "# Colonne ISTAT utilizzate\n",
    "metaData[(metaData['NOME_CAMPO'] == 'P138')]"
   ]
  },
  {
   "cell_type": "code",
   "execution_count": null,
   "metadata": {},
   "outputs": [],
   "source": [
    "# Creo la nuova colonna\n",
    "istat_kpi.new_index(quartiereData, ['P138'], ['P1'], 'indice_pop_pendolare').head()"
   ]
  },
  {
   "cell_type": "markdown",
   "metadata": {},
   "source": [
    "#### 6.  Popolazione residente che svolge la propria giornata nel comune di residenza ma al di fuori del proprio quartiere sul totale della popolazione residente."
   ]
  },
  {
   "cell_type": "code",
   "execution_count": null,
   "metadata": {},
   "outputs": [],
   "source": [
    "# Colonne ISTAT utilizzate\n",
    "metaData[(metaData['NOME_CAMPO'] == 'P137')]"
   ]
  },
  {
   "cell_type": "code",
   "execution_count": null,
   "metadata": {},
   "outputs": [],
   "source": [
    "# Creo la nuova colonna\n",
    "istat_kpi.new_index(quartiereData, ['P137'], ['P1'], 'indice_pop_non_pend_esterna_quartiere').head()"
   ]
  },
  {
   "cell_type": "markdown",
   "metadata": {},
   "source": [
    "#### 7.  Popolazione residente che svolge la propria giornata nel proprio quartiere sul totale della popolazione residente.\n",
    "\n",
    "Il valore assoluto della popolazione che non svolge la giornata nel proprio quartiere è pari alla differenza tra `P1` e la somma di `P137` e `P138`."
   ]
  },
  {
   "cell_type": "code",
   "execution_count": null,
   "metadata": {},
   "outputs": [],
   "source": [
    "giornata_dentro_quartiere = quartiereData['P1']-(quartiereData[['P137','P138']].sum(axis=1))\n",
    "\n",
    "quartiereData['indice_pop_non_pend_interna_quartiere'] = giornata_dentro_quartiere/quartiereData['P1']"
   ]
  },
  {
   "cell_type": "code",
   "execution_count": null,
   "metadata": {},
   "outputs": [],
   "source": [
    "quartiereData.head()"
   ]
  },
  {
   "cell_type": "markdown",
   "metadata": {},
   "source": [
    "### Preview del dataset degli indici"
   ]
  },
  {
   "cell_type": "code",
   "execution_count": null,
   "metadata": {},
   "outputs": [],
   "source": [
    "quartiereData[list(quartiereData.columns)[-11:]].head()\n",
    "\n",
    "# Salva df in csv\n",
    "quartiereData[list(quartiereData.columns)[-11:]].to_csv(\n",
    "    '../data/output/'+selectedCity+ '_kpi_istat_cpa2011.csv', sep = ';')\n",
    "\n",
    "# Salva in json\n",
    "quartiereData[list(quartiereData.columns)[-11:]].reset_index().to_json(\n",
    "    '../data/output/'+selectedCity+ '_kpi_istat_cpa2011.json', orient='records')\n"
   ]
  }
 ],
 "metadata": {
  "kernelspec": {
   "display_name": "Python 3",
   "language": "python",
   "name": "python3"
  },
  "language_info": {
   "codemirror_mode": {
    "name": "ipython",
    "version": 3
   },
   "file_extension": ".py",
   "mimetype": "text/x-python",
   "name": "python",
   "nbconvert_exporter": "python",
   "pygments_lexer": "ipython3",
   "version": "3.5.4"
  }
 },
 "nbformat": 4,
 "nbformat_minor": 2
}
