{
 "cells": [
  {
   "cell_type": "markdown",
   "metadata": {},
   "source": [
    "### Notebook to produce unique input files for each service, in order to get inputs from DAF"
   ]
  },
  {
   "cell_type": "code",
   "execution_count": null,
   "metadata": {},
   "outputs": [],
   "source": [
    "import pandas as pd\n",
    "import os\n",
    "import sys\n",
    "root_dir = os.path.dirname(os.path.dirname(os.getcwd())) ## TODO: find way to put this into some global settings\n",
    "if root_dir not in sys.path:\n",
    "    sys.path.append(root_dir)\n",
    "\n",
    "from references import data_io, city_settings\n",
    "from references.city_items import ServiceType\n",
    "\n",
    "CITY_NAME_COL = 'nome_citta'"
   ]
  },
  {
   "cell_type": "code",
   "execution_count": null,
   "metadata": {},
   "outputs": [],
   "source": [
    "# Initialise service lists\n",
    "frame_lists = {s:[] for s in ServiceType.all()}"
   ]
  },
  {
   "cell_type": "code",
   "execution_count": null,
   "metadata": {},
   "outputs": [],
   "source": [
    "# Fill lists with data\n",
    "for city in city_settings.DEFAULT_CITIES:\n",
    "    # get available frames for services\n",
    "    for service in city.services:\n",
    "        # load source dataframe\n",
    "        units_data = data_io.fetch_service_units(service, city)\n",
    "        # append column to keep city name info\n",
    "        units_data[CITY_NAME_COL] = city.name.upper()\n",
    "        frame_lists[service].append(units_data)"
   ]
  },
  {
   "cell_type": "code",
   "execution_count": null,
   "metadata": {},
   "outputs": [],
   "source": [
    "# Export\n",
    "for service, frame_list in frame_lists.items():\n",
    "    final = pd.concat(frame_list, axis=0)\n",
    "    print(final.sample(8))\n",
    "    final.to_csv(data_io.LOCAL_LOAD_FOLDER + 'daf_sources/mappaquartiere_%s.csv' % service.name,\n",
    "             sep=';', decimal=',', index=False)"
   ]
  }
 ],
 "metadata": {
  "kernelspec": {
   "display_name": "Python 3",
   "language": "python",
   "name": "python3"
  },
  "language_info": {
   "codemirror_mode": {
    "name": "ipython",
    "version": 3
   },
   "file_extension": ".py",
   "mimetype": "text/x-python",
   "name": "python",
   "nbconvert_exporter": "python",
   "pygments_lexer": "ipython3",
   "version": "3.5.4"
  }
 },
 "nbformat": 4,
 "nbformat_minor": 2
}
