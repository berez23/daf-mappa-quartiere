{
 "cells": [
  {
   "cell_type": "markdown",
   "metadata": {},
   "source": [
    "## Loading and preprocessing ISTAT data"
   ]
  },
  {
   "cell_type": "markdown",
   "metadata": {},
   "source": [
    "Processing pipeline to collect Istat cpa 2011 data for selected cities from downloaded data dump."
   ]
  },
  {
   "cell_type": "code",
   "execution_count": 2,
   "metadata": {},
   "outputs": [],
   "source": [
    "import numpy as np\n",
    "import pandas as pd\n",
    "import geopandas as gpd\n",
    "from os import path, listdir"
   ]
  },
  {
   "cell_type": "code",
   "execution_count": 3,
   "metadata": {},
   "outputs": [],
   "source": [
    "## TODO: find way to put this into some global settings\n",
    "import os\n",
    "import sys\n",
    "# go up two levels in path\n",
    "nb_dir = os.path.dirname(os.path.dirname(os.getcwd()))\n",
    "if nb_dir not in sys.path:\n",
    "    sys.path.append(nb_dir)\n",
    "    sys.path.append(nb_dir+'/references')\n",
    "\n",
    "import commonCfg"
   ]
  },
  {
   "cell_type": "code",
   "execution_count": 5,
   "metadata": {},
   "outputs": [
    {
     "name": "stdout",
     "output_type": "stream",
     "text": [
      "['R17_indicatori_2011_sezioni.csv', 'R14_indicatori_2011_sezioni.csv', 'R12_indicatori_2011_sezioni.csv', 'R05_indicatori_2011_sezioni.csv', 'R08_indicatori_2011_sezioni.csv', 'R10_indicatori_2011_sezioni.csv', 'R04_indicatori_2011_sezioni.csv', 'R20_indicatori_2011_sezioni.csv', 'R03_indicatori_2011_sezioni.csv', 'R06_indicatori_2011_sezioni.csv', 'R18_indicatori_2011_sezioni.csv', 'R11_indicatori_2011_sezioni.csv', 'R16_indicatori_2011_sezioni.csv', 'R09_indicatori_2011_sezioni.csv', 'R07_indicatori_2011_sezioni.csv', 'R15_indicatori_2011_sezioni.csv', 'R02_indicatori_2011_sezioni.csv', 'R19_indicatori_2011_sezioni.csv', 'R13_indicatori_2011_sezioni.csv', 'R01_indicatori_2011_sezioni.csv']\n"
     ]
    }
   ],
   "source": [
    "## Loading ISTAT data\n",
    "fileList = commonCfg.get_istat_filelist()\n",
    "dfList = []\n",
    "dataDict = {}\n",
    "for filename in fileList:\n",
    "    regionData = pd.read_csv(\n",
    "        path.join(commonCfg.cpaPath, filename), sep=';', encoding='latin').set_index('SEZ2011')\n",
    "    # extract the councils we are intersted in\n",
    "    for city in commonCfg.cityList:\n",
    "        cityData = regionData[regionData.COMUNE==city]\n",
    "        if cityData.size>0:\n",
    "            dataDict[city] = cityData\n"
   ]
  },
  {
   "cell_type": "code",
   "execution_count": null,
   "metadata": {},
   "outputs": [],
   "source": [
    "# Join sez geofile for Milano\n",
    "sezNameCol = 'SEZ2011'\n",
    "shapeDataMilano = gpd.read_file('../data/milanoSezGeo')\n",
    "print(shapeDataMilano[sezNameCol].isin(dataDict['Milano'].index).mean())\n",
    "print(dataDict['Milano'].index.isin(shapeDataMilano[sezNameCol]).mean())\n",
    "joinedData = pd.merge(shapeDataMilano, dataDict['Milano'], how='inner', right_index=True, left_on=sezNameCol)\n",
    "joinedData.SEZ2011 = joinedData.SEZ2011.astype(int)"
   ]
  },
  {
   "cell_type": "code",
   "execution_count": null,
   "metadata": {},
   "outputs": [],
   "source": [
    "# collect quartiere label\n",
    "quartiereLabels = pd.read_csv('../data/Milano_sezToQuartieri.csv')\n",
    "# fix typo\n",
    "quartiereLabels.NIL.replace(to_replace='MAGENTA - S.VITTORE', value='MAGENTA - S. VITTORE', inplace=True)\n",
    "\n",
    "quartieriData = gpd.read_file('../data/Milano_quartieri.geojson')\n",
    "# join\n",
    "quartiereLabels = quartiereLabels.join(quartieriData[['NIL', 'ID_NIL']].set_index('NIL'), on='NIL')\n",
    "quartiereLabels = quartiereLabels.set_index(sezNameCol)\n",
    "\n",
    "assert not any(quartiereLabels.ID_NIL.isnull()), 'Typos in NIL field'"
   ]
  },
  {
   "cell_type": "code",
   "execution_count": null,
   "metadata": {},
   "outputs": [],
   "source": [
    "joinedData = joinedData.join(quartiereLabels, on=sezNameCol)\n",
    "joinedData = joinedData[~joinedData.ID_NIL.isnull()]\n",
    "joinedData.ID_NIL = joinedData.ID_NIL.astype(int)\n",
    "#joinedData.to_csv('test.csv')"
   ]
  },
  {
   "cell_type": "code",
   "execution_count": null,
   "metadata": {},
   "outputs": [],
   "source": [
    "quartiereLabels"
   ]
  },
  {
   "cell_type": "code",
   "execution_count": null,
   "metadata": {},
   "outputs": [],
   "source": [
    "# rename columns\n",
    "joinedData.rename({'NIL':'quartiere', 'ID_NIL': 'IDquartiere'}, axis='columns', inplace=True)\n"
   ]
  },
  {
   "cell_type": "code",
   "execution_count": null,
   "metadata": {},
   "outputs": [],
   "source": [
    "joinedData.to_file('../final/Milano_sezioni.geojson', driver='GeoJSON')"
   ]
  },
  {
   "cell_type": "code",
   "execution_count": null,
   "metadata": {},
   "outputs": [],
   "source": [
    "zz = gpd.read_file('../final/Milano_sezioni.geojson')"
   ]
  },
  {
   "cell_type": "code",
   "execution_count": null,
   "metadata": {},
   "outputs": [],
   "source": [
    "zz"
   ]
  },
  {
   "cell_type": "code",
   "execution_count": null,
   "metadata": {},
   "outputs": [],
   "source": [
    "# export as csv to final folder\n",
    "for city, cityData in dataDict.items():\n",
    "    cityData.to_csv('../final/'+city+'_cpa_2011.csv', sep=';')"
   ]
  }
 ],
 "metadata": {
  "kernelspec": {
   "display_name": "Python 3",
   "language": "python",
   "name": "python3"
  },
  "language_info": {
   "codemirror_mode": {
    "name": "ipython",
    "version": 3
   },
   "file_extension": ".py",
   "mimetype": "text/x-python",
   "name": "python",
   "nbconvert_exporter": "python",
   "pygments_lexer": "ipython3",
   "version": "3.5.4"
  }
 },
 "nbformat": 4,
 "nbformat_minor": 2
}
