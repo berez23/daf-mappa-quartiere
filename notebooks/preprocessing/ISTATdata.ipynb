{
 "cells": [
  {
   "cell_type": "markdown",
   "metadata": {},
   "source": [
    "## Loading and preprocessing ISTAT data"
   ]
  },
  {
   "cell_type": "markdown",
   "metadata": {},
   "source": [
    "Processing pipeline to collect Istat cpa 2011 data for selected cities from downloaded data dump."
   ]
  },
  {
   "cell_type": "code",
   "execution_count": null,
   "metadata": {},
   "outputs": [],
   "source": [
    "import numpy as np\n",
    "import pandas as pd\n",
    "import geopandas as gpd\n",
    "import matplotlib.pyplot as plt\n",
    "from os import path, listdir\n",
    "import shapely"
   ]
  },
  {
   "cell_type": "code",
   "execution_count": null,
   "metadata": {},
   "outputs": [],
   "source": [
    "## TODO: find way to put this into some global settings\n",
    "import os\n",
    "import sys\n",
    "# go up two levels in path\n",
    "nb_dir = os.path.dirname(os.path.dirname(os.getcwd()))\n",
    "if nb_dir not in sys.path:\n",
    "    sys.path.append(nb_dir)\n",
    "\n",
    "from references import common_cfg\n",
    "sezNameCol = common_cfg.sezioneColName"
   ]
  },
  {
   "cell_type": "code",
   "execution_count": null,
   "metadata": {},
   "outputs": [],
   "source": [
    "## Loading ISTAT data\n",
    "fileList = common_cfg.get_istat_filelist()\n",
    "dfList = []\n",
    "dataDict = {}\n",
    "for filename in fileList:\n",
    "    regionData = pd.read_csv(\n",
    "        path.join(common_cfg.cpaPath, filename), sep=';', encoding='latin').set_index('SEZ2011')\n",
    "    # extract the councils we are intersted in\n",
    "    for city in common_cfg.cityList:\n",
    "        cityData = regionData[regionData.COMUNE==city]\n",
    "        if cityData.size>0:\n",
    "            dataDict[city] = cityData\n",
    "            \n",
    "# export as csv to final folder for every city\n",
    "for city, cityData in dataDict.items():\n",
    "    pass\n",
    "    #cityData.to_csv('../../data/processed/istat_cpa_2011/' + city + '_cpa_2011.csv', sep=';')"
   ]
  },
  {
   "cell_type": "markdown",
   "metadata": {},
   "source": [
    "### Process ISTAT data for Milano to assign a quartiere label to each sezione"
   ]
  },
  {
   "cell_type": "code",
   "execution_count": null,
   "metadata": {},
   "outputs": [],
   "source": [
    "# Join sez geofile for Milano - bespoke processing\n",
    "shapeDataMilano = gpd.read_file('../../data/raw/Milano_specific/Milano_sezioniShapefile')\n",
    "\n",
    "# Convert to epsg 4326\n",
    "shapeDataMilano = shapeDataMilano.to_crs({'init':'epsg:4326'})\n",
    "\n",
    "# These aren't exactly equal to 1, need to check mismatches in joining\n",
    "print(shapeDataMilano[sezNameCol].isin(dataDict['Milano'].index).mean())\n",
    "print(dataDict['Milano'].index.isin(shapeDataMilano[sezNameCol]).mean())\n",
    "\n",
    "joinedData = pd.merge(shapeDataMilano, dataDict['Milano'], how='inner',\n",
    "                      right_index=True, left_on=common_cfg.sezioneColName)\n",
    "# Cast as int\n",
    "joinedData[sezNameCol] = joinedData[sezNameCol].astype(float)"
   ]
  },
  {
   "cell_type": "code",
   "execution_count": null,
   "metadata": {},
   "outputs": [],
   "source": [
    "# collect quartiere label\n",
    "quartiereLabels = pd.read_csv('../../data/raw/Milano_specific/Milano_sezToQuartieri.csv')\n",
    "\n",
    "# fix typo\n",
    "quartiereLabels.NIL.replace(to_replace='MAGENTA - S.VITTORE', value='MAGENTA - S. VITTORE', inplace=True)\n",
    "\n",
    "# rename to match common config\n",
    "quartiereLabels.rename(\n",
    "    columns={'NIL': common_cfg.quartiereDescColName}, inplace=True)\n",
    "\n",
    "# load name-id table for quartieri\n",
    "quartieriData = gpd.read_file('../../data/raw/Milano_specific/Milano_quartieri.geojson')\n",
    "\n",
    "# join\n",
    "quartiereLabels = quartiereLabels.join(\n",
    "    quartieriData[[common_cfg.quartiereDescColName,\n",
    "                   common_cfg.IdQuartiereColName]].set_index(\n",
    "        common_cfg.quartiereDescColName), on=common_cfg.quartiereDescColName)\n",
    "quartiereLabels = quartiereLabels.set_index(sezNameCol)\n",
    "\n",
    "assert not any(quartiereLabels[common_cfg.IdQuartiereColName].isnull()), 'Typos in NIL field'"
   ]
  },
  {
   "cell_type": "code",
   "execution_count": null,
   "metadata": {},
   "outputs": [],
   "source": [
    "joinedData = joinedData.join(quartiereLabels, on=sezNameCol)\n",
    "joinedData = joinedData[~joinedData[common_cfg.IdQuartiereColName].isnull()]\n",
    "joinedData[common_cfg.IdQuartiereColName] = joinedData[common_cfg.IdQuartiereColName].astype(int)"
   ]
  },
  {
   "cell_type": "code",
   "execution_count": null,
   "metadata": {},
   "outputs": [],
   "source": [
    "outMilanoFilename = '../../data/processed/Milano_sezioni.geojson'\n",
    "joinedData.to_file(outMilanoFilename, driver='GeoJSON')"
   ]
  },
  {
   "cell_type": "code",
   "execution_count": null,
   "metadata": {},
   "outputs": [],
   "source": [
    "# check loading\n",
    "print(gpd.read_file(outMilanoFilename))"
   ]
  },
  {
   "cell_type": "markdown",
   "metadata": {},
   "source": [
    "### Process ISTAT data for Turin to assign a circoscrizione label and a \"former neighbourhood\" to each sezione"
   ]
  },
  {
   "cell_type": "markdown",
   "metadata": {},
   "source": [
    "Data for \"Circoscrizioni\", \"Quartieri\" and \"Zone statistiche\" are already stored in DAF under \"comune_torino_csi\". \n",
    "\n",
    "They are private, in the future we can get data using API."
   ]
  },
  {
   "cell_type": "code",
   "execution_count": null,
   "metadata": {},
   "outputs": [],
   "source": [
    "#city\n",
    "selected_city = \"Torino\"\n",
    "#prefix for ISTAT SEZ2011\n",
    "prefix_torino = 12720000000\n",
    "\n",
    "# load name-id table for circoscrizioni, quartieri and sezioni censimento\n",
    "circoscrizioniData = gpd.read_file('../../data/raw/Torino_specific/circoscrizioni_wgs84.geojson')\n",
    "\n",
    "sezioniData = gpd.read_file ('../../data/raw/Torino_specific/sezioni_censimento_wgs84.geojson')\n",
    "sezioniData.rename({'SEZCENS': sezNameCol}, inplace=True, axis=1)\n",
    "#add prefix to Join ISTAT\n",
    "sezioniData[sezNameCol] = sezioniData[sezNameCol] + prefix_torino\n",
    "\n",
    "quartieriData = gpd.read_file('../../data/raw/Torino_specific/ex_quartieri_wsg84.geojson')"
   ]
  },
  {
   "cell_type": "code",
   "execution_count": null,
   "metadata": {},
   "outputs": [],
   "source": [
    "quartieriData.plot()\n",
    "#circoscrizioniData.plot()"
   ]
  },
  {
   "cell_type": "code",
   "execution_count": null,
   "metadata": {},
   "outputs": [],
   "source": [
    "#cast sezcens to float, prevents overflow...\n",
    "sezioniData[sezNameCol] = sezioniData[sezNameCol].astype(float)\n",
    "\n",
    "# append centroid value and use it to do the spatial join\n",
    "savePolygon = sezioniData['geometry'].copy()\n",
    "sezioniData['geometry'] = sezioniData.geometry.centroid\n",
    "\n",
    "joinedTorino = gpd.sjoin(sezioniData, quartieriData, how=\"left\", op='within')\n",
    "\n",
    "# restore full geometry\n",
    "joinedTorino['geometry'] = savePolygon"
   ]
  },
  {
   "cell_type": "code",
   "execution_count": null,
   "metadata": {},
   "outputs": [],
   "source": [
    "joinedTorino['geometry'] = savePolygon"
   ]
  },
  {
   "cell_type": "code",
   "execution_count": null,
   "metadata": {},
   "outputs": [],
   "source": [
    "assert sum(joinedTorino.ID_QUART.isnull()) == 65, 'Unexpected number of non matching sections, found %i' % \\\n",
    "    sum(joinedTorino.ID_QUART.isnull())\n",
    "assert all(joinedTorino.NRESID[joinedTorino.ID_QUART.isnull()].isnull()), 'Residents in sections to drop'\n",
    "# ! DROP non matching sections\n",
    "joinedTorino = joinedTorino[~joinedTorino.ID_QUART.isnull()]"
   ]
  },
  {
   "cell_type": "code",
   "execution_count": null,
   "metadata": {},
   "outputs": [],
   "source": [
    "joinedTorino.rename({'SUPERF':'SHAPE_AREA',\n",
    "                     'ID_QUART': common_cfg.IdQuartiereColName\n",
    "                    },axis=1, inplace=True)"
   ]
  },
  {
   "cell_type": "code",
   "execution_count": null,
   "metadata": {},
   "outputs": [],
   "source": [
    "#cast sezcens to int\n",
    "joinedTorino.NCIRCO = sezioniData.NCIRCO.astype(int)\n",
    "joinedTorino[common_cfg.IdQuartiereColName] = joinedTorino[common_cfg.IdQuartiereColName].astype(int)\n",
    "\n",
    "#set index\n",
    "joinedTorino.set_index(joinedTorino[common_cfg.sezioneColName], inplace=True)"
   ]
  },
  {
   "cell_type": "code",
   "execution_count": null,
   "metadata": {},
   "outputs": [],
   "source": [
    "# These aren't exactly equal to 1, need to check mismatches in joining\n",
    "print(joinedTorinoFull[sezNameCol].isin(dataDict[selected_city].index).mean())\n",
    "print(dataDict[selected_city].index.isin(joinedTorinoFull[sezNameCol]).mean())\n",
    "\n",
    "joinedTorinoFull = pd.merge(joinedTorino, dataDict[selected_city], how='inner',\n",
    "                      right_index=True, left_index=True)"
   ]
  },
  {
   "cell_type": "code",
   "execution_count": null,
   "metadata": {},
   "outputs": [],
   "source": [
    "#Save Final geojson\n",
    "outFilename = '../../data/processed/'+selected_city+'_sezioni.geojson'\n",
    "joinedTorinoFull.to_file(outFilename, driver='GeoJSON')"
   ]
  },
  {
   "cell_type": "markdown",
   "metadata": {},
   "source": [
    "### Check Population and Section data Istat 2011 and Turin 2017"
   ]
  },
  {
   "cell_type": "code",
   "execution_count": null,
   "metadata": {},
   "outputs": [],
   "source": [
    "# ISTAT Turin\n",
    "istatData = dataDict[selected_city] #Population from ISTAT (2011)\n",
    "popTotIstat = istatData.P1.sum()\n",
    "popMaxTotIstat = istatData.P1.max()\n",
    "popMinTotIstat = istatData.P1.min()\n",
    "sezTotIstat = istatData.NSEZ.count()\n",
    "\n",
    "print (\"Popolazione 2011 da ISTAT: \", popTotIstat, \"Sezioni:\" ,sezTotIstat, \"Max sezione:\", popMaxTotIstat, \"Mix sezione:\", popMinTotIstat, )"
   ]
  },
  {
   "cell_type": "code",
   "execution_count": null,
   "metadata": {},
   "outputs": [],
   "source": [
    "#Population from Turin (2017)\n",
    "popTotSezioni= joinedTorinoFull.NRESID.sum()\n",
    "popMaxSezioni= joinedTorinoFull.NRESID.max()\n",
    "popMinSezioni= joinedTorinoFull.NRESID.min()\n",
    "sezTotSezioni = joinedTorinoFull[sezNameCol].count()\n",
    "print (\"Popolazione 2017 da comune: \", popTotSezioni ,\"Sezioni:\" ,sezTotSezioni, \"Max sezione:\", popMaxSezioni, \"Min sezione:\", popMinSezioni, )\n",
    "print (\"Diff pop:\", popTotSezioni-popTotIstat, \" -- Diff sezioni:\",sezTotSezioni- sezTotIstat)"
   ]
  },
  {
   "cell_type": "code",
   "execution_count": null,
   "metadata": {},
   "outputs": [],
   "source": [
    "#Check empty sezioni \n",
    "print( \"Istat 2011: \",len(istatData.loc[istatData.P1 == 0, :]))"
   ]
  }
 ],
 "metadata": {
  "kernelspec": {
   "display_name": "Python 3",
   "language": "python",
   "name": "python3"
  },
  "language_info": {
   "codemirror_mode": {
    "name": "ipython",
    "version": 3
   },
   "file_extension": ".py",
   "mimetype": "text/x-python",
   "name": "python",
   "nbconvert_exporter": "python",
   "pygments_lexer": "ipython3",
   "version": "3.5.4"
  }
 },
 "nbformat": 4,
 "nbformat_minor": 2
}
