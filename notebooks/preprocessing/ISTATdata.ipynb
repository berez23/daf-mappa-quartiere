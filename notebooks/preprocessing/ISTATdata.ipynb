{
 "cells": [
  {
   "cell_type": "markdown",
   "metadata": {},
   "source": [
    "## Loading and preprocessing ISTAT data"
   ]
  },
  {
   "cell_type": "markdown",
   "metadata": {},
   "source": [
    "Processing pipeline to collect Istat cpa 2011 data for selected cities from downloaded data dump."
   ]
  },
  {
   "cell_type": "code",
   "execution_count": null,
   "metadata": {},
   "outputs": [],
   "source": [
    "import numpy as np\n",
    "import pandas as pd\n",
    "import geopandas as gpd\n",
    "import matplotlib.pyplot as plt\n",
    "from os import path, listdir\n",
    "import shapely"
   ]
  },
  {
   "cell_type": "code",
   "execution_count": null,
   "metadata": {},
   "outputs": [],
   "source": [
    "## TODO: find way to put this into some global settings\n",
    "import os\n",
    "import sys\n",
    "# go up two levels in path\n",
    "nb_dir = os.path.dirname(os.path.dirname(os.getcwd()))\n",
    "if nb_dir not in sys.path:\n",
    "    sys.path.append(nb_dir)\n",
    "\n",
    "from references import common_cfg\n",
    "sect_name_col = common_cfg.sezione_col_name"
   ]
  },
  {
   "cell_type": "code",
   "execution_count": null,
   "metadata": {},
   "outputs": [],
   "source": [
    "## Loading ISTAT data\n",
    "data_dict = {}\n",
    "for filename in common_cfg.get_istat_filelist():\n",
    "    regionData = pd.read_csv(\n",
    "        path.join(common_cfg.cpa_path, filename), sep=';', encoding='latin').set_index('SEZ2011')\n",
    "    # extract the councils we are intersted in\n",
    "    for city in common_cfg.city_list:\n",
    "        cityData = regionData[regionData.COMUNE==city]\n",
    "        if cityData.size>0:\n",
    "            data_dict[city] = cityData\n",
    "            \n",
    "# export as csv to final folder for every city\n",
    "for city, cityData in data_dict.items():\n",
    "    pass\n",
    "    #cityData.to_csv('../../data/processed/istat_cpa_2011/' + city + '_cpa_2011.csv', sep=';')"
   ]
  },
  {
   "cell_type": "markdown",
   "metadata": {},
   "source": [
    "### Process ISTAT data for Roma to assign a quartiere label to each sezione"
   ]
  },
  {
   "cell_type": "code",
   "execution_count": null,
   "metadata": {},
   "outputs": [],
   "source": [
    "city_name = 'Roma'\n",
    "shapedata_lazio = gpd.read_file('../../data/raw/Roma_specific/reg_lazio_sezioni')\n",
    "shapedata_lazio = shapedata_lazio.to_crs({'init':'epsg:4326'})\n",
    "shapedata_lazio.PRO_COM = shapedata_lazio.PRO_COM.astype(int)"
   ]
  },
  {
   "cell_type": "code",
   "execution_count": null,
   "metadata": {},
   "outputs": [],
   "source": [
    "shape_sez_roma = shapedata_lazio[shapedata_lazio.PRO_COM == 58091].reset_index(drop=True)"
   ]
  },
  {
   "cell_type": "code",
   "execution_count": null,
   "metadata": {},
   "outputs": [],
   "source": [
    "shape_sez_roma.plot()"
   ]
  },
  {
   "cell_type": "code",
   "execution_count": null,
   "metadata": {},
   "outputs": [],
   "source": [
    "# These aren't exactly equal to 1, need to check mismatches in joining\n",
    "print(shape_sez_roma[sect_name_col].isin(data_dict[city_name].index).mean())\n",
    "print(data_dict[city_name].index.isin(shape_sez_roma[sect_name_col]).mean())\n",
    "\n",
    "sezioni_data = pd.merge(shape_sez_roma, data_dict[city_name], how='inner',\n",
    "                      right_index=True, left_on=common_cfg.sezione_col_name)\n",
    "# Cast as float to prevent overflow in saving\n",
    "sezioni_data[sect_name_col] = sezioni_data[sect_name_col].astype(float)"
   ]
  },
  {
   "cell_type": "code",
   "execution_count": null,
   "metadata": {},
   "outputs": [],
   "source": [
    "# 8% of sections are missing in istat data, that is quite a lot. The final plot shows areas that need some checking:\n",
    "sezioni_data.plot()"
   ]
  },
  {
   "cell_type": "code",
   "execution_count": null,
   "metadata": {},
   "outputs": [],
   "source": [
    "# append centroid value and use it to do the spatial join\n",
    "save_polygon = sezioni_data['geometry'].copy()\n",
    "sezioni_data['geometry'] = sezioni_data.geometry.centroid\n",
    "\n",
    "quartieri_data = gpd.read_file('../../data/raw/Roma_specific/Roma_quartieri.geojson')\n",
    "# join\n",
    "joined_roma = gpd.sjoin(sezioni_data, quartieri_data, how=\"left\", op='within')\n",
    "\n",
    "# restore full geometry\n",
    "joined_roma['geometry'] = save_polygon\n",
    "\n",
    "# check missing values\n",
    "print(sum(joined_roma[common_cfg.id_quartiere_col_name].isnull()))"
   ]
  },
  {
   "cell_type": "code",
   "execution_count": null,
   "metadata": {},
   "outputs": [],
   "source": [
    "joined_roma = joined_roma[~joined_roma[common_cfg.id_quartiere_col_name].isnull()]\n",
    "joined_roma[common_cfg.id_quartiere_col_name] = joined_roma[\n",
    "    common_cfg.id_quartiere_col_name].astype(str)\n",
    "\n",
    "joined_roma.plot()"
   ]
  },
  {
   "cell_type": "code",
   "execution_count": null,
   "metadata": {},
   "outputs": [],
   "source": [
    "out_filename = '../../data/processed/%s_sezioni.geojson' % city_name\n",
    "joined_roma.to_file(out_filename, driver='GeoJSON')"
   ]
  },
  {
   "cell_type": "code",
   "execution_count": null,
   "metadata": {},
   "outputs": [],
   "source": [
    "# check loading\n",
    "print(gpd.read_file(out_filename))"
   ]
  },
  {
   "cell_type": "markdown",
   "metadata": {},
   "source": [
    "### Process ISTAT data for Firenze to assign a quartiere label to each sezione"
   ]
  },
  {
   "cell_type": "code",
   "execution_count": null,
   "metadata": {},
   "outputs": [],
   "source": [
    "city_name = 'Firenze'\n",
    "shapedata_toscana = gpd.read_file('../../data/raw/Firenze_specific/reg_toscana_sez')\n",
    "shapedata_toscana = shapedata_toscana.to_crs({'init':'epsg:4326'})\n",
    "shapedata_toscana.PRO_COM = shapedata_toscana.PRO_COM.astype(int)"
   ]
  },
  {
   "cell_type": "code",
   "execution_count": null,
   "metadata": {},
   "outputs": [],
   "source": [
    "shape_sez_firenze = shapedata_toscana[shapedata_toscana.PRO_COM == 48017].reset_index(drop=True)"
   ]
  },
  {
   "cell_type": "code",
   "execution_count": null,
   "metadata": {},
   "outputs": [],
   "source": [
    "shape_sez_firenze.plot()"
   ]
  },
  {
   "cell_type": "code",
   "execution_count": null,
   "metadata": {},
   "outputs": [],
   "source": [
    "city_name = 'Firenze'\n",
    "# These aren't exactly equal to 1, need to check mismatches in joining\n",
    "print(shape_sez_firenze[sect_name_col].isin(data_dict[city_name].index).mean())\n",
    "print(data_dict[city_name].index.isin(shape_sez_firenze[sect_name_col]).mean())\n",
    "\n",
    "sezioni_data = pd.merge(shape_sez_firenze, data_dict[city_name], how='inner',\n",
    "                      right_index=True, left_on=common_cfg.sezione_col_name)\n",
    "# Cast as int\n",
    "sezioni_data[sect_name_col] = sezioni_data[sect_name_col].astype(float)"
   ]
  },
  {
   "cell_type": "code",
   "execution_count": null,
   "metadata": {},
   "outputs": [],
   "source": [
    "# append centroid value and use it to do the spatial join\n",
    "save_polygon = sezioni_data['geometry'].copy()\n",
    "sezioni_data['geometry'] = sezioni_data.geometry.centroid\n",
    "\n",
    "quartieri_data = gpd.read_file('../../data/raw/Firenze_specific/Firenze_quartieri.geojson')\n",
    "# join\n",
    "joined_firenze = gpd.sjoin(\n",
    "    sezioni_data, quartieri_data, how=\"left\", op='within')\n",
    "\n",
    "# restore full geometry\n",
    "joined_firenze['geometry'] = save_polygon\n",
    "\n",
    "# check missing values\n",
    "print(sum(joined_firenze[common_cfg.id_quartiere_col_name].isnull()))"
   ]
  },
  {
   "cell_type": "code",
   "execution_count": null,
   "metadata": {},
   "outputs": [],
   "source": [
    "joined_firenze = joined_firenze[~joined_firenze[common_cfg.id_quartiere_col_name].isnull()]\n",
    "joined_firenze[common_cfg.id_quartiere_col_name] = joined_firenze[\n",
    "    common_cfg.id_quartiere_col_name].astype(int)"
   ]
  },
  {
   "cell_type": "code",
   "execution_count": null,
   "metadata": {},
   "outputs": [],
   "source": [
    "out_filename = '../../data/processed/%s_sezioni.geojson' % city_name\n",
    "joined_firenze.to_file(out_filename, driver='GeoJSON')"
   ]
  },
  {
   "cell_type": "code",
   "execution_count": null,
   "metadata": {},
   "outputs": [],
   "source": [
    "# check loading\n",
    "print(gpd.read_file(out_filename))"
   ]
  },
  {
   "cell_type": "markdown",
   "metadata": {},
   "source": [
    "### Process ISTAT data for Bari to assign a quartiere label to each sezione"
   ]
  },
  {
   "cell_type": "code",
   "execution_count": null,
   "metadata": {},
   "outputs": [],
   "source": [
    "city_name = 'Bari'\n",
    "shapedatapuglia = gpd.read_file('../../data/raw/Bari_specific/reg_puglia_sez')\n",
    "shapedatapuglia = shapedatapuglia.to_crs({'init':'epsg:4326'})\n",
    "shapedatapuglia.PRO_COM = shapedatapuglia.PRO_COM.astype(int)"
   ]
  },
  {
   "cell_type": "code",
   "execution_count": null,
   "metadata": {},
   "outputs": [],
   "source": [
    "shape_sez_bari = shapedatapuglia[shapedatapuglia.PRO_COM == 72006].reset_index(drop=True)"
   ]
  },
  {
   "cell_type": "code",
   "execution_count": null,
   "metadata": {},
   "outputs": [],
   "source": [
    "shape_sez_bari.plot()"
   ]
  },
  {
   "cell_type": "code",
   "execution_count": null,
   "metadata": {},
   "outputs": [],
   "source": [
    "city_name = 'Bari'\n",
    "# These aren't exactly equal to 1, need to check mismatches in joining\n",
    "print(shape_sez_bari[sect_name_col].isin(data_dict[city_name].index).mean())\n",
    "print(data_dict[city_name].index.isin(shape_sez_bari[sect_name_col]).mean())\n",
    "\n",
    "sezioni_data = pd.merge(shape_sez_bari, data_dict[city_name], how='inner',\n",
    "                      right_index=True, left_on=common_cfg.sezione_col_name)\n",
    "# Cast as int\n",
    "sezioni_data[sect_name_col] = sezioni_data[sect_name_col].astype(float)"
   ]
  },
  {
   "cell_type": "code",
   "execution_count": null,
   "metadata": {},
   "outputs": [],
   "source": [
    "# append centroid value and use it to do the spatial join\n",
    "save_polygon = sezioni_data['geometry'].copy()\n",
    "sezioni_data['geometry'] = sezioni_data.geometry.centroid\n",
    "\n",
    "quartieri_data = gpd.read_file('../../data/raw/Bari_specific/Bari_quartieri.geojson')\n",
    "quartieri_data.rename({'id':common_cfg.id_quartiere_col_name,\n",
    "                       'nome': common_cfg.quartiere_desc_col_name},\n",
    "                        axis=1, inplace=True)\n",
    "\n",
    "joined_bari = gpd.sjoin(\n",
    "    sezioni_data, quartieri_data, how=\"left\", op='within')\n",
    "\n",
    "# restore full geometry\n",
    "joined_bari['geometry'] = save_polygon\n",
    "\n",
    "# check missing values\n",
    "print(sum(joined_bari[common_cfg.id_quartiere_col_name].isnull()))"
   ]
  },
  {
   "cell_type": "code",
   "execution_count": null,
   "metadata": {},
   "outputs": [],
   "source": [
    "joined_bari = joined_bari[~joined_bari[common_cfg.id_quartiere_col_name].isnull()]\n",
    "joined_bari[common_cfg.id_quartiere_col_name] = joined_bari[\n",
    "    common_cfg.id_quartiere_col_name].astype(int)"
   ]
  },
  {
   "cell_type": "code",
   "execution_count": null,
   "metadata": {},
   "outputs": [],
   "source": [
    "out_bari_filename = '../../data/processed/Bari_sezioni.geojson'\n",
    "joined_bari.to_file(out_bari_filename, driver='GeoJSON')"
   ]
  },
  {
   "cell_type": "code",
   "execution_count": null,
   "metadata": {},
   "outputs": [],
   "source": [
    "# check loading\n",
    "print(gpd.read_file(out_bari_filename))"
   ]
  },
  {
   "cell_type": "markdown",
   "metadata": {},
   "source": [
    "### Process ISTAT data for Turin to assign a circoscrizione label and a \"former neighbourhood\" to each sezione"
   ]
  },
  {
   "cell_type": "markdown",
   "metadata": {},
   "source": [
    "Data for \"Circoscrizioni\", \"Quartieri\" and \"Zone statistiche\" are already stored in DAF under \"comune_torino_csi\". \n",
    "\n",
    "They are private, in the future we can get data using API."
   ]
  },
  {
   "cell_type": "code",
   "execution_count": null,
   "metadata": {},
   "outputs": [],
   "source": [
    "#city\n",
    "selected_city = \"Torino\"\n",
    "#prefix for ISTAT SEZ2011\n",
    "prefix_torino = 12720000000\n",
    "\n",
    "# load name-id table for circoscrizioni, quartieri and sezioni censimento\n",
    "circoscrizioniData = gpd.read_file('../../data/raw/Torino_specific/circoscrizioni_wgs84.geojson')\n",
    "\n",
    "sezioniData = gpd.read_file ('../../data/raw/Torino_specific/sezioni_censimento_wgs84.geojson')\n",
    "sezioniData.rename({'SEZCENS': sect_name_col}, inplace=True, axis=1)\n",
    "#add prefix to Join ISTAT\n",
    "sezioniData[sect_name_col] = sezioniData[sect_name_col] + prefix_torino\n",
    "\n",
    "quartieriData = gpd.read_file('../../data/raw/Torino_specific/ex_quartieri_wsg84.geojson')"
   ]
  },
  {
   "cell_type": "code",
   "execution_count": null,
   "metadata": {},
   "outputs": [],
   "source": [
    "quartieriData.plot()\n",
    "#circoscrizioniData.plot()"
   ]
  },
  {
   "cell_type": "code",
   "execution_count": null,
   "metadata": {},
   "outputs": [],
   "source": [
    "#cast sezcens to float, prevents overflow...\n",
    "sezioniData[sect_name_col] = sezioniData[sect_name_col].astype(float)\n",
    "\n",
    "# append centroid value and use it to do the spatial join\n",
    "savePolygon = sezioniData['geometry'].copy()\n",
    "sezioniData['geometry'] = sezioniData.geometry.centroid\n",
    "\n",
    "joinedTorino = gpd.sjoin(sezioniData, quartieriData, how=\"left\", op='within')\n",
    "\n",
    "# restore full geometry\n",
    "joinedTorino['geometry'] = savePolygon"
   ]
  },
  {
   "cell_type": "code",
   "execution_count": null,
   "metadata": {},
   "outputs": [],
   "source": [
    "joinedTorino['geometry'] = savePolygon"
   ]
  },
  {
   "cell_type": "code",
   "execution_count": null,
   "metadata": {},
   "outputs": [],
   "source": [
    "assert sum(joinedTorino.ID_QUART.isnull()) == 65, 'Unexpected number of non matching sections, found %i' % \\\n",
    "    sum(joinedTorino.ID_QUART.isnull())\n",
    "assert all(joinedTorino.NRESID[joinedTorino.ID_QUART.isnull()].isnull()), 'Residents in sections to drop'\n",
    "# ! DROP non matching sections\n",
    "joinedTorino = joinedTorino[~joinedTorino.ID_QUART.isnull()]"
   ]
  },
  {
   "cell_type": "code",
   "execution_count": null,
   "metadata": {},
   "outputs": [],
   "source": [
    "joinedTorino.rename({'SUPERF':'SHAPE_AREA',\n",
    "                     'ID_QUART': common_cfg.IdQuartiereColName\n",
    "                    },axis=1, inplace=True)"
   ]
  },
  {
   "cell_type": "code",
   "execution_count": null,
   "metadata": {},
   "outputs": [],
   "source": [
    "#cast sezcens to int\n",
    "joinedTorino.NCIRCO = sezioniData.NCIRCO.astype(int)\n",
    "joinedTorino[common_cfg.IdQuartiereColName] = joinedTorino[common_cfg.IdQuartiereColName].astype(int)\n",
    "\n",
    "#set index\n",
    "joinedTorino.set_index(joinedTorino[common_cfg.sezioneColName], inplace=True)"
   ]
  },
  {
   "cell_type": "code",
   "execution_count": null,
   "metadata": {},
   "outputs": [],
   "source": [
    "# These aren't exactly equal to 1, need to check mismatches in joining\n",
    "print(joinedTorinoFull[sect_name_col].isin(dataDict[selected_city].index).mean())\n",
    "print(dataDict[selected_city].index.isin(joinedTorinoFull[sect_name_col]).mean())\n",
    "\n",
    "joinedTorinoFull = pd.merge(joinedTorino, dataDict[selected_city], how='inner',\n",
    "                      right_index=True, left_index=True)"
   ]
  },
  {
   "cell_type": "code",
   "execution_count": null,
   "metadata": {},
   "outputs": [],
   "source": [
    "#Save Final geojson\n",
    "outFilename = '../../data/processed/'+selected_city+'_sezioni.geojson'\n",
    "joinedTorinoFull.to_file(outFilename, driver='GeoJSON')"
   ]
  },
  {
   "cell_type": "markdown",
   "metadata": {},
   "source": [
    "### Check Population and Section data Istat 2011 and Turin 2017"
   ]
  },
  {
   "cell_type": "code",
   "execution_count": null,
   "metadata": {},
   "outputs": [],
   "source": [
    "# ISTAT Turin\n",
    "istatData = dataDict[selected_city] #Population from ISTAT (2011)\n",
    "popTotIstat = istatData.P1.sum()\n",
    "popMaxTotIstat = istatData.P1.max()\n",
    "popMinTotIstat = istatData.P1.min()\n",
    "sezTotIstat = istatData.NSEZ.count()\n",
    "\n",
    "print (\"Popolazione 2011 da ISTAT: \", popTotIstat, \"Sezioni:\" ,sezTotIstat, \"Max sezione:\", popMaxTotIstat, \"Mix sezione:\", popMinTotIstat, )"
   ]
  },
  {
   "cell_type": "code",
   "execution_count": null,
   "metadata": {},
   "outputs": [],
   "source": [
    "#Population from Turin (2017)\n",
    "popTotSezioni= joinedTorinoFull.NRESID.sum()\n",
    "popMaxSezioni= joinedTorinoFull.NRESID.max()\n",
    "popMinSezioni= joinedTorinoFull.NRESID.min()\n",
    "sezTotSezioni = joinedTorinoFull[sect_name_col].count()\n",
    "print (\"Popolazione 2017 da comune: \", popTotSezioni ,\"Sezioni:\" ,sezTotSezioni, \"Max sezione:\", popMaxSezioni, \"Min sezione:\", popMinSezioni, )\n",
    "print (\"Diff pop:\", popTotSezioni-popTotIstat, \" -- Diff sezioni:\",sezTotSezioni- sezTotIstat)"
   ]
  },
  {
   "cell_type": "code",
   "execution_count": null,
   "metadata": {},
   "outputs": [],
   "source": [
    "#Check empty sezioni \n",
    "print( \"Istat 2011: \",len(istatData.loc[istatData.P1 == 0, :]))"
   ]
  },
  {
   "cell_type": "markdown",
   "metadata": {},
   "source": [
    "### Process ISTAT data for Milano to assign a quartiere label to each sezione"
   ]
  },
  {
   "cell_type": "code",
   "execution_count": null,
   "metadata": {},
   "outputs": [],
   "source": [
    "# Join sez geofile for Milano - bespoke processing\n",
    "shapeDataMilano = gpd.read_file('../../data/raw/Milano_specific/Milano_sezioniShapefile')\n",
    "\n",
    "# Convert to epsg 4326\n",
    "shapeDataMilano = shapeDataMilano.to_crs({'init':'epsg:4326'})\n",
    "\n",
    "# These aren't exactly equal to 1, need to check mismatches in joining\n",
    "print(shapeDataMilano[sect_name_col].isin(dataDict['Milano'].index).mean())\n",
    "print(dataDict['Milano'].index.isin(shapeDataMilano[sect_name_col]).mean())\n",
    "\n",
    "joinedData = pd.merge(shapeDataMilano, dataDict['Milano'], how='inner',\n",
    "                      right_index=True, left_on=common_cfg.sezioneColName)\n",
    "# Cast as int\n",
    "joinedData[sect_name_col] = joinedData[sect_name_col].astype(float)"
   ]
  },
  {
   "cell_type": "code",
   "execution_count": null,
   "metadata": {},
   "outputs": [],
   "source": [
    "# collect quartiere label\n",
    "quartiereLabels = pd.read_csv('../../data/raw/Milano_specific/Milano_sezToQuartieri.csv')\n",
    "\n",
    "# fix typo\n",
    "quartiereLabels.NIL.replace(to_replace='MAGENTA - S.VITTORE', value='MAGENTA - S. VITTORE', inplace=True)\n",
    "\n",
    "# rename to match common config\n",
    "quartiereLabels.rename(\n",
    "    columns={'NIL': common_cfg.quartiereDescColName}, inplace=True)\n",
    "\n",
    "# load name-id table for quartieri\n",
    "quartieriData = gpd.read_file('../../data/raw/Milano_specific/Milano_quartieri.geojson')\n",
    "\n",
    "# join\n",
    "quartiereLabels = quartiereLabels.join(\n",
    "    quartieriData[[common_cfg.quartiereDescColName,\n",
    "                   common_cfg.IdQuartiereColName]].set_index(\n",
    "        common_cfg.quartiereDescColName), on=common_cfg.quartiereDescColName)\n",
    "quartiereLabels = quartiereLabels.set_index(sect_name_col)\n",
    "\n",
    "assert not any(quartiereLabels[common_cfg.IdQuartiereColName].isnull()), 'Typos in NIL field'"
   ]
  },
  {
   "cell_type": "code",
   "execution_count": null,
   "metadata": {},
   "outputs": [],
   "source": [
    "joinedData = joinedData.join(quartiereLabels, on=sect_name_col)\n",
    "joinedData = joinedData[~joinedData[common_cfg.IdQuartiereColName].isnull()]\n",
    "joinedData[common_cfg.IdQuartiereColName] = joinedData[common_cfg.IdQuartiereColName].astype(int)"
   ]
  },
  {
   "cell_type": "code",
   "execution_count": null,
   "metadata": {},
   "outputs": [],
   "source": [
    "outMilanoFilename = '../../data/processed/Milano_sezioni.geojson'\n",
    "joinedData.to_file(outMilanoFilename, driver='GeoJSON')"
   ]
  },
  {
   "cell_type": "code",
   "execution_count": null,
   "metadata": {},
   "outputs": [],
   "source": [
    "# check loading\n",
    "print(gpd.read_file(outMilanoFilename))"
   ]
  }
 ],
 "metadata": {
  "kernelspec": {
   "display_name": "Python 3",
   "language": "python",
   "name": "python3"
  },
  "language_info": {
   "codemirror_mode": {
    "name": "ipython",
    "version": 3
   },
   "file_extension": ".py",
   "mimetype": "text/x-python",
   "name": "python",
   "nbconvert_exporter": "python",
   "pygments_lexer": "ipython3",
   "version": "3.5.4"
  }
 },
 "nbformat": 4,
 "nbformat_minor": 2
}
