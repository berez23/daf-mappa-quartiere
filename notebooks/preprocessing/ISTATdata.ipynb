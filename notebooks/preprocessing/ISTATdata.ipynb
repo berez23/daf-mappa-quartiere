{
 "cells": [
  {
   "cell_type": "markdown",
   "metadata": {},
   "source": [
    "## Loading and preprocessing ISTAT data"
   ]
  },
  {
   "cell_type": "markdown",
   "metadata": {},
   "source": [
    "Processing pipeline to collect Istat cpa 2011 data for selected cities from downloaded data dump."
   ]
  },
  {
   "cell_type": "code",
   "execution_count": null,
   "metadata": {},
   "outputs": [],
   "source": [
    "import numpy as np\n",
    "import pandas as pd\n",
    "import geopandas as gpd\n",
    "from os import path, listdir"
   ]
  },
  {
   "cell_type": "code",
   "execution_count": null,
   "metadata": {},
   "outputs": [],
   "source": [
    "## TODO: find way to put this into some global settings\n",
    "import os\n",
    "import sys\n",
    "# go up two levels in path\n",
    "nb_dir = os.path.dirname(os.path.dirname(os.getcwd()))\n",
    "if nb_dir not in sys.path:\n",
    "    sys.path.append(nb_dir)\n",
    "\n",
    "from references import commonCfg\n",
    "sezNameCol = commonCfg.sezioneColName"
   ]
  },
  {
   "cell_type": "code",
   "execution_count": null,
   "metadata": {},
   "outputs": [],
   "source": [
    "## Loading ISTAT data\n",
    "fileList = commonCfg.get_istat_filelist()\n",
    "dfList = []\n",
    "dataDict = {}\n",
    "for filename in fileList:\n",
    "    regionData = pd.read_csv(\n",
    "        path.join(commonCfg.cpaPath, filename), sep=';', encoding='latin').set_index('SEZ2011')\n",
    "    # extract the councils we are intersted in\n",
    "    for city in commonCfg.cityList:\n",
    "        cityData = regionData[regionData.COMUNE==city]\n",
    "        if cityData.size>0:\n",
    "            dataDict[city] = cityData\n",
    "            \n",
    "# export as csv to final folder\n",
    "for city, cityData in dataDict.items():\n",
    "    pass\n",
    "    #cityData.to_csv('../../data/processed/istat_cpa_2011/' + city + '_cpa_2011.csv', sep=';')"
   ]
  },
  {
   "cell_type": "markdown",
   "metadata": {},
   "source": [
    "### Process ISTAT data for Milano to assign a quartiere label to each sezione"
   ]
  },
  {
   "cell_type": "code",
   "execution_count": null,
   "metadata": {},
   "outputs": [],
   "source": [
    "# Join sez geofile for Milano - bespoke processing\n",
    "shapeDataMilano = gpd.read_file('../../data/raw/Milano_specific/Milano_sezioniShapefile')\n",
    "\n",
    "# These aren't exactly equal to 1, need to check mismatches in joining\n",
    "print(shapeDataMilano[sezNameCol].isin(dataDict['Milano'].index).mean())\n",
    "print(dataDict['Milano'].index.isin(shapeDataMilano[sezNameCol]).mean())\n",
    "\n",
    "joinedData = pd.merge(shapeDataMilano, dataDict['Milano'], how='inner',\n",
    "                      right_index=True, left_on=commonCfg.sezioneColName)\n",
    "# Cast as int\n",
    "joinedData[sezNameCol] = joinedData[sezNameCol].astype(int)"
   ]
  },
  {
   "cell_type": "code",
   "execution_count": null,
   "metadata": {},
   "outputs": [],
   "source": [
    "# collect quartiere label\n",
    "quartiereLabels = pd.read_csv('../../data/raw/Milano_specific/Milano_sezToQuartieri.csv')\n",
    "\n",
    "# fix typo\n",
    "quartiereLabels.NIL.replace(to_replace='MAGENTA - S.VITTORE', value='MAGENTA - S. VITTORE', inplace=True)\n",
    "\n",
    "# load name-id table for quartieri\n",
    "quartieriData = gpd.read_file('../../data/raw/Milano_specific/Milano_quartieri.geojson')\n",
    "\n",
    "# join\n",
    "quartiereLabels = quartiereLabels.join(quartieriData[['NIL', 'ID_NIL']].set_index('NIL'), on='NIL')\n",
    "quartiereLabels = quartiereLabels.set_index(sezNameCol)\n",
    "\n",
    "assert not any(quartiereLabels.ID_NIL.isnull()), 'Typos in NIL field'"
   ]
  },
  {
   "cell_type": "code",
   "execution_count": null,
   "metadata": {},
   "outputs": [],
   "source": [
    "joinedData = joinedData.join(quartiereLabels, on=sezNameCol)\n",
    "joinedData = joinedData[~joinedData.ID_NIL.isnull()]\n",
    "joinedData.ID_NIL = joinedData.ID_NIL.astype(int)\n",
    "#joinedData.to_csv('test.csv')"
   ]
  },
  {
   "cell_type": "code",
   "execution_count": null,
   "metadata": {},
   "outputs": [],
   "source": [
    "quartiereLabels"
   ]
  },
  {
   "cell_type": "code",
   "execution_count": null,
   "metadata": {},
   "outputs": [],
   "source": [
    "# rename columns to match standard config\n",
    "joinedData.rename({'NIL':commonCfg.quartiereDescColName, 'ID_NIL': commonCfg.IdQuartiereColName},\\\n",
    "                  axis='columns', inplace=True)\n"
   ]
  },
  {
   "cell_type": "code",
   "execution_count": null,
   "metadata": {},
   "outputs": [],
   "source": [
    "joinedData.to_file('../../data/processed/Milano_sezioni.geojson', driver='GeoJSON')"
   ]
  },
  {
   "cell_type": "code",
   "execution_count": null,
   "metadata": {},
   "outputs": [],
   "source": [
    "# check loading\n",
    "print(gpd.read_file('../../final/Milano_sezioni.geojson'))"
   ]
  }
 ],
 "metadata": {
  "kernelspec": {
   "display_name": "Python 3",
   "language": "python",
   "name": "python3"
  },
  "language_info": {
   "codemirror_mode": {
    "name": "ipython",
    "version": 3
   },
   "file_extension": ".py",
   "mimetype": "text/x-python",
   "name": "python",
   "nbconvert_exporter": "python",
   "pygments_lexer": "ipython3",
   "version": "3.5.4"
  }
 },
 "nbformat": 4,
 "nbformat_minor": 2
}
