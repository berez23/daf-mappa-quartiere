{
 "cells": [
  {
   "cell_type": "markdown",
   "metadata": {},
   "source": [
    "# Pre-process Biblioteche Mibact"
   ]
  },
  {
   "cell_type": "code",
   "execution_count": 1,
   "metadata": {},
   "outputs": [],
   "source": [
    "import pandas as pd\n",
    "import numpy as np\n",
    "import json"
   ]
  },
  {
   "cell_type": "code",
   "execution_count": 2,
   "metadata": {},
   "outputs": [],
   "source": [
    "# Load raw data\n",
    "with open('../../data/raw/cultura/biblioteche_mibact.json') as json_data:\n",
    "    d = json.load(json_data)\n",
    "    \n",
    "# Prendi le biblioteche\n",
    "data = d['biblioteche']"
   ]
  },
  {
   "cell_type": "markdown",
   "metadata": {},
   "source": [
    "### Identificazione caratteristiche di interesse\n",
    "\n",
    "|`accesso.portatori-handicap`|`accesso.riservato`|`cosice-identificativi.isil`|`denominazioni.ufficiale`|`ente`|`indirizzo.coordinate`|`indirizzo.via-piazza`|`tipologia-amministrativa`|`tipologia-funzionale`|\n",
    "|-------|-------|-------|-------|-------|-------|-------|-------|-------|-------|-------|\n",
    "|True|True|IT-AG0001|Biblioteca della Soprintendenza per i beni cul|Regione siciliana. Soprintendenza per i beni c|[37.3361677, 13.5880717]|viao ciao|comunale|pubblica|"
   ]
  },
  {
   "cell_type": "code",
   "execution_count": 3,
   "metadata": {},
   "outputs": [],
   "source": [
    "# Colonne scelte e costruite in modo che il valore che voglio è definito ralla chiave che lo identifica: key.value\n",
    "colonne = ['accesso.portatori-handicap','accesso.riservato','codici-identificativi.isil','denominazioni.ufficiale','ente','indirizzo.coordinate','indirizzo.via-piazza','tipologia-amministrativa','tipologia-funzionale']"
   ]
  },
  {
   "cell_type": "code",
   "execution_count": 4,
   "metadata": {},
   "outputs": [],
   "source": [
    "# Inizializza nuovo df\n",
    "df = pd.DataFrame()\n",
    "\n",
    "# Popola df\n",
    "for c in colonne:\n",
    "    # Distinguo tra chiave e valore che voglio\n",
    "    split_colonna = c.split('.')\n",
    "    \n",
    "    # Se c'è la distinzione chiave valore\n",
    "    if len(split_colonna)>1:\n",
    "        df[c] = np.array([data[i][c.split('.')[0]][c.split('.')[1]] for i in range(len(data))])\n",
    "    \n",
    "    else:\n",
    "        df[c] = np.array([data[i][c] for i in range(len(data))])"
   ]
  },
  {
   "cell_type": "code",
   "execution_count": 5,
   "metadata": {},
   "outputs": [],
   "source": [
    "df = df[['codici-identificativi.isil', 'denominazioni.ufficiale', 'ente',\n",
    "       'indirizzo.coordinate', 'indirizzo.via-piazza',\n",
    "       'tipologia-amministrativa', 'tipologia-funzionale','accesso.portatori-handicap', 'accesso.riservato']]"
   ]
  },
  {
   "cell_type": "code",
   "execution_count": 61,
   "metadata": {},
   "outputs": [],
   "source": [
    "to_drop = []\n",
    "for i,j in enumerate(df['indirizzo.coordinate']):\n",
    "    if len(j) != 2:\n",
    "        to_drop += [i]"
   ]
  },
  {
   "cell_type": "code",
   "execution_count": 63,
   "metadata": {},
   "outputs": [],
   "source": [
    "df.drop(to_drop, inplace=True)"
   ]
  },
  {
   "cell_type": "code",
   "execution_count": 66,
   "metadata": {},
   "outputs": [],
   "source": [
    "df['Lat'] = df['indirizzo.coordinate'].apply(lambda x: x[0])\n",
    "df['Long'] = df['indirizzo.coordinate'].apply(lambda x: x[1])\n",
    "del df['indirizzo.coordinate']"
   ]
  },
  {
   "cell_type": "code",
   "execution_count": 67,
   "metadata": {},
   "outputs": [
    {
     "data": {
      "text/html": [
       "<div>\n",
       "<style scoped>\n",
       "    .dataframe tbody tr th:only-of-type {\n",
       "        vertical-align: middle;\n",
       "    }\n",
       "\n",
       "    .dataframe tbody tr th {\n",
       "        vertical-align: top;\n",
       "    }\n",
       "\n",
       "    .dataframe thead th {\n",
       "        text-align: right;\n",
       "    }\n",
       "</style>\n",
       "<table border=\"1\" class=\"dataframe\">\n",
       "  <thead>\n",
       "    <tr style=\"text-align: right;\">\n",
       "      <th></th>\n",
       "      <th>codici-identificativi.isil</th>\n",
       "      <th>denominazioni.ufficiale</th>\n",
       "      <th>ente</th>\n",
       "      <th>indirizzo.via-piazza</th>\n",
       "      <th>tipologia-amministrativa</th>\n",
       "      <th>tipologia-funzionale</th>\n",
       "      <th>accesso.portatori-handicap</th>\n",
       "      <th>accesso.riservato</th>\n",
       "      <th>Lat</th>\n",
       "      <th>Long</th>\n",
       "    </tr>\n",
       "  </thead>\n",
       "  <tbody>\n",
       "    <tr>\n",
       "      <th>0</th>\n",
       "      <td>IT-AG0001</td>\n",
       "      <td>Biblioteca della Soprintendenza per i beni cul...</td>\n",
       "      <td>Regione siciliana. Soprintendenza per i beni c...</td>\n",
       "      <td>Contrada S. Nicola</td>\n",
       "      <td>Regione</td>\n",
       "      <td>Specializzata</td>\n",
       "      <td>None</td>\n",
       "      <td>True</td>\n",
       "      <td>37.336168</td>\n",
       "      <td>13.588072</td>\n",
       "    </tr>\n",
       "    <tr>\n",
       "      <th>1</th>\n",
       "      <td>IT-AG0005</td>\n",
       "      <td>Biblioteca dell'Archivio di Stato di Agrigento</td>\n",
       "      <td>Ministero dei beni e delle attività culturali ...</td>\n",
       "      <td>Via Mazzini 185</td>\n",
       "      <td>Direzione generale Archivi</td>\n",
       "      <td>Specializzata</td>\n",
       "      <td>None</td>\n",
       "      <td>True</td>\n",
       "      <td>37.322164</td>\n",
       "      <td>13.588603</td>\n",
       "    </tr>\n",
       "    <tr>\n",
       "      <th>2</th>\n",
       "      <td>IT-AG0006</td>\n",
       "      <td>Biblioteca del Seminario vescovile</td>\n",
       "      <td>Seminario vescovile Molfetta</td>\n",
       "      <td>Piazza don Minzoni</td>\n",
       "      <td>Enti ecclesiastici</td>\n",
       "      <td>Specializzata</td>\n",
       "      <td>False</td>\n",
       "      <td>False</td>\n",
       "      <td>37.313713</td>\n",
       "      <td>13.574966</td>\n",
       "    </tr>\n",
       "    <tr>\n",
       "      <th>3</th>\n",
       "      <td>IT-AG0007</td>\n",
       "      <td>Biblioteca Comunale Franco La Rocca</td>\n",
       "      <td>Comune di Agrigento</td>\n",
       "      <td>Piazzale Aldo Moro n. 3</td>\n",
       "      <td>Comune</td>\n",
       "      <td>Importante non specializzata</td>\n",
       "      <td>True</td>\n",
       "      <td>False</td>\n",
       "      <td>37.309611</td>\n",
       "      <td>13.586140</td>\n",
       "    </tr>\n",
       "    <tr>\n",
       "      <th>4</th>\n",
       "      <td>IT-AG0008</td>\n",
       "      <td>Biblioteca comunale Santo Spirito. Sezione est...</td>\n",
       "      <td>Comune di Agrigento</td>\n",
       "      <td>Via Belvedere 127</td>\n",
       "      <td>Comune</td>\n",
       "      <td>Pubblica</td>\n",
       "      <td>None</td>\n",
       "      <td>False</td>\n",
       "      <td>37.405090</td>\n",
       "      <td>13.529105</td>\n",
       "    </tr>\n",
       "  </tbody>\n",
       "</table>\n",
       "</div>"
      ],
      "text/plain": [
       "  codici-identificativi.isil  \\\n",
       "0                  IT-AG0001   \n",
       "1                  IT-AG0005   \n",
       "2                  IT-AG0006   \n",
       "3                  IT-AG0007   \n",
       "4                  IT-AG0008   \n",
       "\n",
       "                             denominazioni.ufficiale  \\\n",
       "0  Biblioteca della Soprintendenza per i beni cul...   \n",
       "1     Biblioteca dell'Archivio di Stato di Agrigento   \n",
       "2                 Biblioteca del Seminario vescovile   \n",
       "3                Biblioteca Comunale Franco La Rocca   \n",
       "4  Biblioteca comunale Santo Spirito. Sezione est...   \n",
       "\n",
       "                                                ente     indirizzo.via-piazza  \\\n",
       "0  Regione siciliana. Soprintendenza per i beni c...       Contrada S. Nicola   \n",
       "1  Ministero dei beni e delle attività culturali ...          Via Mazzini 185   \n",
       "2                       Seminario vescovile Molfetta       Piazza don Minzoni   \n",
       "3                                Comune di Agrigento  Piazzale Aldo Moro n. 3   \n",
       "4                                Comune di Agrigento        Via Belvedere 127   \n",
       "\n",
       "     tipologia-amministrativa          tipologia-funzionale  \\\n",
       "0                     Regione                 Specializzata   \n",
       "1  Direzione generale Archivi                 Specializzata   \n",
       "2          Enti ecclesiastici                 Specializzata   \n",
       "3                      Comune  Importante non specializzata   \n",
       "4                      Comune                      Pubblica   \n",
       "\n",
       "  accesso.portatori-handicap accesso.riservato        Lat       Long  \n",
       "0                       None              True  37.336168  13.588072  \n",
       "1                       None              True  37.322164  13.588603  \n",
       "2                      False             False  37.313713  13.574966  \n",
       "3                       True             False  37.309611  13.586140  \n",
       "4                       None             False  37.405090  13.529105  "
      ]
     },
     "execution_count": 67,
     "metadata": {},
     "output_type": "execute_result"
    }
   ],
   "source": [
    "df.head()"
   ]
  },
  {
   "cell_type": "code",
   "execution_count": 68,
   "metadata": {},
   "outputs": [],
   "source": [
    "df.to_csv('../../data/processed/Centrale_biblioteche.csv')"
   ]
  },
  {
   "cell_type": "code",
   "execution_count": 71,
   "metadata": {},
   "outputs": [
    {
     "data": {
      "text/plain": [
       "array(['Specializzata', 'Importante non specializzata', 'Pubblica',\n",
       "       'NON SPECIFICATA', 'Scolastica',\n",
       "       'Istituto di insegnamento superiore', 'Nazionale'], dtype=object)"
      ]
     },
     "execution_count": 71,
     "metadata": {},
     "output_type": "execute_result"
    }
   ],
   "source": [
    "df['tipologia-funzionale'].unique()"
   ]
  },
  {
   "cell_type": "code",
   "execution_count": null,
   "metadata": {},
   "outputs": [],
   "source": []
  }
 ],
 "metadata": {
  "kernelspec": {
   "display_name": "Python 3",
   "language": "python",
   "name": "python3"
  },
  "language_info": {
   "codemirror_mode": {
    "name": "ipython",
    "version": 3
   },
   "file_extension": ".py",
   "mimetype": "text/x-python",
   "name": "python",
   "nbconvert_exporter": "python",
   "pygments_lexer": "ipython3",
   "version": "3.6.4"
  }
 },
 "nbformat": 4,
 "nbformat_minor": 2
}
