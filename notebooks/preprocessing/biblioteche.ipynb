{
 "cells": [
  {
   "cell_type": "markdown",
   "metadata": {},
   "source": [
    "# Pre-process Biblioteche Mibact"
   ]
  },
  {
   "cell_type": "code",
   "execution_count": null,
   "metadata": {},
   "outputs": [],
   "source": [
    "import pandas as pd\n",
    "import numpy as np\n",
    "import json\n",
    "import os\n",
    "import sys\n",
    "\n",
    "root_dir = os.path.dirname(os.path.dirname(os.getcwd())) ## TODO: find way to put this into some global settings\n",
    "if root_dir not in sys.path:\n",
    "    sys.path.append(root_dir)\n",
    "\n",
    "from references import common_cfg, istat_kpi\n",
    "from src.models.factories import LibraryFactory"
   ]
  },
  {
   "cell_type": "code",
   "execution_count": null,
   "metadata": {},
   "outputs": [],
   "source": [
    "# Load raw data\n",
    "with open('../../data/raw/cultura/biblioteche_mibact.json') as json_data:\n",
    "    d = json.load(json_data)\n",
    "    \n",
    "# Prendi le biblioteche\n",
    "data = d['biblioteche']"
   ]
  },
  {
   "cell_type": "code",
   "execution_count": null,
   "metadata": {},
   "outputs": [],
   "source": [
    "#len(data)#.keys\n",
    "df = pd.DataFrame.from_records(data)"
   ]
  },
  {
   "cell_type": "code",
   "execution_count": null,
   "metadata": {},
   "outputs": [],
   "source": [
    "data[0]"
   ]
  },
  {
   "cell_type": "markdown",
   "metadata": {},
   "source": [
    "### Identificazione caratteristiche di interesse\n",
    "\n",
    "|`accesso.portatori-handicap`|`accesso.riservato`|`cosice-identificativi.isil`|`denominazioni.ufficiale`|`ente`|`indirizzo.coordinate`|`indirizzo.via-piazza`|`tipologia-amministrativa`|`tipologia-funzionale`|\n",
    "|-------|-------|-------|-------|-------|-------|-------|-------|-------|-------|-------|\n",
    "|True|True|IT-AG0001|Biblioteca della Soprintendenza per i beni cul|Regione siciliana. Soprintendenza per i beni c|[37.3361677, 13.5880717]|viao ciao|comunale|pubblica|"
   ]
  },
  {
   "cell_type": "code",
   "execution_count": null,
   "metadata": {},
   "outputs": [],
   "source": [
    "# Colonne scelte e costruite in modo che il valore che voglio è definito ralla chiave che lo identifica: key.value\n",
    "colonne = ['accesso.portatori-handicap','accesso.riservato','codici-identificativi.isil','denominazioni.ufficiale','ente','indirizzo.coordinate','indirizzo.via-piazza','tipologia-amministrativa','tipologia-funzionale']"
   ]
  },
  {
   "cell_type": "code",
   "execution_count": null,
   "metadata": {},
   "outputs": [],
   "source": [
    "# Inizializza nuovo df\n",
    "df = pd.DataFrame()\n",
    "\n",
    "# Popola df\n",
    "for c in colonne:\n",
    "    # Distinguo tra chiave e valore che voglio\n",
    "    split_colonna = c.split('.')\n",
    "    \n",
    "    # Se c'è la distinzione chiave valore\n",
    "    if len(split_colonna)>1:\n",
    "        df[c] = np.array([data[i][c.split('.')[0]][c.split('.')[1]] for i in range(len(data))])\n",
    "    \n",
    "    else:\n",
    "        df[c] = np.array([data[i][c] for i in range(len(data))])"
   ]
  },
  {
   "cell_type": "code",
   "execution_count": null,
   "metadata": {},
   "outputs": [],
   "source": [
    "df = df[['codici-identificativi.isil', 'denominazioni.ufficiale', 'ente',\n",
    "       'indirizzo.coordinate', 'indirizzo.via-piazza',\n",
    "       'tipologia-amministrativa', 'tipologia-funzionale','accesso.portatori-handicap', 'accesso.riservato']]"
   ]
  },
  {
   "cell_type": "code",
   "execution_count": null,
   "metadata": {},
   "outputs": [],
   "source": [
    "to_drop = []\n",
    "for i,j in enumerate(df['indirizzo.coordinate']):\n",
    "    if len(j) != 2:\n",
    "        to_drop += [i]"
   ]
  },
  {
   "cell_type": "code",
   "execution_count": null,
   "metadata": {},
   "outputs": [],
   "source": [
    "df.drop(to_drop, inplace=True)"
   ]
  },
  {
   "cell_type": "code",
   "execution_count": null,
   "metadata": {},
   "outputs": [],
   "source": [
    "df['Lat'] = df['indirizzo.coordinate'].apply(lambda x: x[0])\n",
    "df['Long'] = df['indirizzo.coordinate'].apply(lambda x: x[1])\n",
    "del df['indirizzo.coordinate']"
   ]
  },
  {
   "cell_type": "code",
   "execution_count": null,
   "metadata": {},
   "outputs": [],
   "source": [
    "df['comune'] = [data[i]['indirizzo']['comune']['nome'] for i in range(len(df))]"
   ]
  },
  {
   "cell_type": "code",
   "execution_count": null,
   "metadata": {},
   "outputs": [],
   "source": [
    "# set index with the right name\n",
    "df.rename({'codici-identificativi.isil': LibraryFactory.id_col}, axis=1, inplace=True)\n",
    "df.set_index(LibraryFactory.id_col, inplace=True)"
   ]
  },
  {
   "cell_type": "code",
   "execution_count": null,
   "metadata": {},
   "outputs": [],
   "source": [
    "df.head()"
   ]
  },
  {
   "cell_type": "code",
   "execution_count": null,
   "metadata": {},
   "outputs": [],
   "source": [
    "for cittaScelta in common_cfg.city_list:    \n",
    "    # export to file\n",
    "    df[df['comune'] == cittaScelta].to_csv(\n",
    "        '../../data/processed/%s_biblioteche.csv'%cittaScelta, sep=';', decimal=',')"
   ]
  }
 ],
 "metadata": {
  "kernelspec": {
   "display_name": "Python 3",
   "language": "python",
   "name": "python3"
  },
  "language_info": {
   "codemirror_mode": {
    "name": "ipython",
    "version": 3
   },
   "file_extension": ".py",
   "mimetype": "text/x-python",
   "name": "python",
   "nbconvert_exporter": "python",
   "pygments_lexer": "ipython3",
   "version": "3.5.4"
  }
 },
 "nbformat": 4,
 "nbformat_minor": 2
}
