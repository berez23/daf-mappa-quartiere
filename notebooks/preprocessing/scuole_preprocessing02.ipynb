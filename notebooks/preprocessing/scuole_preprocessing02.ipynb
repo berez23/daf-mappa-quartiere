{
 "cells": [
  {
   "cell_type": "code",
   "execution_count": null,
   "metadata": {},
   "outputs": [],
   "source": [
    "import pandas as pd\n",
    "import os\n",
    "import sys\n",
    "root_dir = os.path.dirname(os.path.dirname(os.getcwd())) ## TODO: find way to put this into some global settings\n",
    "if root_dir not in sys.path:\n",
    "    sys.path.append(root_dir)\n",
    "\n",
    "from references import common_cfg, istat_kpi\n",
    "from src.models.factories import SchoolFactory"
   ]
  },
  {
   "cell_type": "code",
   "execution_count": null,
   "metadata": {},
   "outputs": [],
   "source": [
    "# prepare dati affluenza\n",
    "afflStatali = pd.read_csv('../../data/raw/cultura/stat_affluenzaScuole1617.csv')\n",
    "afflParitarie = pd.read_csv('../../data/raw/cultura/parit_affluenzaScuole1617.csv')\n",
    "affluenza = pd.concat([afflStatali, afflParitarie], axis=0)"
   ]
  },
  {
   "cell_type": "code",
   "execution_count": null,
   "metadata": {},
   "outputs": [],
   "source": [
    "for cittaScelta in common_cfg.cityList:\n",
    "    # Join con affluenza:\n",
    "    inputAnagraficaFile = '../../data/interim/%s_anagrafica_scuole_geoloc.csv' % cittaScelta\n",
    "    anagraficaGeoloc = pd.read_csv(inputAnagraficaFile, sep=';', decimal=',').set_index('CODICESCUOLA')\n",
    "    if any(anagraficaGeoloc.Lat.isnull()):\n",
    "        print('Dropping %i records as they are not geolocalized' % sum(anagraficaGeoloc.Lat.isnull()))\n",
    "        anagraficaGeoloc = anagraficaGeoloc[~anagraficaGeoloc.Lat.isnull()] # drop missing geoloc\n",
    "    assert not any(anagraficaGeoloc.Lat.isnull()), 'Missing geoloc info'\n",
    "\n",
    "    # validate join \n",
    "    bDuplicated = anagraficaGeoloc.duplicated()\n",
    "    if any(bDuplicated):\n",
    "        print('Dropping these records as they are duplicated:')\n",
    "        print(anagraficaGeoloc[bDuplicated])\n",
    "        anagraficaGeoloc = anagraficaGeoloc[~bDuplicated]      \n",
    "        anagraficaGeoloc.merge(affluenza, how='inner', left_index=True, right_on='CODICESCUOLA',\n",
    "                    sort=False, suffixes=('_anagr', '_affl'), copy=True, validate='1:m')\n",
    "    \n",
    "    # print the available fraction of student data\n",
    "    bFound  = anagraficaGeoloc.index.isin(affluenza.CODICESCUOLA.unique())\n",
    "    print(bFound.mean())\n",
    "    \n",
    "    # investigate missing values\n",
    "    missingSchools = anagraficaGeoloc[~bFound]\n",
    "    print(missingSchools.groupby('DESCRIZIONETIPOLOGIAGRADOISTRUZIONESCUOLA').count())\n",
    "    \n",
    "    # check school types\n",
    "    schoolTypes = affluenza[['CODICESCUOLA', 'ORDINESCUOLA']].drop_duplicates().set_index('CODICESCUOLA')\n",
    "    assert not any(schoolTypes.index.duplicated()), 'Inconsistent school types'\n",
    "    \n",
    "    # compute join values\n",
    "    alunniSum = affluenza.groupby('CODICESCUOLA')['ALUNNI', ].sum()\n",
    "    datiJoin = anagraficaGeoloc.merge(pd.concat([schoolTypes, alunniSum],axis=1), \n",
    "                                      how='inner', left_index=True, right_index=True,\n",
    "                sort=False, suffixes=('_anagr', '_affl'), copy=True, validate='1:1')\n",
    "    \n",
    "    # export to file\n",
    "    datiJoin.to_csv('../../data/processed/%s_scuole.csv'%cittaScelta, \n",
    "                sep=';', decimal=',', index_label=SchoolFactory.idCol)"
   ]
  }
 ],
 "metadata": {
  "kernelspec": {
   "display_name": "Python 3",
   "language": "python",
   "name": "python3"
  },
  "language_info": {
   "codemirror_mode": {
    "name": "ipython",
    "version": 3
   },
   "file_extension": ".py",
   "mimetype": "text/x-python",
   "name": "python",
   "nbconvert_exporter": "python",
   "pygments_lexer": "ipython3",
   "version": "3.5.4"
  }
 },
 "nbformat": 4,
 "nbformat_minor": 2
}
