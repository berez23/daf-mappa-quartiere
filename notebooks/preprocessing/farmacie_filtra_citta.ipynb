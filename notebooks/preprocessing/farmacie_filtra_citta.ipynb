{
 "cells": [
  {
   "cell_type": "code",
   "execution_count": null,
   "metadata": {},
   "outputs": [],
   "source": [
    "import numpy as np\n",
    "import pandas as pd\n",
    "import os\n",
    "import sys\n",
    "root_dir = os.path.dirname(os.path.dirname(os.getcwd())) #TODO: find way to put this into some global settings\n",
    "if root_dir not in sys.path:\n",
    "    sys.path.append(root_dir)\n",
    "\n",
    "from geopy import geocoders\n",
    "from geopy.extra.rate_limiter import RateLimiter\n",
    "from tqdm import tqdm  # enable progress bar display\n",
    "tqdm.pandas()\n",
    "\n",
    "from references import common_cfg, istat_kpi, add_geolocation"
   ]
  },
  {
   "cell_type": "code",
   "execution_count": null,
   "metadata": {},
   "outputs": [],
   "source": [
    "farmacie_raw = pd.read_csv('../../data/raw/health/farmacie.csv', low_memory=False, sep=';', decimal=',')"
   ]
  },
  {
   "cell_type": "code",
   "execution_count": null,
   "metadata": {},
   "outputs": [],
   "source": [
    "farmacie = farmacie_raw[farmacie_raw.DATAFINEVALIDITA == '-']\n",
    "farmacie.set_index('CODICEIDENTIFICATIVOFARMACIA', inplace=True)\n",
    "assert not any(farmacie.index.duplicated()), 'Duplicates in pharmacy ids'\n",
    "\n",
    "# rename location columns\n",
    "minsalute_loc_names = ['orig_long', 'orig_lat']\n",
    "farmacie = farmacie.rename(columns=dict(zip(['LONGITUDINE','LATITUDINE'], minsalute_loc_names)))"
   ]
  },
  {
   "cell_type": "code",
   "execution_count": null,
   "metadata": {},
   "outputs": [],
   "source": [
    "coder = geocoders.ArcGIS()\n",
    "limited_coder = RateLimiter(coder.geocode, min_delay_seconds=1.5)"
   ]
  },
  {
   "cell_type": "code",
   "execution_count": null,
   "metadata": {},
   "outputs": [],
   "source": [
    "arcgis_col_name = 'arcGIS_response'\n",
    "\n",
    "def patch_coordinates(df):\n",
    "    df[common_cfg.coord_col_names[0]] = np.nan\n",
    "    df[common_cfg.coord_col_names[1]] = np.nan\n",
    "    \n",
    "    for _, row_tuple in enumerate(df.iterrows()):\n",
    "        row = row_tuple[1]\n",
    "        if not row[arcgis_col_name]:\n",
    "            # copy over availble location from the dataset\n",
    "            df.loc[row_tuple[0], common_cfg.coord_col_names] = row[minsalute_loc_names].values\n",
    "        else:\n",
    "            # use arcGIS response\n",
    "            df.loc[row_tuple[0], common_cfg.coord_col_names] = (\n",
    "                row[arcgis_col_name].longitude, row[arcgis_col_name].latitude)\n",
    "    return df\n",
    "\n",
    "for citta_scelta in [common_cfg.city_list[-1]]:\n",
    "    print('\\n \\n ---  %s ' % citta_scelta)\n",
    "    farmacie_citta = farmacie[farmacie.DESCRIZIONECOMUNE.apply(str.lower) == citta_scelta.lower()].copy()\n",
    "    \n",
    "    # update geolocation if arcGIS provides an answer\n",
    "    query_col = 'indirizzo_query'\n",
    "    farmacie_citta[query_col] = farmacie_citta.INDIRIZZO + ', ' + \\\n",
    "                                farmacie_citta.CAP + ', ' + \\\n",
    "                                farmacie_citta.DESCRIZIONECOMUNE\n",
    "    \n",
    "    farmacie_citta[arcgis_col_name] = farmacie_citta[query_col].progress_apply(limited_coder)\n",
    "    #farmacie_citta[arcgis_col_name] = None\n",
    "    \n",
    "    farmacie_citta = patch_coordinates(farmacie_citta)\n",
    "    \n",
    "    # drop missing coordinates\n",
    "    print('Pharmacies that still have no location:')\n",
    "    print(farmacie_citta[farmacie_citta[common_cfg.coord_col_names[0]].isin(['-', np.nan])].index.values)\n",
    "    farmacie_citta = farmacie_citta[~farmacie_citta[\n",
    "        common_cfg.coord_col_names[0]].isin(['-', np.nan])]  # do not reset index\n",
    "    \n",
    "    # convert the valid ones to floats\n",
    "    farmacie_citta[common_cfg.coord_col_names] = farmacie_citta[common_cfg.coord_col_names].astype(float)\n",
    "    b_positive = (farmacie_citta[common_cfg.coord_col_names[0]] > 0) & (farmacie_citta[common_cfg.coord_col_names[1]] > 0)\n",
    "    print('Bad ones: %i' % sum(~b_positive))\n",
    "    farmacie_citta = farmacie_citta[b_positive]"
   ]
  }
 ],
 "metadata": {
  "kernelspec": {
   "display_name": "Python 3",
   "language": "python",
   "name": "python3"
  },
  "language_info": {
   "codemirror_mode": {
    "name": "ipython",
    "version": 3
   },
   "file_extension": ".py",
   "mimetype": "text/x-python",
   "name": "python",
   "nbconvert_exporter": "python",
   "pygments_lexer": "ipython3",
   "version": "3.5.4"
  }
 },
 "nbformat": 4,
 "nbformat_minor": 2
}
