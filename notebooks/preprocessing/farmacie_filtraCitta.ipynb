{
 "cells": [
  {
   "cell_type": "code",
   "execution_count": null,
   "metadata": {},
   "outputs": [],
   "source": [
    "import pandas as pd\n",
    "import os\n",
    "import sys\n",
    "root_dir = os.path.dirname(os.path.dirname(os.getcwd())) ## TODO: find way to put this into some global settings\n",
    "if root_dir not in sys.path:\n",
    "    sys.path.append(root_dir)\n",
    "\n",
    "from references import common_cfg, istat_kpi"
   ]
  },
  {
   "cell_type": "code",
   "execution_count": null,
   "metadata": {},
   "outputs": [],
   "source": [
    "farmacieRaw = pd.read_csv('../../data/raw/health/farmacie.csv', \n",
    "                       sep=';', decimal=',')"
   ]
  },
  {
   "cell_type": "code",
   "execution_count": null,
   "metadata": {},
   "outputs": [],
   "source": [
    "farmacie = farmacieRaw[farmacieRaw.DATAFINEVALIDITA == '-']\n",
    "farmacie.set_index('CODICEIDENTIFICATIVOFARMACIA', inplace=True)\n",
    "assert not any(farmacie.index.duplicated()), 'Duplicates in pharmacy ids'\n",
    "# rename location columns\n",
    "farmacie = farmacie.rename(columns=dict(zip(['LONGITUDINE','LATITUDINE'], common_cfg.coordColNames)))"
   ]
  },
  {
   "cell_type": "code",
   "execution_count": null,
   "metadata": {},
   "outputs": [],
   "source": [
    "for cittaScelta in common_cfg.cityList:\n",
    "    farmacieCitta = farmacie[farmacie.DESCRIZIONECOMUNE.apply(str.lower) == cittaScelta.lower()]\n",
    "    farmacieCitta.to_csv('../../data/processed/%s_farmacie.csv' % cittaScelta, sep=';', decimal = ',') "
   ]
  }
 ],
 "metadata": {
  "kernelspec": {
   "display_name": "Python 3",
   "language": "python",
   "name": "python3"
  },
  "language_info": {
   "codemirror_mode": {
    "name": "ipython",
    "version": 3
   },
   "file_extension": ".py",
   "mimetype": "text/x-python",
   "name": "python",
   "nbconvert_exporter": "python",
   "pygments_lexer": "ipython3",
   "version": "3.5.4"
  }
 },
 "nbformat": 4,
 "nbformat_minor": 2
}
