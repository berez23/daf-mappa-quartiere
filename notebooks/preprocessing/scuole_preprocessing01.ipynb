{
 "cells": [
  {
   "cell_type": "code",
   "execution_count": null,
   "metadata": {},
   "outputs": [],
   "source": [
    "import pandas as pd\n",
    "import os\n",
    "import sys\n",
    "root_dir = os.path.dirname(os.path.dirname(os.getcwd())) ## TODO: find way to put this into some global settings\n",
    "if root_dir not in sys.path:\n",
    "    sys.path.append(root_dir)\n",
    "\n",
    "from references import common_cfg, istat_kpi, add_geolocation\n",
    "import googlemaps\n"
   ]
  },
  {
   "cell_type": "code",
   "execution_count": null,
   "metadata": {},
   "outputs": [],
   "source": [
    "## Preprocess school list\n",
    "statali = pd.read_csv('../../data/raw/cultura/stat_anagrScuole1617.csv').set_index('CODICESCUOLA')\n",
    "paritarie = pd.read_csv('../../data/raw/cultura/parit_anagrScuole1617.csv').set_index('CODICESCUOLA')\n",
    "assert set(paritarie.columns) < (set(statali.columns)), 'unexpected columns in paritarie'\n",
    "assert ~any(statali.SEDESCOLASTICA.isnull()), 'missing info for statali'\n",
    "\n",
    "# add statale/paritaria flag\n",
    "statali['bStatale'] = True\n",
    "paritarie['bStatale'] = False\n",
    "\n",
    "anagrafica = pd.concat([statali, paritarie], axis=0)\n",
    "# patch tutte le paritarie come sedi scolastiche\n",
    "anagrafica.SEDESCOLASTICA.fillna('SI', inplace=True)\n",
    "\n",
    "# drop non-sedi scolastiche\n",
    "anagrafica = anagrafica[anagrafica.SEDESCOLASTICA=='SI']"
   ]
  },
  {
   "cell_type": "code",
   "execution_count": null,
   "metadata": {},
   "outputs": [],
   "source": [
    "# Filter for each city and append geoloc, then export to interim\n",
    "listaCitta = common_cfg.city_list\n",
    "\n",
    "bAddGeoloc = True\n",
    "\n",
    "for cittaScelta in ['Roma']:\n",
    "    anagraficaCitta = anagrafica[anagrafica.DESCRIZIONECOMUNE.apply(str.lower) == cittaScelta.lower()]\n",
    "    anagraficaCitta.to_csv('../../data/interim/%s_anagrafica_scuole.csv' % cittaScelta, sep=';', decimal = ',')\n",
    "    \n",
    "    if bAddGeoloc:\n",
    "        origData = anagraficaCitta.copy()\n",
    "        # derive target filename\n",
    "        targetSuffix = '_geoloc'\n",
    "        targetFile = '../../data/interim/%s_anagrafica_scuole%s.csv' % (citt\n",
    "                                                                        aScelta, targetSuffix)\n",
    "        origData.CAPSCUOLA.replace('Non Disponibile', '', inplace=True) # fix missing CAP with empty so that geoloc works\n",
    "        # build query addresses\n",
    "        queryAddresses = origData.INDIRIZZOSCUOLA.values + ', ' + origData.CAPSCUOLA.values +  ', %s' % cittaScelta\n",
    "        APIkey = ''\n",
    "        # append geoloc and save \n",
    "        add_geolocation.append_geolocation_and_save(APIkey, origData, queryAddresses, targetFile)"
   ]
  }
 ],
 "metadata": {
  "kernelspec": {
   "display_name": "Python 3",
   "language": "python",
   "name": "python3"
  },
  "language_info": {
   "codemirror_mode": {
    "name": "ipython",
    "version": 3
   },
   "file_extension": ".py",
   "mimetype": "text/x-python",
   "name": "python",
   "nbconvert_exporter": "python",
   "pygments_lexer": "ipython3",
   "version": "3.5.4"
  }
 },
 "nbformat": 4,
 "nbformat_minor": 2
}
