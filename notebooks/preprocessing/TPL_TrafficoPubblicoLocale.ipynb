{
 "cells": [
  {
   "cell_type": "markdown",
   "metadata": {},
   "source": [
    "# TPL Data\n",
    "\n",
    "## Preprocessing GTFS data\n",
    "\n",
    "**GTFS**: General Transit Feed Specification\n",
    "\n",
    "The General Transit Feed Specification (GTFS), also known as GTFS static or static transit to differentiate it from the GTFS realtime extension, defines a common format for public transportation schedules and associated geographic information. GTFS \"feeds\" let public transit agencies publish their transit data and developers write applications that consume that data in an interoperable way.\n",
    "\n",
    "A GTFS feed is composed of a series of text files collected in a ZIP file. Each file models a particular aspect of transit information: stops, routes, trips, and other schedule data. \n",
    "The details of each file are defined in the [GTFS reference](https://developers.google.com/transit/gtfs/reference/)\n",
    "\n",
    "https://it.wikipedia.org/wiki/General_Transit_Feed_Specification\n",
    "\n",
    "* **agency**: l'agency corrisponde alla tabella con le informazioni sull'azienda dei trasporti.\n",
    "\n",
    "agency_name\n",
    "\n",
    "agency_url\n",
    "\n",
    "agency_timezone\n",
    "\n",
    "* **routes**: la tabella routes contiene i percorsi.\n",
    "\n",
    "\n",
    "route_id (primary key)\n",
    "\n",
    "route_short_name\n",
    "\n",
    "route_long_name\n",
    "\n",
    "route_type --> important: https://developers.google.com/transit/gtfs/reference/extended-route-types\n",
    "\n",
    "* **trips**:\n",
    "\n",
    "trip_id (primary key)\n",
    "\n",
    "route_id (foreign key)\n",
    "\n",
    "service_id (foreign key)\n",
    "\n",
    "Campi opzionali:\n",
    "\n",
    "block_id - Il block ID indica il blocco al quale un viaggio (trip) appartiene.\n",
    "\n",
    "* **stop_times**: Orari presso una fermata del mezzo di trasporto.\n",
    "\n",
    "stop_id (primary key)\n",
    "\n",
    "trip_id (foreign key)\n",
    "\n",
    "arrival_time\n",
    "\n",
    "departure_time\n",
    "\n",
    "stop_sequence\n",
    "\n",
    "* **stops**: La tabella stops definisce le informazioni geografiche di ogni fermata.\n",
    "\n",
    "stop_id (primary key)\n",
    "\n",
    "stop_name\n",
    "\n",
    "stop_lon\n",
    "\n",
    "stop_lat\n",
    "\n",
    "* **calendar**: la tabella calendario definisce la ricorrenza con cui avviene il passaggio di un mezzo di trasporto presso una fermata come i giorni di esercizio ed il periodo di esercizio.\n",
    "\n",
    "service_id (primary key)\n",
    "\n",
    "monday\n",
    "\n",
    "tuesday\n",
    "\n",
    "wednesday\n",
    "\n",
    "thursday\n",
    "\n",
    "friday\n",
    "\n",
    "saturday\n",
    "\n",
    "sunday\n",
    "\n",
    "start_date\n",
    "\n",
    "end_date\n",
    "\n",
    "\n",
    "**Tabelle opzionali:**\n",
    "\n",
    "calendar_dates.txt\n",
    "\n",
    "fare_attributes.txt\n",
    "\n",
    "fare_rules.txt\n",
    "\n",
    "shapes.txt\n",
    "\n",
    "frequencies.txt\n",
    "\n",
    "transfers.txt\n",
    "\n",
    "feed_info.txt\n",
    "\n",
    "**GTFS DATA:**\n",
    "\n",
    "* MILANO: https://www.amat-mi.it/it/mobilita/dati-strumenti-tecnologie/dati-gtfs/\n",
    "\n",
    "* TORINO: http://opendata.5t.torino.it/gtfs/piemonte_it.zip"
   ]
  },
  {
   "cell_type": "code",
   "execution_count": 299,
   "metadata": {},
   "outputs": [],
   "source": [
    "import numpy as np\n",
    "import pandas as pd\n",
    "import geopandas as gpd\n",
    "import matplotlib.pyplot as plt\n",
    "import gtfstk as gt\n",
    "import geopandas as gpd\n",
    "import sys\n",
    "from pathlib import Path"
   ]
  },
  {
   "cell_type": "code",
   "execution_count": 300,
   "metadata": {},
   "outputs": [
    {
     "name": "stdout",
     "output_type": "stream",
     "text": [
      "../../data/processed/Torino_sezioni.geojson\n"
     ]
    }
   ],
   "source": [
    "DIR = Path('../..')\n",
    "sys.path.append(str(DIR))\n",
    "\n",
    "TPL_DIR = DIR/'data/raw/tpl/'\n",
    "GEO_DIR = DIR/'data/processed/'\n",
    "\n",
    "path = GEO_DIR/'Torino_sezioni.geojson'\n",
    "print (path)\n",
    "#GEP_PATH =GEO_DIR+'Torino_sezioni.geojson'\n",
    "#polygon = gpd.read_file(path)"
   ]
  },
  {
   "cell_type": "code",
   "execution_count": null,
   "metadata": {},
   "outputs": [],
   "source": [
    "from references import common_cfg"
   ]
  },
  {
   "cell_type": "markdown",
   "metadata": {},
   "source": [
    "### Load TPL GTFS Data"
   ]
  },
  {
   "cell_type": "code",
   "execution_count": 312,
   "metadata": {},
   "outputs": [],
   "source": [
    "#implementare poi loop tra città\n",
    "selectedCity = common_cfg.cityList[0]\n",
    "istatData = common_cfg.get_istat_cpa_data(selectedCity)"
   ]
  },
  {
   "cell_type": "code",
   "execution_count": 313,
   "metadata": {},
   "outputs": [
    {
     "data": {
      "text/html": [
       "<div>\n",
       "<style scoped>\n",
       "    .dataframe tbody tr th:only-of-type {\n",
       "        vertical-align: middle;\n",
       "    }\n",
       "\n",
       "    .dataframe tbody tr th {\n",
       "        vertical-align: top;\n",
       "    }\n",
       "\n",
       "    .dataframe thead th {\n",
       "        text-align: right;\n",
       "    }\n",
       "</style>\n",
       "<table border=\"1\" class=\"dataframe\">\n",
       "  <thead>\n",
       "    <tr style=\"text-align: right;\">\n",
       "      <th></th>\n",
       "      <th>file_name</th>\n",
       "      <th>file_size</th>\n",
       "    </tr>\n",
       "  </thead>\n",
       "  <tbody>\n",
       "    <tr>\n",
       "      <th>0</th>\n",
       "      <td>agency.txt</td>\n",
       "      <td>209</td>\n",
       "    </tr>\n",
       "    <tr>\n",
       "      <th>1</th>\n",
       "      <td>calendar.txt</td>\n",
       "      <td>109</td>\n",
       "    </tr>\n",
       "    <tr>\n",
       "      <th>2</th>\n",
       "      <td>calendar_dates.txt</td>\n",
       "      <td>41610</td>\n",
       "    </tr>\n",
       "    <tr>\n",
       "      <th>3</th>\n",
       "      <td>feed_info.txt</td>\n",
       "      <td>209</td>\n",
       "    </tr>\n",
       "    <tr>\n",
       "      <th>4</th>\n",
       "      <td>routes.txt</td>\n",
       "      <td>14258</td>\n",
       "    </tr>\n",
       "    <tr>\n",
       "      <th>5</th>\n",
       "      <td>shapes.txt</td>\n",
       "      <td>12040958</td>\n",
       "    </tr>\n",
       "    <tr>\n",
       "      <th>6</th>\n",
       "      <td>stops.txt</td>\n",
       "      <td>537138</td>\n",
       "    </tr>\n",
       "    <tr>\n",
       "      <th>7</th>\n",
       "      <td>stop_times.txt</td>\n",
       "      <td>497317404</td>\n",
       "    </tr>\n",
       "    <tr>\n",
       "      <th>8</th>\n",
       "      <td>transfers.txt</td>\n",
       "      <td>261</td>\n",
       "    </tr>\n",
       "    <tr>\n",
       "      <th>9</th>\n",
       "      <td>trips.txt</td>\n",
       "      <td>35854422</td>\n",
       "    </tr>\n",
       "  </tbody>\n",
       "</table>\n",
       "</div>"
      ],
      "text/plain": [
       "            file_name  file_size\n",
       "0          agency.txt        209\n",
       "1        calendar.txt        109\n",
       "2  calendar_dates.txt      41610\n",
       "3       feed_info.txt        209\n",
       "4          routes.txt      14258\n",
       "5          shapes.txt   12040958\n",
       "6           stops.txt     537138\n",
       "7      stop_times.txt  497317404\n",
       "8       transfers.txt        261\n",
       "9           trips.txt   35854422"
      ]
     },
     "execution_count": 313,
     "metadata": {},
     "output_type": "execute_result"
    }
   ],
   "source": [
    "# List feed - hard coded - to improve\n",
    "if selectedCity==\"Torino\":\n",
    "    fileName=\"torino/piemonte_it.zip\"\n",
    "if selectedCity ==\"Milano\":\n",
    "    fileName=\"milano/Export_OpenDataTPL_Current.zip\"\n",
    "\n",
    "path = TPL_DIR/fileName\n",
    "gt.list_gtfs(path)"
   ]
  },
  {
   "cell_type": "code",
   "execution_count": 314,
   "metadata": {},
   "outputs": [],
   "source": [
    "# Read and print feed\n",
    "feed = gt.read_gtfs(path, dist_units='km')"
   ]
  },
  {
   "cell_type": "code",
   "execution_count": 315,
   "metadata": {},
   "outputs": [],
   "source": [
    "# Load stops to intersect with sezioni \n",
    "# Multiple routes may use the same stop. The stop_id is used by systems as an internal identifier of this record (e.g., primary key in database), \n",
    "# and therefore the stop_id must be dataset unique.\n",
    "# Keep info \"wheelchair_boarding\"\n",
    "stops = feed.stops\n",
    "#Rename columns to transform in geopandas\n",
    "stops.rename(columns={\"stop_lat\": 'latitude', \"stop_lon\": 'longitude'}, inplace=True)"
   ]
  },
  {
   "cell_type": "code",
   "execution_count": 316,
   "metadata": {},
   "outputs": [],
   "source": [
    "#stops_geo: convert csv in geodataframe\n",
    "stops_geo = common_cfg.df_to_gdf(input_df=stops)"
   ]
  },
  {
   "cell_type": "code",
   "execution_count": 317,
   "metadata": {},
   "outputs": [
    {
     "data": {
      "text/plain": [
       "Index(['stop_id', 'stop_code', 'stop_name', 'stop_desc', 'latitude',\n",
       "       'longitude', 'zone_id', 'stop_url', 'location_type', 'parent_station',\n",
       "       'stop_timezone', 'wheelchair_boarding', 'geometry'],\n",
       "      dtype='object')"
      ]
     },
     "execution_count": 317,
     "metadata": {},
     "output_type": "execute_result"
    }
   ],
   "source": [
    "stops_geo.columns"
   ]
  },
  {
   "cell_type": "code",
   "execution_count": 318,
   "metadata": {},
   "outputs": [],
   "source": [
    "istatData.reset_index(level=0, inplace=True)\n",
    "istatDataMin = istatData[['geometry','IDquartiere','SEZ2011']]"
   ]
  },
  {
   "cell_type": "code",
   "execution_count": 319,
   "metadata": {},
   "outputs": [],
   "source": [
    "# We need to filter just on Turin, (we have date for the entire region)\n",
    "# keep only STOPS in Turin = geometry  + IDquartiere + SEZ2011\n",
    "# --> spatialjoin using geometry\n",
    "stops_geo_internal = gpd.sjoin(istatDataMin,stops_geo, how=\"inner\", op='intersects')"
   ]
  },
  {
   "cell_type": "code",
   "execution_count": 320,
   "metadata": {},
   "outputs": [],
   "source": [
    "#STOP TIMES gli stops per risalire alla tipologia della linea (metro, bus)\n",
    "stop_times = feed.stop_times\n",
    "stop_times = stop_times[[\"trip_id\",\"stop_id\"]]"
   ]
  },
  {
   "cell_type": "code",
   "execution_count": 323,
   "metadata": {},
   "outputs": [],
   "source": [
    "#filter just for city stop\n",
    "stop_times_city = stop_times.loc[stop_times['stop_id'].isin(stops_geo_internal[\"stop_id\"])]"
   ]
  },
  {
   "cell_type": "code",
   "execution_count": 324,
   "metadata": {},
   "outputs": [],
   "source": [
    "#mi recupero il trips id per poi andare a prendere il tipo routes\n",
    "trips = feed.trips\n",
    "trips = trips[[\"route_id\",\"trip_id\"]]\n",
    "trips_stop_times_city = trips.merge(stop_times_city, on=\"trip_id\")"
   ]
  },
  {
   "cell_type": "code",
   "execution_count": 325,
   "metadata": {},
   "outputs": [],
   "source": [
    "#routee - finale\n",
    "routes = feed.routes\n",
    "routes = routes [[\"route_id\",\"route_type\"]]\n",
    "routes_trips_stop_times_city = routes.merge(trips_stop_times_city, on=\"route_id\" )"
   ]
  },
  {
   "cell_type": "code",
   "execution_count": 326,
   "metadata": {},
   "outputs": [
    {
     "name": "stderr",
     "output_type": "stream",
     "text": [
      "/Users/mariaclaudiabodino/anaconda3/envs/mappa/lib/python3.5/site-packages/ipykernel/__main__.py:2: SettingWithCopyWarning: \n",
      "A value is trying to be set on a copy of a slice from a DataFrame\n",
      "\n",
      "See the caveats in the documentation: http://pandas.pydata.org/pandas-docs/stable/indexing.html#indexing-view-versus-copy\n",
      "  from ipykernel import kernelapp as app\n"
     ]
    }
   ],
   "source": [
    "final = routes_trips_stop_times_city[[\"route_id\",\"route_type\",\"stop_id\"]]\n",
    "final.drop_duplicates(inplace=True)"
   ]
  },
  {
   "cell_type": "code",
   "execution_count": 327,
   "metadata": {},
   "outputs": [],
   "source": [
    "final=final.merge(stops_geo_internal, on=\"stop_id\" )"
   ]
  },
  {
   "cell_type": "code",
   "execution_count": 329,
   "metadata": {},
   "outputs": [],
   "source": [
    "final = final.drop('geometry', 1)\n",
    "final = final.drop('stop_timezone',1)\n",
    "final = final.drop('stop_code', 1)\n",
    "final = final.drop('index_right',1)"
   ]
  },
  {
   "cell_type": "code",
   "execution_count": 330,
   "metadata": {},
   "outputs": [],
   "source": [
    "#Save Final data\n",
    "outFilename = '../../data/processed/'+selectedCity+'_TPL.csv'\n",
    "final.to_csv(outFilename, sep=';', index = False)"
   ]
  },
  {
   "cell_type": "code",
   "execution_count": null,
   "metadata": {},
   "outputs": [],
   "source": [
    "final.route_id.nunique()"
   ]
  },
  {
   "cell_type": "code",
   "execution_count": null,
   "metadata": {},
   "outputs": [],
   "source": [
    "final.stop_id.nunique()"
   ]
  },
  {
   "cell_type": "code",
   "execution_count": null,
   "metadata": {},
   "outputs": [],
   "source": [
    "#example with 1871 \n",
    "#stop_times_TO.loc[stop_times_TO.stop_id=='1871'].trip_id.value_counts()\n",
    "#test = routes_trips_stop_times_TO.loc[routes_trips_stop_times_TO.stop_id=='1871']\n",
    "#test.sort_values(['route_id', 'trip_id'], ascending=[True, True])\n",
    "#test_min = test[[\"route_id\",\"route_type\",\"stop_id\"]]"
   ]
  }
 ],
 "metadata": {
  "kernelspec": {
   "display_name": "Python [conda env:mappa]",
   "language": "python",
   "name": "conda-env-mappa-py"
  },
  "language_info": {
   "codemirror_mode": {
    "name": "ipython",
    "version": 3
   },
   "file_extension": ".py",
   "mimetype": "text/x-python",
   "name": "python",
   "nbconvert_exporter": "python",
   "pygments_lexer": "ipython3",
   "version": "3.5.5"
  }
 },
 "nbformat": 4,
 "nbformat_minor": 2
}
