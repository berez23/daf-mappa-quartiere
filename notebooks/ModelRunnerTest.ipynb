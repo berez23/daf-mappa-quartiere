{
 "cells": [
  {
   "cell_type": "markdown",
   "metadata": {},
   "source": [
    "## A simple model for demand and supply of geolocalized services in a city"
   ]
  },
  {
   "cell_type": "markdown",
   "metadata": {},
   "source": [
    "### Load libraries and classes"
   ]
  },
  {
   "cell_type": "code",
   "execution_count": null,
   "metadata": {
    "scrolled": true
   },
   "outputs": [],
   "source": [
    "import os\n",
    "import sys\n",
    "nb_dir = os.path.dirname(os.getcwd()) ## TODO: find way to put this into some global settings\n",
    "if nb_dir not in sys.path:\n",
    "    sys.path.append(nb_dir)\n",
    "\n",
    "from references import city_settings\n",
    "from src.models.city_items import ServiceType\n",
    "from src.models.process_tools import ModelRunner, ValuesPlotter"
   ]
  },
  {
   "cell_type": "code",
   "execution_count": null,
   "metadata": {},
   "outputs": [],
   "source": [
    "model_settings = {\n",
    "    ServiceType.School.label: {'mean_radius': 0.4, 'size_power_law': 0.5, 'private_rescaling': 0.8},\n",
    "    ServiceType.Library.label: {'mean_radius': 0.4},\n",
    "    ServiceType.TransportStop.label: {'mean_radius': 0.3},\n",
    "    ServiceType.Pharmacy.label: {'mean_radius': 0.5},\n",
    "                }\n",
    "\n",
    "runner = ModelRunner(model_settings, \n",
    "                 cities=city_settings.default_cities,\n",
    "                 services=[ServiceType.School, ServiceType.Library])"
   ]
  },
  {
   "cell_type": "code",
   "execution_count": null,
   "metadata": {},
   "outputs": [],
   "source": [
    "used_calculator = runner.run()[0]\n",
    "#used_calculator.plot_attendance_distributions()"
   ]
  },
  {
   "cell_type": "code",
   "execution_count": null,
   "metadata": {},
   "outputs": [],
   "source": [
    "heat_map_plotter = ValuesPlotter(used_calculator.service_values)\n",
    "heat_map_plotter.plot_service_levels(ServiceType.School)"
   ]
  }
 ],
 "metadata": {
  "kernelspec": {
   "display_name": "Python 3",
   "language": "python",
   "name": "python3"
  },
  "language_info": {
   "codemirror_mode": {
    "name": "ipython",
    "version": 3
   },
   "file_extension": ".py",
   "mimetype": "text/x-python",
   "name": "python",
   "nbconvert_exporter": "python",
   "pygments_lexer": "ipython3",
   "version": "3.5.4"
  }
 },
 "nbformat": 4,
 "nbformat_minor": 2
}
