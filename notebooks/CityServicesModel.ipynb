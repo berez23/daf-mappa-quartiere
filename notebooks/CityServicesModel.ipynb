{
 "cells": [
  {
   "cell_type": "markdown",
   "metadata": {},
   "source": [
    "## A simple model for demand and supply of publicly-provided services in a city"
   ]
  },
  {
   "cell_type": "code",
   "execution_count": null,
   "metadata": {
    "scrolled": true
   },
   "outputs": [],
   "source": [
    "from enum import Enum\n",
    "import os.path\n",
    "\n",
    "import numpy as np\n",
    "import pandas as pd\n",
    "import geopandas as gpd\n",
    "import geopy, geopy.distance\n",
    "import shapely\n",
    "from sklearn import gaussian_process\n",
    "\n",
    "from matplotlib import pyplot as plt \n",
    "import seaborn as sns\n",
    "plt.rcParams['figure.figsize']= (20,14)"
   ]
  },
  {
   "cell_type": "code",
   "execution_count": null,
   "metadata": {},
   "outputs": [],
   "source": [
    "## TODO: find way to put this into some global settings\n",
    "import os\n",
    "import sys\n",
    "nb_dir = os.path.dirname(os.getcwd())\n",
    "if nb_dir not in sys.path:\n",
    "    sys.path.append(nb_dir)\n",
    "\n",
    "from references import common_cfg"
   ]
  },
  {
   "cell_type": "code",
   "execution_count": null,
   "metadata": {
    "scrolled": true
   },
   "outputs": [],
   "source": [
    "from src.models.city_items import AgeGroup, ServiceArea, ServiceType, SummaryNorm # enum classes for the model"
   ]
  },
  {
   "cell_type": "code",
   "execution_count": null,
   "metadata": {},
   "outputs": [],
   "source": [
    "from src.models.services_supply import ServiceUnit, ServiceEvaluator, UnitFactory, SchoolFactory, LibraryFactory \n",
    "from src.models.services_supply import get_random_pos #TODO refactor this fun into common utils\n",
    "\n",
    "from src.models.demand import DemandFrame\n",
    "from src.models.process_tools import MappedPositionsFrame, ServiceValues, GridMaker, ValuesPlotter"
   ]
  },
  {
   "cell_type": "code",
   "execution_count": null,
   "metadata": {
    "scrolled": false
   },
   "outputs": [],
   "source": [
    "quicktest = [ServiceUnit(ServiceType.Library, 'Duomo', ageDiffusionIn=None), \n",
    "        ServiceUnit(ServiceType.Library, 'Ripamonti', \n",
    "                    position=geopy.Point(45.43, 9.201), ageDiffusionIn=None)]\n",
    "ServiceEvaluator(quicktest).evaluate_services_at(MappedPositionsFrame(get_random_pos(4)))\n",
    "del quicktest"
   ]
  },
  {
   "cell_type": "code",
   "execution_count": null,
   "metadata": {
    "scrolled": true
   },
   "outputs": [],
   "source": [
    "## Load scuole\n",
    "scuoleFile =  '../data/processed/Milano_datiScuole.csv'\n",
    "schoolLoader = UnitFactory.createLoader(ServiceType.School, scuoleFile)\n",
    "\n",
    "# Initialise with a default lengthscale of 0.5 km\n",
    "schoolUnits = schoolLoader.load(meanRadius=0.5)\n",
    "schoolEval = ServiceEvaluator(schoolUnits)"
   ]
  },
  {
   "cell_type": "code",
   "execution_count": null,
   "metadata": {},
   "outputs": [],
   "source": [
    "## Load biblioteche\n",
    "bibliotecheFile =  '../data/processed/Milano_biblioteche.csv'\n",
    "bibliotecheLoader = UnitFactory.createLoader(ServiceType.Library, bibliotecheFile)\n",
    "\n",
    "# Initialise with a default lengthscale of 0.5 km\n",
    "libraryUnits = bibliotecheLoader.load(meanRadius=0.5)"
   ]
  },
  {
   "cell_type": "code",
   "execution_count": null,
   "metadata": {},
   "outputs": [],
   "source": [
    "# call grid making to discretise service evaluation, this is an alternative to evaluating on the demand units\n",
    "milanoGridMK = GridMaker({'quartieri':'../data/raw/Milano_specific/Milano_quartieri.geojson'}, gridStep=.5)"
   ]
  },
  {
   "cell_type": "code",
   "execution_count": null,
   "metadata": {},
   "outputs": [],
   "source": [
    "# compute service levels\n",
    "testEvaluator = ServiceEvaluator(schoolUnits[:10])\n",
    "valuesGrid = testEvaluator.evaluate_services_at(milanoGridMK.grid)\n",
    "valuesGrid = testEvaluator.evaluate_services_at(frame.mappedPositions)"
   ]
  },
  {
   "cell_type": "code",
   "execution_count": null,
   "metadata": {},
   "outputs": [],
   "source": [
    "plotterNew = ValuesPlotter(valuesGrid)\n",
    "plotterNew.plot_service_levels(ServiceType.School, gridDensity=200) # plots with griddata+contourf"
   ]
  },
  {
   "cell_type": "code",
   "execution_count": null,
   "metadata": {},
   "outputs": [],
   "source": [
    "class KPICalculator:\n",
    "    '''Class to aggregate demand and evaluate section based and position based KPIs'''\n",
    "    \n",
    "    def __init__(self, demandFrame, serviceUnits, cityName):\n",
    "        assert cityName in common_cfg.cityList, 'Unrecognized city name %s' % cityName\n",
    "        assert isinstance(demandFrame, DemandFrame),'Demand frame expected'\n",
    "        assert all([isinstance(su, ServiceUnit) for su in serviceUnits]),'Demand unit list expected'\n",
    "        \n",
    "        self.city = cityName\n",
    "        self.demand = demandFrame\n",
    "        self.sources = serviceUnits\n",
    "        \n",
    "        # initialise the service evaluator\n",
    "        self.evaluator = ServiceEvaluator(serviceUnits)\n",
    "        self.serviceValues = {}\n",
    "        self.quartiereKPI = {}\n",
    "        self.istatKPI = {}\n",
    "\n",
    "        # derive Ages frame\n",
    "        ageMIndex = [demandFrame[common_cfg.IdQuartiereColName],\n",
    "                         demandFrame['Positions'].apply(tuple)]\n",
    "        self.agesFrame = demandFrame[AgeGroup.all()].set_index(ageMIndex)\n",
    "        self.agesTotals = self.agesFrame.groupby(level=0).sum()\n",
    "        \n",
    "        \n",
    "    def evaluate_services_at_demand(self):\n",
    "        self.serviceValues = self.evaluator.evaluate_services_at(\n",
    "            self.demand.mappedPositions)\n",
    "        return self.serviceValues\n",
    "    \n",
    "    \n",
    "    def compute_kpi_for_localized_services(self):\n",
    "        assert self.serviceValues, 'Service values not available, have you computed them?'\n",
    "        # get mean service levels by quartiere, weighting according to the number of citizens\n",
    "        for service, data in self.serviceValues.items():\n",
    "            out = []\n",
    "            for col in self.agesFrame.columns: # iterate over columns as Enums are not orderable...\n",
    "                # TODO: introduce Demand Factors to set to NaN the cases \n",
    "                # where a service is not needed by a certain AgeGroup\n",
    "                out.append(pd.Series.multiply(\n",
    "                    data[col], self.agesFrame[col])/self.agesTotals[col])\n",
    "                \n",
    "            weightedData = pd.concat(out, axis=1)\n",
    "            # sum weighted fractions and assign to output\n",
    "            self.quartiereKPI[service] = weightedData.groupby(\n",
    "                common_cfg.IdQuartiereColName).sum().reindex(\n",
    "                columns=AgeGroup.all(), copy=False)\n",
    "        \n",
    "        return self.quartiereKPI\n",
    "    \n",
    "    \n",
    "    def compute_kpi_for_istat_values(self):\n",
    "        pass\n",
    "    \n",
    "        "
   ]
  },
  {
   "cell_type": "code",
   "execution_count": null,
   "metadata": {},
   "outputs": [],
   "source": [
    "frame = DemandFrame.create_from_istat_cpa('Milano')\n",
    "demandTest = DemandFrame(frame.head(100).copy(),bDuplicatesCheck=False)\n",
    "tt = KPICalculator(demandTest, schoolUnits[:10], 'Milano')\n",
    "tt.evaluate_services_at_demand()\n",
    "tt.compute_kpi_for_localized_services()"
   ]
  },
  {
   "cell_type": "code",
   "execution_count": null,
   "metadata": {},
   "outputs": [],
   "source": [
    "class JSONWriter:\n",
    "    def __init__(self, kpiCalc):\n",
    "        assert isinstance(kpiCalc, KPICalculator), 'KPI calculator is needed'\n",
    "        self.layersData = kpiCalc.quartiereKPI\n",
    "        self.city = kpiCalc.city\n",
    "        self.areasTree = {}\n",
    "        for s in self.layersData:\n",
    "            area = s.serviceArea    \n",
    "            self.areasTree[area] = [s] + self.areasTree.get(area, []) \n",
    "\n",
    "        \n",
    "    def make_menu(self):\n",
    "        jsonList = common_cfg.make_output_menu(\n",
    "            self.city, services=list(self.layersData.keys()))\n",
    "        return jsonList\n",
    "        \n",
    "        \n",
    "    def make_serviceareas_output(self):\n",
    "        out = dict()\n",
    "        for area, layers in self.areasTree.items():\n",
    "            layerList = []\n",
    "            for service in layers:\n",
    "                data = self.layersData[service]\n",
    "                layerList.append(pd.Series(\n",
    "                    data[AgeGroup.all()].as_matrix().tolist(),\n",
    "                    index=data.index, name=service.name))\n",
    "            areaData = pd.concat(layerList, axis=1).reset_index()\n",
    "            out[area.value] = areaData.to_dict(orient='records')\n",
    "        return out \n",
    "    \n",
    "    \n",
    "    def write_all_files_to_default_path(self):\n",
    "        # build and write menu\n",
    "        with open(os.path.join(\n",
    "            '../',common_cfg.vizOutputPath, 'menu.js'), 'w') as menuFile:\n",
    "            json.dump(self.make_menu(), menuFile, sort_keys=True,\n",
    "                     indent=4, separators=(',', ' : '))\n",
    "        \n",
    "        # build and write all areas\n",
    "        areasOutput = self.make_serviceareas_output()\n",
    "        for name, data in areasOutput.items():\n",
    "            filename =  '%s_%s.js'%(self.city,name)\n",
    "            with open(os.path.join('../', common_cfg.outputPath,\n",
    "                        filename), 'w') as areaFile:\n",
    "                json.dump(data, areaFile, sort_keys=True,\n",
    "                          indent=4, separators=(',', ' : '))\n",
    "        "
   ]
  },
  {
   "cell_type": "code",
   "execution_count": null,
   "metadata": {
    "scrolled": true
   },
   "outputs": [],
   "source": [
    "yy = JSONWriter(tt)\n",
    "yy.write_all_files_to_default_path()"
   ]
  }
 ],
 "metadata": {
  "kernelspec": {
   "display_name": "Python 3",
   "language": "python",
   "name": "python3"
  },
  "language_info": {
   "codemirror_mode": {
    "name": "ipython",
    "version": 3
   },
   "file_extension": ".py",
   "mimetype": "text/x-python",
   "name": "python",
   "nbconvert_exporter": "python",
   "pygments_lexer": "ipython3",
   "version": "3.5.4"
  }
 },
 "nbformat": 4,
 "nbformat_minor": 2
}
