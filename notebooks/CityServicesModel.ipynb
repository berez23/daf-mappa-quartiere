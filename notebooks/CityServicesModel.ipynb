{
 "cells": [
  {
   "cell_type": "markdown",
   "metadata": {},
   "source": [
    "## A simple model for demand and supply of publicly-provided services in a city"
   ]
  },
  {
   "cell_type": "code",
   "execution_count": null,
   "metadata": {
    "scrolled": true
   },
   "outputs": [],
   "source": [
    "from enum import Enum\n",
    "import os.path\n",
    "\n",
    "import numpy as np\n",
    "import pandas as pd\n",
    "import geopandas as gpd\n",
    "import geopy, geopy.distance\n",
    "import shapely\n",
    "from sklearn import gaussian_process\n",
    "\n",
    "from matplotlib import pyplot as plt \n",
    "import seaborn as sns\n",
    "plt.rcParams['figure.figsize']= (20,14)"
   ]
  },
  {
   "cell_type": "code",
   "execution_count": null,
   "metadata": {},
   "outputs": [],
   "source": [
    "## TODO: find way to put this into some global settings\n",
    "import os\n",
    "import sys\n",
    "nb_dir = os.path.dirname(os.getcwd())\n",
    "if nb_dir not in sys.path:\n",
    "    sys.path.append(nb_dir)\n",
    "\n",
    "from references import common_cfg"
   ]
  },
  {
   "cell_type": "code",
   "execution_count": null,
   "metadata": {
    "scrolled": true
   },
   "outputs": [],
   "source": [
    "from src.models.city_items import AgeGroup, ServiceArea, ServiceType, SummaryNorm # enum classes for the model"
   ]
  },
  {
   "cell_type": "code",
   "execution_count": null,
   "metadata": {},
   "outputs": [],
   "source": [
    "from src.models.services_supply import ServiceUnit, ServiceEvaluator, UnitFactory, SchoolFactory, LibraryFactory \n",
    "from src.models.services_supply import get_random_pos #TODO refactor this fun into common utils\n",
    "\n",
    "from src.models.demand import DemandUnit, DemandUnitFactory\n",
    "\n",
    "from src.models.process_tools import MappedPositionsFrame, ServiceValues, GridMaker, ValuesPlotter"
   ]
  },
  {
   "cell_type": "code",
   "execution_count": null,
   "metadata": {
    "scrolled": false
   },
   "outputs": [],
   "source": [
    "quicktest = [ServiceUnit(ServiceType.PoliceStation, 'Duomo', ageDiffusionIn=None), \n",
    "        ServiceUnit(ServiceType.PoliceStation, 'Ripamonti', \n",
    "                    position=geopy.Point(45.43, 9.201), ageDiffusionIn=None)]\n",
    "ServiceEvaluator(quicktest).evaluate_services_at(MappedPositionsFrame(get_random_pos(4)))\n",
    "del quicktest"
   ]
  },
  {
   "cell_type": "code",
   "execution_count": null,
   "metadata": {
    "scrolled": true
   },
   "outputs": [],
   "source": [
    "## Load scuole\n",
    "scuoleFile =  '../data/processed/Milano_datiScuole.csv'\n",
    "schoolLoader = UnitFactory.createLoader(ServiceType.School, scuoleFile)\n",
    "\n",
    "# Initialise with a default lengthscale of 0.5 km\n",
    "schoolUnits = schoolLoader.load(meanRadius=0.5)\n",
    "schoolEval = ServiceEvaluator(schoolUnits)"
   ]
  },
  {
   "cell_type": "code",
   "execution_count": null,
   "metadata": {},
   "outputs": [],
   "source": [
    "## Load scuole\n",
    "bibliotecheFile =  '../data/processed/Milano_biblioteche.csv'\n",
    "bibliotecheLoader = UnitFactory.createLoader(ServiceType.Library, bibliotecheFile)\n",
    "\n",
    "# Initialise with a default lengthscale of 0.5 km\n",
    "libraryUnits = bibliotecheLoader.load(meanRadius=0.5)"
   ]
  },
  {
   "cell_type": "code",
   "execution_count": null,
   "metadata": {},
   "outputs": [],
   "source": [
    "allEvaluator = ServiceEvaluator(schoolUnits + libraryUnits)\n",
    "testEvaluator = ServiceEvaluator(schoolUnits[0:10])"
   ]
  },
  {
   "cell_type": "code",
   "execution_count": null,
   "metadata": {},
   "outputs": [],
   "source": [
    "def process_city_demand(cityName):\n",
    "    assert cityName in common_cfg.cityList, 'Unrecognized city name %s' % cityName\n",
    "    cityDemandFactory = DemandUnitFactory(cityName)\n",
    "    unitsOut = cityDemandFactory.make_units_at_centroids()\n",
    "    return unitsOut\n",
    "\n",
    "unitsOut = process_city_demand('Milano')"
   ]
  },
  {
   "cell_type": "code",
   "execution_count": null,
   "metadata": {},
   "outputs": [],
   "source": [
    "# call grid making to discretise service evaluation, this is an alternative to evaluating on the demand units\n",
    "milanoGridMK = GridMaker({'quartieri':'../data/raw/Milano_specific/Milano_quartieri.geojson'}, gridStep=.5)"
   ]
  },
  {
   "cell_type": "code",
   "execution_count": null,
   "metadata": {},
   "outputs": [],
   "source": [
    "# compute service levels\n",
    "#valuesGrid = testEvaluator.evaluate_services_at(milanoGridMK.grid)\n",
    "valuesGrid = testEvaluator.evaluate_services_at(mappedDemand)"
   ]
  },
  {
   "cell_type": "code",
   "execution_count": null,
   "metadata": {},
   "outputs": [],
   "source": [
    "plotterNew = ValuesPlotter(valuesGrid)\n",
    "plotterNew.plot_service_levels(ServiceType.School, gridDensity=200) # plots with griddata+contourf"
   ]
  },
  {
   "cell_type": "code",
   "execution_count": 46,
   "metadata": {},
   "outputs": [],
   "source": [
    "class KPICalculator:\n",
    "    '''Class to aggregate demand and evaluate section based and position based KPIs'''\n",
    "    \n",
    "    def __init__(self, demandUnits, serviceUnits):\n",
    "        assert all([isinstance(du, DemandUnit) for du in demandUnits]),'Demand unit list expected'\n",
    "        assert all([isinstance(su, ServiceUnit) for su in serviceUnits]),'Demand unit list expected'\n",
    "        self.demand = demandUnits\n",
    "        self.sources = serviceUnits\n",
    "        \n",
    "        # initialise the service evaluator\n",
    "        self.evaluator = ServiceEvaluator(serviceUnits)\n",
    "        self.serviceValues = {}\n",
    "        self.quartiereKPI = {}\n",
    "        \n",
    "        # extract the mapped positions from demand units\n",
    "        self.mappedPositions = MappedPositionsFrame(\n",
    "            positions = [u.position for u in self.demand],\n",
    "            idQuartiere= [u.attributes.get(common_cfg.IdQuartiereColName, [np.nan]) \\\n",
    "                          for u in self.demand])\n",
    "        \n",
    "        # stack ages distributions in a frame\n",
    "        self.agesFrame = pd.concat([u.export for u in self.demand])\n",
    "        \n",
    "        # store frequently used properties\n",
    "        #self.services = list(self.evaluator.outputServices)\n",
    "        #self.quartieri = self.mappedPositions.index.levels[0]\n",
    "        \n",
    "    def evaluate_services_at_demand(self):\n",
    "        self.serviceValues = self.evaluator.evaluate_services_at(self.mappedPositions)\n",
    "        return self.serviceValues\n",
    "    \n",
    "    \n",
    "    def compute_kpi_for_localized_services(self):\n",
    "        assert self.serviceValues, 'Service values not available, have you computed them?'\n",
    "        # get mean service levels by quartiere, weighting according to the number of citizens\n",
    "        for service, data in self.serviceValues.items():\n",
    "            out = []\n",
    "            for col in tt.agesFrame.columns: # iterate over columns as Enums are not orderable...\n",
    "                out.append(pd.Series.multiply(\n",
    "                    data[col], tt.agesFrame[col], level=1)/tt.agesFrame[col].sum())\n",
    "            weightedData = pd.concat(out)\n",
    "            # assign to output\n",
    "            self.quartiereKPI[service] = weightedData.groupby(\n",
    "                common_cfg.IdQuartiereColName).mean()\n",
    "        \n",
    "        return self.quartiereKPI\n",
    "    \n",
    "    \n",
    "    def compute_kpi_for_istat_values(self):\n",
    "        pass\n",
    "    \n",
    "        "
   ]
  },
  {
   "cell_type": "code",
   "execution_count": null,
   "metadata": {},
   "outputs": [],
   "source": [
    "demandTest = unitsOut[:10]\n",
    "tt = KPICalculator(demandTest, schoolUnits[:10])\n",
    "tt.evaluate_services_at_demand()\n",
    "tt.compute_kpi_for_localized_services()"
   ]
  },
  {
   "cell_type": "code",
   "execution_count": null,
   "metadata": {},
   "outputs": [],
   "source": [
    "tt.quartiereKPI"
   ]
  }
 ],
 "metadata": {
  "kernelspec": {
   "display_name": "Python 3",
   "language": "python",
   "name": "python3"
  },
  "language_info": {
   "codemirror_mode": {
    "name": "ipython",
    "version": 3
   },
   "file_extension": ".py",
   "mimetype": "text/x-python",
   "name": "python",
   "nbconvert_exporter": "python",
   "pygments_lexer": "ipython3",
   "version": "3.5.4"
  }
 },
 "nbformat": 4,
 "nbformat_minor": 2
}
