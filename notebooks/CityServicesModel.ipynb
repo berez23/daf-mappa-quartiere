{
 "cells": [
  {
   "cell_type": "markdown",
   "metadata": {},
   "source": [
    "## A simple model for demand and supply of publicly-provided services in a city"
   ]
  },
  {
   "cell_type": "code",
   "execution_count": null,
   "metadata": {
    "scrolled": true
   },
   "outputs": [],
   "source": [
    "from enum import Enum\n",
    "import os.path\n",
    "import json\n",
    "\n",
    "import numpy as np\n",
    "import pandas as pd\n",
    "import geopandas as gpd\n",
    "import geopy, geopy.distance\n",
    "import shapely\n",
    "from sklearn import gaussian_process\n",
    "\n",
    "from matplotlib import pyplot as plt \n",
    "import seaborn as sns\n",
    "plt.rcParams['figure.figsize']= (20,14)"
   ]
  },
  {
   "cell_type": "code",
   "execution_count": null,
   "metadata": {},
   "outputs": [],
   "source": [
    "## TODO: find way to put this into some global settings\n",
    "import os\n",
    "import sys\n",
    "nb_dir = os.path.dirname(os.getcwd())\n",
    "if nb_dir not in sys.path:\n",
    "    sys.path.append(nb_dir)\n",
    "\n",
    "from references import common_cfg, istat_kpi"
   ]
  },
  {
   "cell_type": "code",
   "execution_count": null,
   "metadata": {},
   "outputs": [],
   "source": [
    "from src.models.city_items import AgeGroup, ServiceArea, ServiceType, SummaryNorm # enum classes for the model\n",
    "from src.models.core import ServiceUnit, ServiceValues, ServiceEvaluator, \\\n",
    "    MappedPositionsFrame, DemandFrame, KPICalculator\n",
    "from src.models.factories import UnitFactory, SchoolFactory, LibraryFactory \n",
    "from src.models.process_tools import GridMaker, ValuesPlotter, JSONWriter\n",
    "from src.models.city_items import get_random_pos"
   ]
  },
  {
   "cell_type": "code",
   "execution_count": null,
   "metadata": {
    "scrolled": false
   },
   "outputs": [],
   "source": [
    "quicktest = [ServiceUnit(ServiceType.Library, 'Duomo', ageDiffusionIn=None), \n",
    "        ServiceUnit(ServiceType.Library, 'Ripamonti', \n",
    "                    position=geopy.Point(45.43, 9.201), ageDiffusionIn=None)]\n",
    "ServiceEvaluator(quicktest).evaluate_services_at(MappedPositionsFrame(get_random_pos(4)))\n",
    "del quicktest"
   ]
  },
  {
   "cell_type": "code",
   "execution_count": null,
   "metadata": {
    "scrolled": true
   },
   "outputs": [],
   "source": [
    "## Load scuole\n",
    "scuoleFile =  '../data/processed/Milano_datiScuole.csv'\n",
    "schoolLoader = UnitFactory.createLoader(ServiceType.School, scuoleFile)\n",
    "\n",
    "# Initialise with a default lengthscale of 0.5 km\n",
    "schoolUnits = schoolLoader.load(meanRadius=0.5)\n",
    "schoolEval = ServiceEvaluator(schoolUnits)"
   ]
  },
  {
   "cell_type": "code",
   "execution_count": null,
   "metadata": {},
   "outputs": [],
   "source": [
    "## Load biblioteche\n",
    "bibliotecheFile =  '../data/processed/Milano_biblioteche.csv'\n",
    "bibliotecheLoader = UnitFactory.createLoader(ServiceType.Library, bibliotecheFile)\n",
    "\n",
    "# Initialise with a default lengthscale of 0.5 km\n",
    "libraryUnits = bibliotecheLoader.load(meanRadius=0.5)"
   ]
  },
  {
   "cell_type": "code",
   "execution_count": null,
   "metadata": {},
   "outputs": [],
   "source": [
    "# call grid making to discretise service evaluation, this is an alternative to evaluating on the demand units\n",
    "milanoGridMK = GridMaker({'quartieri':'../data/raw/Milano_specific/Milano_quartieri.geojson'}, gridStep=.4)\n",
    "testEvaluator = ServiceEvaluator(schoolUnits[:200])\n",
    "# call evaluation on internal points only\n",
    "valuesGrid = testEvaluator.evaluate_services_at(milanoGridMK.grid)\n",
    "plotterNew = ValuesPlotter(valuesGrid)\n",
    "plotterNew.plot_locations()\n",
    "plotterNew.plot_service_levels(ServiceType.School) "
   ]
  },
  {
   "cell_type": "code",
   "execution_count": null,
   "metadata": {},
   "outputs": [],
   "source": [
    "frame = DemandFrame.create_from_istat_cpa('Milano')\n",
    "demandTest = DemandFrame(frame.head(500).copy(), False)\n",
    "tt = KPICalculator(demandTest, schoolUnits[::10], 'Milano')\n",
    "kk = tt.compute_kpi_for_istat_values()\n",
    "tt.compute_kpi_for_localized_services()"
   ]
  },
  {
   "cell_type": "code",
   "execution_count": null,
   "metadata": {},
   "outputs": [],
   "source": [
    "plotterDemand = ValuesPlotter(tt.weightedValues)\n",
    "plotterDemand.plot_service_levels(ServiceType.School)\n",
    "plotterDemandEval = ValuesPlotter(tt.serviceValues)\n",
    "plotterDemandEval.plot_service_levels(ServiceType.School)"
   ]
  },
  {
   "cell_type": "code",
   "execution_count": null,
   "metadata": {
    "scrolled": false
   },
   "outputs": [],
   "source": [
    "plotterNew = ValuesPlotter(ServiceValues(ServiceEvaluator(schoolUnits[::10]).servicePositions))\n",
    "plotterNew.plot_service_levels(ServiceType.School)\n",
    "plotterNew.plot_locations()"
   ]
  },
  {
   "cell_type": "code",
   "execution_count": null,
   "metadata": {},
   "outputs": [],
   "source": [
    "testCalc = KPICalculator(frame, schoolUnits[:10] + libraryUnits[:10], 'Milano')\n",
    "testCalc.compute_kpi_for_istat_values()\n",
    "testCalc.compute_kpi_for_localized_services()\n",
    "yy = JSONWriter(testCalc)\n",
    "yy.write_all_files_to_default_path()"
   ]
  }
 ],
 "metadata": {
  "kernelspec": {
   "display_name": "Python 3",
   "language": "python",
   "name": "python3"
  },
  "language_info": {
   "codemirror_mode": {
    "name": "ipython",
    "version": 3
   },
   "file_extension": ".py",
   "mimetype": "text/x-python",
   "name": "python",
   "nbconvert_exporter": "python",
   "pygments_lexer": "ipython3",
   "version": "3.5.4"
  }
 },
 "nbformat": 4,
 "nbformat_minor": 2
}
