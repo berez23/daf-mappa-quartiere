{
 "cells": [
  {
   "cell_type": "markdown",
   "metadata": {},
   "source": [
    "## A simple model for demand and supply of geolocalized services in a city"
   ]
  },
  {
   "cell_type": "markdown",
   "metadata": {},
   "source": [
    "### Load libraries and classes"
   ]
  },
  {
   "cell_type": "code",
   "execution_count": null,
   "metadata": {},
   "outputs": [],
   "source": [
    "import numpy as np\n",
    "import pandas as pd\n",
    "\n",
    "import os\n",
    "import sys\n",
    "nb_dir = os.path.dirname(os.getcwd()) ## TODO: find way to put this into some global settings\n",
    "if nb_dir not in sys.path:\n",
    "    sys.path.append(nb_dir)\n",
    "\n",
    "from references import common_cfg, istat_kpi, city_settings"
   ]
  },
  {
   "cell_type": "code",
   "execution_count": null,
   "metadata": {},
   "outputs": [],
   "source": [
    "from src.models.city_items import AgeGroup, ServiceArea, ServiceType, SummaryNorm # enum classes for the model\n",
    "from src.models.core import ServiceUnit, ServiceValues, ServiceEvaluator, \\\n",
    "    MappedPositionsFrame, DemandFrame, KPICalculator\n",
    "from src.models.factories import UnitFactory\n",
    "from src.models.process_tools import GridMaker, ValuesPlotter, JSONWriter\n",
    "from src.models.city_items import get_random_pos"
   ]
  },
  {
   "cell_type": "code",
   "execution_count": null,
   "metadata": {},
   "outputs": [],
   "source": [
    "selectedCity = 'Torino'"
   ]
  },
  {
   "cell_type": "markdown",
   "metadata": {},
   "source": [
    "### Load service data: locations, scales, other info for city"
   ]
  },
  {
   "cell_type": "code",
   "execution_count": null,
   "metadata": {},
   "outputs": [],
   "source": [
    "loaders=UnitFactory.make_loaders_for_city(city_settings.get_city_config(selectedCity))\n",
    "loaders"
   ]
  },
  {
   "cell_type": "code",
   "execution_count": null,
   "metadata": {},
   "outputs": [],
   "source": [
    "# Initialise with a default lengthscale of 0.5 km\n",
    "schoolUnits = loaders['Scuole'].load(meanRadius=0.5)\n",
    "\n",
    "# Initialise with a default lengthscale of 0.3 km\n",
    "pharmacyUnits = loaders['Farmacie'].load(meanRadius=0.3)\n",
    "\n",
    "# Initialise with a default lengthscale of 0.3 km\n",
    "## awful hack to quickly clean tpl file #FIXME\n",
    "loaders['Fermate TPL']._rawData = loaders['Fermate TPL']._rawData[\n",
    "    loaders['Fermate TPL']._rawData['route_type'].isin([0,1,3])].reset_index()\n",
    "\n",
    "tplUnits = loaders['Fermate TPL'].load(meanRadius=0.3)\n",
    "\n",
    "# Initialise with a default lengthscale of 0.5 km\n",
    "#libraryUnits = bibliotecheLoader.load(meanRadius=0.8)"
   ]
  },
  {
   "cell_type": "markdown",
   "metadata": {},
   "source": [
    "### Demand import from Censimento Popolazione e Abitazioni (CPA) 2011"
   ]
  },
  {
   "cell_type": "code",
   "execution_count": null,
   "metadata": {},
   "outputs": [],
   "source": [
    "demandData = DemandFrame.create_from_istat_cpa(selectedCity)\n",
    "\n",
    "bDemo = False\n",
    "if bDemo:\n",
    "    # demo mode, use a portion of the data\n",
    "    demandTest = DemandFrame(demandData.sample(50).copy(), False)\n",
    "    testUnits = schoolUnits[::10] + pharmacyUnits[::10] + tplUnits[::30] \n",
    "    calculator = KPICalculator(demandTest, testUnits, selectedCity)\n",
    "else:\n",
    "    calculator = KPICalculator(demandData, schoolUnits + pharmacyUnits + tplUnits, selectedCity)"
   ]
  },
  {
   "cell_type": "markdown",
   "metadata": {},
   "source": [
    "### Evaluate the services offer at the demand points and average over neighbourhood"
   ]
  },
  {
   "cell_type": "code",
   "execution_count": null,
   "metadata": {},
   "outputs": [],
   "source": [
    "# compute and plot demand/supply interaction for localized services \n",
    "calculator.evaluate_services_at_demand() # this might take a while.\n",
    "calculator.compute_kpi_for_localized_services()\n",
    "pass"
   ]
  },
  {
   "cell_type": "markdown",
   "metadata": {},
   "source": [
    "### Append Istat KPI and export averaged values by Neighbourhood-Service-AgeGroup to JSON"
   ]
  },
  {
   "cell_type": "code",
   "execution_count": null,
   "metadata": {},
   "outputs": [],
   "source": [
    "# compute istat kpi as well\n",
    "calculator.compute_kpi_for_istat_values()\n",
    "\n",
    "# write KPI to json output\n",
    "jsonMaker = JSONWriter(calculator)\n",
    "jsonMaker.write_all_files_to_default_path()"
   ]
  }
 ],
 "metadata": {
  "kernelspec": {
   "display_name": "Python 3",
   "language": "python",
   "name": "python3"
  },
  "language_info": {
   "codemirror_mode": {
    "name": "ipython",
    "version": 3
   },
   "file_extension": ".py",
   "mimetype": "text/x-python",
   "name": "python",
   "nbconvert_exporter": "python",
   "pygments_lexer": "ipython3",
   "version": "3.5.4"
  }
 },
 "nbformat": 4,
 "nbformat_minor": 2
}
