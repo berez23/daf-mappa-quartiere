{
 "cells": [
  {
   "cell_type": "markdown",
   "metadata": {},
   "source": [
    "## A simple model for demand and supply of publicly-provided services in a city"
   ]
  },
  {
   "cell_type": "code",
   "execution_count": null,
   "metadata": {
    "scrolled": true
   },
   "outputs": [],
   "source": [
    "from enum import Enum\n",
    "import os.path\n",
    "\n",
    "import numpy as np\n",
    "import pandas as pd\n",
    "import geopandas as gpd\n",
    "import geopy, geopy.distance\n",
    "import shapely\n",
    "from sklearn import gaussian_process\n",
    "\n",
    "from matplotlib import pyplot as plt \n",
    "import seaborn as sns\n",
    "plt.rcParams['figure.figsize']= (20,14)"
   ]
  },
  {
   "cell_type": "code",
   "execution_count": null,
   "metadata": {},
   "outputs": [],
   "source": [
    "## TODO: find way to put this into some global settings\n",
    "import os\n",
    "import sys\n",
    "nb_dir = os.path.dirname(os.getcwd())\n",
    "if nb_dir not in sys.path:\n",
    "    sys.path.append(nb_dir)\n",
    "\n",
    "from references import common_cfg"
   ]
  },
  {
   "cell_type": "code",
   "execution_count": null,
   "metadata": {
    "scrolled": true
   },
   "outputs": [],
   "source": [
    "from src.models.city_items import AgeGroup, ServiceArea, ServiceType, SummaryNorm # enum classes for the model"
   ]
  },
  {
   "cell_type": "code",
   "execution_count": null,
   "metadata": {},
   "outputs": [],
   "source": [
    "from src.models.services_supply import ServiceUnit, ServiceEvaluator, UnitFactory, SchoolFactory, LibraryFactory \n",
    "from src.models.services_supply import get_random_pos #TODO refactor this fun into common utils\n",
    "\n",
    "from src.models.demand import DemandUnit, DemandUnitFactory\n",
    "\n",
    "from src.models.process_tools import MappedPositionsFrame, ServiceValues, GridMaker, ValuesPlotter"
   ]
  },
  {
   "cell_type": "code",
   "execution_count": null,
   "metadata": {
    "scrolled": false
   },
   "outputs": [],
   "source": [
    "quicktest = [ServiceUnit(ServiceType.PoliceStation, 'Duomo', ageDiffusionIn=None), \n",
    "        ServiceUnit(ServiceType.PoliceStation, 'Ripamonti', \n",
    "                    position=geopy.Point(45.43, 9.201), ageDiffusionIn=None)]\n",
    "ServiceEvaluator(quicktest).evaluate_services_at(MappedPositionsFrame(get_random_pos(4)))\n",
    "del quicktest"
   ]
  },
  {
   "cell_type": "code",
   "execution_count": null,
   "metadata": {
    "scrolled": true
   },
   "outputs": [],
   "source": [
    "## Load scuole\n",
    "scuoleFile =  '../data/processed/Milano_datiScuole.csv'\n",
    "schoolLoader = UnitFactory.createLoader(ServiceType.School, scuoleFile)\n",
    "\n",
    "# Initialise with a default lengthscale of 0.5 km\n",
    "schoolUnits = schoolLoader.load(meanRadius=0.5)\n",
    "schoolEval = ServiceEvaluator(schoolUnits)"
   ]
  },
  {
   "cell_type": "code",
   "execution_count": null,
   "metadata": {},
   "outputs": [],
   "source": [
    "## Load scuole\n",
    "bibliotecheFile =  '../data/processed/Milano_biblioteche.csv'\n",
    "bibliotecheLoader = UnitFactory.createLoader(ServiceType.Library, bibliotecheFile)\n",
    "\n",
    "# Initialise with a default lengthscale of 0.5 km\n",
    "libraryUnits = bibliotecheLoader.load(meanRadius=0.5)"
   ]
  },
  {
   "cell_type": "code",
   "execution_count": null,
   "metadata": {},
   "outputs": [],
   "source": [
    "allEvaluator = ServiceEvaluator(schoolUnits + libraryUnits)\n",
    "testEvaluator = ServiceEvaluator(schoolUnits[0:10])"
   ]
  },
  {
   "cell_type": "code",
   "execution_count": null,
   "metadata": {},
   "outputs": [],
   "source": [
    "def process_city_demand(cityName):\n",
    "    assert cityName in common_cfg.cityList, 'Unrecognized city name %s' % cityName\n",
    "    cityDemandFactory = DemandUnitFactory(cityName)\n",
    "    unitsOut = cityDemandFactory.make_units_at_centroids()\n",
    "    mappedPosDemand = cityDemandFactory.export_mapped_positions()\n",
    "    return mappedPosDemand, unitsOut\n",
    "\n",
    "mappedDemand,_ = process_city_demand('Milano')"
   ]
  },
  {
   "cell_type": "code",
   "execution_count": null,
   "metadata": {},
   "outputs": [],
   "source": [
    "# call grid making to discretise service evaluation, this is an alternative to evaluating on the demand units\n",
    "milanoGridMK = GridMaker({'quartieri':'../data/raw/Milano_specific/Milano_quartieri.geojson'}, gridStep=.5)"
   ]
  },
  {
   "cell_type": "code",
   "execution_count": null,
   "metadata": {},
   "outputs": [],
   "source": [
    "# compute service levels\n",
    "#valuesGrid = testEvaluator.evaluate_services_at(milanoGridMK.grid)\n",
    "valuesGrid = testEvaluator.evaluate_services_at(mappedDemand)"
   ]
  },
  {
   "cell_type": "code",
   "execution_count": null,
   "metadata": {},
   "outputs": [],
   "source": [
    "from scipy.interpolate import griddata\n",
    "                \n",
    "class ValuesPlotter:\n",
    "    '''\n",
    "    A class that plots various types of output from a UnitAggregator\n",
    "    '''\n",
    "    def __init__(self, serviceValues):\n",
    "        assert isinstance(serviceValues, ServiceValues), 'ServiceValues class expected'\n",
    "        self.values = serviceValues\n",
    "        #self.ua = unitAggregatorIn\n",
    "        \n",
    "    def plot_locations(self):\n",
    "        '''\n",
    "        Plots the locations of the initialized ServiceValues'\n",
    "        '''\n",
    "        plotScales = self.ua.scale/np.mean(self.ua.scale)\n",
    "        plt.figure()\n",
    "        plt.scatter(self.ua.longitude, self.ua.latitude, s=plotScales)\n",
    "        plt.axis('equal')\n",
    "        plt.show()\n",
    "        return None\n",
    "    \n",
    "        \n",
    "    def plot_service_levels(self, servType, gridDensity=40):\n",
    "        '''\n",
    "        Plots a contour graph of the results for each ageGroup.\n",
    "        '''\n",
    "        assert isinstance(servType, ServiceType), 'ServiceType expected in input'\n",
    "        \n",
    "        for ageGroup, valuesSeries in self.values[servType].items():\n",
    "            valuesArray = valuesSeries.values\n",
    "            coordsList = list(zip(*valuesSeries.index.levels[1]))\n",
    "            xPlot = coordsList[1]\n",
    "            yPlot = coordsList[0]\n",
    "            if np.count_nonzero(valuesArray) > 0:\n",
    "                # grid the data using natural neighbour interpolation\n",
    "                xi = np.linspace(min(xPlot), max(xPlot), gridDensity)\n",
    "                yi = np.linspace(min(yPlot), max(yPlot), gridDensity)\n",
    "                zi = griddata((xPlot, yPlot), valuesArray, (xi[None,:], yi[:,None]), 'linear')\n",
    "                # clip to zero\n",
    "                bNeg = ~np.isnan(zi) & (zi<0)\n",
    "                #zi[bNeg] = 0\n",
    "                plt.figure()\n",
    "                plt.title(ageGroup)\n",
    "                CS = plt.contourf(xi, yi, zi, 20)\n",
    "                cbar = plt.colorbar(CS)\n",
    "                cbar.ax.set_ylabel('Service level')\n",
    "                plt.show()\n",
    "            \n",
    "        return None"
   ]
  },
  {
   "cell_type": "code",
   "execution_count": null,
   "metadata": {},
   "outputs": [],
   "source": [
    "plotterNew = ValuesPlotter(valuesGrid)\n",
    "plotterNew.plot_service_levels(ServiceType.School, gridDensity=200) # plots with griddata+contourf"
   ]
  },
  {
   "cell_type": "code",
   "execution_count": null,
   "metadata": {},
   "outputs": [],
   "source": [
    "## WORK IN PROGRESS - not completed\n",
    "class Aggregator:\n",
    "    '''A class to aggregate provided values for mapped positions'''\n",
    "    \n",
    "    def __init__(self, serviceValues):\n",
    "        assert isinstance(serviceValues, ServiceValues), 'ServiceValues class expected'\n",
    "        self.sourceValues = serviceValues\n",
    "        self.services = list(serviceValues.keys())\n",
    "        self.quartieri = serviceValues.mappedPositions.index.levels[0]\n",
    "    \n",
    "    \n",
    "    def aggregate_values(self):\n",
    "        # initialize output\n",
    "        averagedValues = {service: pd.DataFrame(np.zeros([len(self.quartieri), len(AgeGroup.all())]), \n",
    "                                 index=self.quartieri, columns=AgeGroup.all()) \n",
    "                 for service in self.services}\n",
    "        \n",
    "        for service, data in self.sourceValues.items():\n",
    "            averagedValues[service] = data.groupby(common_cfg.IdQuartiereColName).mean()\n",
    "        \n",
    "        return averagedValues\n",
    "       \n",
    "    #for quartiere in quartieri:\n",
    "     #       bThisQuartiere = (self.IDquartiere == quartiere)\n",
    "            # loop over service types\n",
    "      #      if not bThisQuartiere.any():\n",
    "       #         print('Quartiere %s has no points in grid within it' % quartiere)\n",
    "        #        leftOutZones.append(quartiere)\n",
    "        #        continue\n",
    "                \n",
    "         #   for servType in self.serviceValues.keys():\n",
    "                \n",
    "                \n",
    "          #      for ageGroup, valuesSeries in self.serviceValues[servType].items(): \n",
    "          #          quartiereValues = [valuesSeries[tuple(p)] for p in self.plotPoints[bThisQuartiere]]\n",
    "          #          averagedValues[servType].loc[quartiere, ageGroup] = np.mean(quartiereValues)\n",
    "                    "
   ]
  },
  {
   "cell_type": "code",
   "execution_count": null,
   "metadata": {},
   "outputs": [],
   "source": [
    "zz = Aggregator(valuesGrid)\n",
    "#zz.aggregate_values()\n",
    "ww = zz.aggregate_values()\n",
    "ww[ServiceType.Library]"
   ]
  }
 ],
 "metadata": {
  "kernelspec": {
   "display_name": "Python 3",
   "language": "python",
   "name": "python3"
  },
  "language_info": {
   "codemirror_mode": {
    "name": "ipython",
    "version": 3
   },
   "file_extension": ".py",
   "mimetype": "text/x-python",
   "name": "python",
   "nbconvert_exporter": "python",
   "pygments_lexer": "ipython3",
   "version": "3.5.4"
  }
 },
 "nbformat": 4,
 "nbformat_minor": 2
}
