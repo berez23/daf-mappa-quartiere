{
 "cells": [
  {
   "cell_type": "markdown",
   "metadata": {},
   "source": [
    "## A simple model for demand and supply of geolocalized services in a city"
   ]
  },
  {
   "cell_type": "markdown",
   "metadata": {},
   "source": [
    "### Load libraries and classes"
   ]
  },
  {
   "cell_type": "code",
   "execution_count": 1,
   "metadata": {},
   "outputs": [],
   "source": [
    "import numpy as np\n",
    "import pandas as pd\n",
    "\n",
    "import os\n",
    "import sys\n",
    "nb_dir = os.path.dirname(os.getcwd()) ## TODO: find way to put this into some global settings\n",
    "if nb_dir not in sys.path:\n",
    "    sys.path.append(nb_dir)\n",
    "\n",
    "from references import common_cfg, istat_kpi, city_settings"
   ]
  },
  {
   "cell_type": "code",
   "execution_count": 2,
   "metadata": {},
   "outputs": [],
   "source": [
    "from src.models.city_items import AgeGroup, ServiceArea, ServiceType, SummaryNorm # enum classes for the model\n",
    "from src.models.core import ServiceUnit, ServiceValues, ServiceEvaluator, \\\n",
    "    MappedPositionsFrame, DemandFrame, KPICalculator\n",
    "from src.models.factories import UnitFactory\n",
    "from src.models.process_tools import GridMaker, ValuesPlotter, JSONWriter\n",
    "from src.models.city_items import get_random_pos"
   ]
  },
  {
   "cell_type": "code",
   "execution_count": 3,
   "metadata": {},
   "outputs": [],
   "source": [
    "selectedCity = 'Torino'"
   ]
  },
  {
   "cell_type": "markdown",
   "metadata": {},
   "source": [
    "### Load service data: locations, scales, other info for city"
   ]
  },
  {
   "cell_type": "code",
   "execution_count": 4,
   "metadata": {},
   "outputs": [
    {
     "data": {
      "text/plain": [
       "{'Biblioteche': <src.models.factories.LibraryFactory at 0x7fa3dc3a0128>,\n",
       " 'Farmacie': <src.models.factories.PharmacyFactory at 0x7fa3dc3a0550>,\n",
       " 'Fermate TPL': <src.models.factories.TransportStopFactory at 0x7fa39f6bdc50>,\n",
       " 'Scuole': <src.models.factories.SchoolFactory at 0x7fa3dc3a0438>}"
      ]
     },
     "execution_count": 4,
     "metadata": {},
     "output_type": "execute_result"
    }
   ],
   "source": [
    "loaders=UnitFactory.make_loaders_for_city(city_settings.get_city_config(selectedCity))\n",
    "loaders"
   ]
  },
  {
   "cell_type": "code",
   "execution_count": 5,
   "metadata": {},
   "outputs": [
    {
     "name": "stdout",
     "output_type": "stream",
     "text": [
      "Location data found\n",
      "Location data found\n",
      "Location data found\n"
     ]
    }
   ],
   "source": [
    "# Initialise with a default lengthscale of 0.5 km\n",
    "schoolUnits = loaders['Scuole'].load(meanRadius=0.5)\n",
    "\n",
    "# Initialise with a default lengthscale of 0.3 km\n",
    "pharmacyUnits = loaders['Farmacie'].load(meanRadius=0.3)\n",
    "\n",
    "# Initialise with a default lengthscale of 0.3 km\n",
    "## awful hack to quickly clean tpl file #FIXME\n",
    "loaders['Fermate TPL']._rawData = loaders['Fermate TPL']._rawData[\n",
    "    loaders['Fermate TPL']._rawData['route_type'].isin([0,1,3])].reset_index()\n",
    "\n",
    "tplUnits = loaders['Fermate TPL'].load(meanRadius=0.3)\n",
    "\n",
    "# Initialise with a default lengthscale of 0.5 km\n",
    "#libraryUnits = bibliotecheLoader.load(meanRadius=0.8)"
   ]
  },
  {
   "cell_type": "markdown",
   "metadata": {},
   "source": [
    "### Demand import from Censimento Popolazione e Abitazioni (CPA) 2011"
   ]
  },
  {
   "cell_type": "code",
   "execution_count": 6,
   "metadata": {},
   "outputs": [],
   "source": [
    "demandData = DemandFrame.create_from_istat_cpa(selectedCity)\n",
    "\n",
    "bDemo = True\n",
    "if bDemo:\n",
    "    # demo mode, use a portion of the data\n",
    "    demandTest = DemandFrame(demandData.sample(50).copy(), False)\n",
    "    testUnits = schoolUnits[::10] + pharmacyUnits[::10] + tplUnits[::30] \n",
    "    calculator = KPICalculator(demandTest, testUnits, selectedCity)\n",
    "else:\n",
    "    calculator = KPICalculator(demandData, schoolUnits + pharmacyUnits + tplUnits, selectedCity)"
   ]
  },
  {
   "cell_type": "markdown",
   "metadata": {},
   "source": [
    "### Evaluate the services offer at the demand points and average over neighbourhood"
   ]
  },
  {
   "cell_type": "code",
   "execution_count": 7,
   "metadata": {},
   "outputs": [],
   "source": [
    "# compute and plot demand/supply interaction for localized services \n",
    "calculator.evaluate_services_at_demand() # this might take a while.\n",
    "calculator.compute_kpi_for_localized_services()\n",
    "pass"
   ]
  },
  {
   "cell_type": "markdown",
   "metadata": {},
   "source": [
    "### Append Istat KPI and export averaged values by Neighbourhood-Service-AgeGroup to JSON"
   ]
  },
  {
   "cell_type": "code",
   "execution_count": 9,
   "metadata": {},
   "outputs": [
    {
     "name": "stdout",
     "output_type": "stream",
     "text": [
      "Had to skip employment density\n",
      "   IDquartiere                                      TransportStop\n",
      "0            1  [nan, nan, 1.1126, 1.0289, 1.1905, 1.1267, 1.1...\n",
      "1            2  [nan, nan, 0.413, 0.387, 0.4585, 0.4374, 0.460...\n",
      "2            3  [nan, nan, 0.7708, 0.7398, 0.7027, 0.7294, 0.7...\n",
      "3            4  [nan, nan, 0.6682, 0.7051, 0.6691, 0.6805, 0.6...\n",
      "4            5  [nan, nan, 0.9517, 0.9429, 0.9042, 0.9917, 0.8...\n",
      "5            6  [nan, nan, 0.3403, 0.3139, 0.3594, 0.3205, 0.4...\n",
      "6            7  [nan, nan, 0.5697, 0.6204, 0.6696, 0.6039, 0.6...\n",
      "7            8  [nan, nan, 0.4552, 0.5391, 0.4385, 0.3867, 0.4...\n",
      "   IDquartiere                                             School  \\\n",
      "0            1  [nan, nan, 0.0458, 0.0197, 0.3841, nan, nan, n...   \n",
      "1            2  [nan, nan, 0.2326, 0.0007, 0.1634, nan, nan, n...   \n",
      "2            3  [nan, nan, 0.5849, 0.7247, 0.008, nan, nan, na...   \n",
      "3            4  [nan, nan, 0.1925, 0.105, 0.0135, nan, nan, na...   \n",
      "4            5  [nan, nan, 0.2766, 0.0, 0.0353, nan, nan, nan,...   \n",
      "5            6  [nan, nan, 0.2417, 0.0031, 0.0784, nan, nan, n...   \n",
      "6            7  [nan, nan, 0.1465, 0.1442, 0.3087, nan, nan, n...   \n",
      "7            8  [nan, nan, 0.073, 0.1929, 0.1017, nan, nan, na...   \n",
      "\n",
      "                                             Library  \n",
      "0  [nan, nan, 0.0, 0.0, 0.0, 0.0, 0.0, 0.0, 0.0, ...  \n",
      "1  [nan, nan, 0.0, 0.0, 0.0, 0.0, 0.0, 0.0, 0.0, ...  \n",
      "2  [nan, nan, 0.0, 0.0, 0.0, 0.0, 0.0, 0.0, 0.0, ...  \n",
      "3  [nan, nan, 0.0, 0.0, 0.0, 0.0, 0.0, 0.0, 0.0, ...  \n",
      "4  [nan, nan, 0.0, 0.0, 0.0, 0.0, 0.0, 0.0, 0.0, ...  \n",
      "5  [nan, nan, 0.0, 0.0, 0.0, 0.0, 0.0, 0.0, 0.0, ...  \n",
      "6  [nan, nan, 0.0, 0.0, 0.0, 0.0, 0.0, 0.0, 0.0, ...  \n",
      "7  [nan, nan, 0.0, 0.0, 0.0, 0.0, 0.0, 0.0, 0.0, ...  \n",
      "   IDquartiere                                           Pharmacy\n",
      "0            1  [nan, 0.2044, 0.1652, 0.1747, 0.2015, 0.2204, ...\n",
      "1            2  [nan, 0.3238, 0.2616, 0.3596, 0.1849, 0.3203, ...\n",
      "2            3  [nan, 0.0522, 0.0394, 0.0395, 0.0617, 0.0573, ...\n",
      "3            4  [nan, 0.0381, 0.0552, 0.0458, 0.0594, 0.0762, ...\n",
      "4            5  [nan, 0.1616, 0.1194, 0.1673, 0.1028, 0.1113, ...\n",
      "5            6  [nan, 0.2288, 0.2477, 0.1869, 0.1827, 0.1244, ...\n",
      "6            7  [nan, 0.1746, 0.1782, 0.2679, 0.2183, 0.201, 0...\n",
      "7            8  [nan, 0.0702, 0.0784, 0.062, 0.0575, 0.0685, 0...\n",
      "   IDquartiere                                         UrbanGreen\n",
      "0            1  [nan, 0.0, 0.0, 0.0, 0.0, 0.0, 0.0, 0.0, 0.0, ...\n",
      "1            2  [nan, 0.0, 0.0, 0.0, 0.0, 0.0, 0.0, 0.0, 0.0, ...\n",
      "2            3  [nan, 0.0, 0.0, 0.0, 0.0, 0.0, 0.0, 0.0, 0.0, ...\n",
      "3            4  [nan, 0.0, 0.0, 0.0, 0.0, 0.0, 0.0, 0.0, 0.0, ...\n",
      "4            5  [nan, 0.0, 0.0, 0.0, 0.0, 0.0, 0.0, 0.0, 0.0, ...\n",
      "5            6  [nan, 0.0, 0.0, 0.0, 0.0, 0.0, 0.0, 0.0, 0.0, ...\n",
      "6            7  [nan, 0.0, 0.0, 0.0, 0.0, 0.0, 0.0, 0.0, 0.0, ...\n",
      "7            8  [nan, 0.0, 0.0, 0.0, 0.0, 0.0, 0.0, 0.0, 0.0, ...\n"
     ]
    }
   ],
   "source": [
    "# compute istat kpi as well\n",
    "calculator.compute_kpi_for_istat_values()\n",
    "\n",
    "\n",
    "calculator.demand\n",
    "# write KPI to json output\n",
    "jsonMaker = JSONWriter(calculator)\n",
    "jsonMaker.write_all_files_to_default_path()"
   ]
  }
 ],
 "metadata": {
  "kernelspec": {
   "display_name": "Python 3",
   "language": "python",
   "name": "python3"
  },
  "language_info": {
   "codemirror_mode": {
    "name": "ipython",
    "version": 3
   },
   "file_extension": ".py",
   "mimetype": "text/x-python",
   "name": "python",
   "nbconvert_exporter": "python",
   "pygments_lexer": "ipython3",
   "version": "3.5.4"
  }
 },
 "nbformat": 4,
 "nbformat_minor": 2
}
