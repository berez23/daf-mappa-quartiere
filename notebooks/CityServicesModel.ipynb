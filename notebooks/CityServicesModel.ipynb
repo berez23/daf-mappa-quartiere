{
 "cells": [
  {
   "cell_type": "markdown",
   "metadata": {},
   "source": [
    "## A simple model for demand and supply of publicly-provided services in a city"
   ]
  },
  {
   "cell_type": "code",
   "execution_count": null,
   "metadata": {
    "scrolled": true
   },
   "outputs": [],
   "source": [
    "from enum import Enum\n",
    "import os.path\n",
    "import json\n",
    "\n",
    "import numpy as np\n",
    "import pandas as pd\n",
    "import geopandas as gpd\n",
    "import geopy, geopy.distance\n",
    "import shapely\n",
    "from sklearn import gaussian_process\n",
    "\n",
    "from matplotlib import pyplot as plt \n",
    "import seaborn as sns\n",
    "plt.rcParams['figure.figsize']= (20,14)"
   ]
  },
  {
   "cell_type": "code",
   "execution_count": null,
   "metadata": {},
   "outputs": [],
   "source": [
    "## TODO: find way to put this into some global settings\n",
    "import os\n",
    "import sys\n",
    "nb_dir = os.path.dirname(os.getcwd())\n",
    "if nb_dir not in sys.path:\n",
    "    sys.path.append(nb_dir)\n",
    "\n",
    "from references import common_cfg"
   ]
  },
  {
   "cell_type": "code",
   "execution_count": null,
   "metadata": {
    "scrolled": true
   },
   "outputs": [],
   "source": [
    "from src.models.city_items import AgeGroup, ServiceArea, ServiceType, SummaryNorm # enum classes for the model"
   ]
  },
  {
   "cell_type": "code",
   "execution_count": null,
   "metadata": {},
   "outputs": [],
   "source": [
    "from references import istat_kpi"
   ]
  },
  {
   "cell_type": "code",
   "execution_count": null,
   "metadata": {},
   "outputs": [],
   "source": [
    "from src.models.services_supply import ServiceUnit, ServiceValues, ServiceEvaluator, MappedPositionsFrame\n",
    "from src.models.factories import UnitFactory, SchoolFactory, LibraryFactory \n",
    "from src.models.demand import DemandFrame\n",
    "from src.models.process_tools import GridMaker, ValuesPlotter\n",
    "from src.models.city_items import get_random_pos"
   ]
  },
  {
   "cell_type": "code",
   "execution_count": null,
   "metadata": {
    "scrolled": false
   },
   "outputs": [],
   "source": [
    "quicktest = [ServiceUnit(ServiceType.Library, 'Duomo', ageDiffusionIn=None), \n",
    "        ServiceUnit(ServiceType.Library, 'Ripamonti', \n",
    "                    position=geopy.Point(45.43, 9.201), ageDiffusionIn=None)]\n",
    "ServiceEvaluator(quicktest).evaluate_services_at(MappedPositionsFrame(get_random_pos(4)))\n",
    "del quicktest"
   ]
  },
  {
   "cell_type": "code",
   "execution_count": null,
   "metadata": {
    "scrolled": true
   },
   "outputs": [],
   "source": [
    "## Load scuole\n",
    "scuoleFile =  '../data/processed/Milano_datiScuole.csv'\n",
    "schoolLoader = UnitFactory.createLoader(ServiceType.School, scuoleFile)\n",
    "\n",
    "# Initialise with a default lengthscale of 0.5 km\n",
    "schoolUnits = schoolLoader.load(meanRadius=0.5)\n",
    "schoolEval = ServiceEvaluator(schoolUnits)"
   ]
  },
  {
   "cell_type": "code",
   "execution_count": null,
   "metadata": {},
   "outputs": [],
   "source": [
    "## Load biblioteche\n",
    "bibliotecheFile =  '../data/processed/Milano_biblioteche.csv'\n",
    "bibliotecheLoader = UnitFactory.createLoader(ServiceType.Library, bibliotecheFile)\n",
    "\n",
    "# Initialise with a default lengthscale of 0.5 km\n",
    "libraryUnits = bibliotecheLoader.load(meanRadius=0.5)"
   ]
  },
  {
   "cell_type": "code",
   "execution_count": null,
   "metadata": {},
   "outputs": [],
   "source": [
    "# call grid making to discretise service evaluation, this is an alternative to evaluating on the demand units\n",
    "milanoGridMK = GridMaker({'quartieri':'../data/raw/Milano_specific/Milano_quartieri.geojson'}, gridStep=.4)\n",
    "testEvaluator = ServiceEvaluator(schoolUnits[:200])\n",
    "# call evaluation on internal points only\n",
    "valuesGrid = testEvaluator.evaluate_services_at(milanoGridMK.grid)\n",
    "plotterNew = ValuesPlotter(valuesGrid)\n",
    "plotterNew.plot_locations()\n",
    "plotterNew.plot_service_levels(ServiceType.School) "
   ]
  },
  {
   "cell_type": "code",
   "execution_count": null,
   "metadata": {},
   "outputs": [],
   "source": [
    "class KPICalculator:\n",
    "    '''Class to aggregate demand and evaluate section based and position based KPIs'''\n",
    "    \n",
    "    def __init__(self, demandFrame, serviceUnits, cityName):\n",
    "        assert cityName in common_cfg.cityList, 'Unrecognized city name %s' % cityName\n",
    "        assert isinstance(demandFrame, DemandFrame),'Demand frame expected'\n",
    "        assert all([isinstance(su, ServiceUnit) for su in serviceUnits]),'Service units list expected'\n",
    "        \n",
    "        self.city = cityName\n",
    "        self.demand = demandFrame\n",
    "        self.sources = serviceUnits\n",
    "        # initialise the service evaluator\n",
    "        self.evaluator = ServiceEvaluator(serviceUnits)\n",
    "        self.servicePositions = self.evaluator.servicePositions\n",
    "        # initialise output values\n",
    "        self.serviceValues = ServiceValues(self.demand.mappedPositions)\n",
    "        self.weightedValues = ServiceValues(self.demand.mappedPositions)\n",
    "        self.quartiereKPI = {}\n",
    "        self.istatKPI = pd.DataFrame()\n",
    "\n",
    "        # derive Ages frame\n",
    "        ageMIndex = [demandFrame[common_cfg.IdQuartiereColName],\n",
    "                         demandFrame[common_cfg.positionsCol].apply(tuple)]\n",
    "        self.agesFrame = demandFrame[AgeGroup.all()].set_index(ageMIndex)\n",
    "        self.agesTotals = self.agesFrame.groupby(level=0).sum()\n",
    "        \n",
    "        \n",
    "    def evaluate_services_at_demand(self):\n",
    "        self.serviceValues = self.evaluator.evaluate_services_at(\n",
    "            self.demand.mappedPositions)\n",
    "        return self.serviceValues\n",
    "    \n",
    "    \n",
    "    def compute_kpi_for_localized_services(self):\n",
    "        assert self.serviceValues, 'Service values not available, have you computed them?'\n",
    "        # get mean service levels by quartiere, weighting according to the number of citizens\n",
    "        for service, data in self.serviceValues.items():\n",
    "            checkRange = {}\n",
    "            for col in self.agesFrame.columns: # iterate over columns as Enums are not orderable...\n",
    "                if col in service.demandAges:\n",
    "                    self.weightedValues[service][col] = pd.Series.multiply(\n",
    "                        data[col], self.agesFrame[col])\n",
    "                else:\n",
    "                    self.weightedValues[service][col] = np.nan*data[col]\n",
    "            \n",
    "            checkRange = (data.groupby(common_cfg.IdQuartiereColName).min()-np.finfo(float).eps,\n",
    "                              data.groupby(common_cfg.IdQuartiereColName).max()+np.finfo(float).eps)\n",
    "            \n",
    "            # sum weighted fractions by neighbourhood\n",
    "            weightedSums = self.weightedValues[service].groupby(common_cfg.IdQuartiereColName).sum()\n",
    "            # set to NaN value the AgeGroups that have no people or there is no demand for the service\n",
    "            weightedSums[self.agesTotals == 0] = np.nan\n",
    "            weightedSums.iloc[:, ~weightedSums.columns.isin(service.demandAges)] = np.nan\n",
    "            \n",
    "            self.quartiereKPI[service] = (weightedSums/self.agesTotals).reindex(\n",
    "                columns=AgeGroup.all(), copy=False)\n",
    "            \n",
    "            # check that the weighted mean lies between min and max in the neighbourhood\n",
    "            for col in self.quartiereKPI[service].columns:\n",
    "                bGood = (self.quartiereKPI[service][col].between(\n",
    "                    checkRange[0][col], checkRange[1][col]) | self.quartiereKPI[service][col].isnull())\n",
    "                assert all(bGood), 'Unexpected error in mean computation'\n",
    "            \n",
    "        return self.quartiereKPI\n",
    "\n",
    "    def compute_kpi_for_istat_values(self):\n",
    "        kpiFrame = istat_kpi.wrangle_istat_cpa2011(\n",
    "            self.demand.groupby(common_cfg.IdQuartiereColName).sum(),\n",
    "            self.city)\n",
    "        self.istatKPI = kpiFrame\n",
    "        return self.istatKPI"
   ]
  },
  {
   "cell_type": "code",
   "execution_count": null,
   "metadata": {},
   "outputs": [],
   "source": [
    "frame = DemandFrame.create_from_istat_cpa('Milano')\n",
    "demandTest = DemandFrame(frame.head(500).copy(), False)\n",
    "tt = KPICalculator(demandTest, schoolUnits[::10], 'Milano')\n",
    "kk = tt.compute_kpi_for_istat_values()\n",
    "tt.compute_kpi_for_localized_services()"
   ]
  },
  {
   "cell_type": "code",
   "execution_count": null,
   "metadata": {},
   "outputs": [],
   "source": [
    "from scipy.interpolate import griddata\n",
    "                \n",
    "class ValuesPlotter:\n",
    "    '''\n",
    "    A class that plots various types of output from ServiceValues\n",
    "    '''\n",
    "    def __init__(self, serviceValues, bOnGrid=False):\n",
    "        assert isinstance(serviceValues, ServiceValues), 'ServiceValues class expected'\n",
    "        self.values = serviceValues\n",
    "        self.bOnGrid = bOnGrid\n",
    "        \n",
    "        \n",
    "    def plot_locations(self):\n",
    "        '''\n",
    "        Plots the locations of the provided ServiceValues'\n",
    "        '''\n",
    "        coordNames = common_cfg.coordColNames\n",
    "        plt.figure()\n",
    "        plt.scatter(self.values.mappedPositions[coordNames[0]],\n",
    "                    self.values.mappedPositions[coordNames[1]])\n",
    "        plt.xlabel(coordNames[0])\n",
    "        plt.ylabel(coordNames[1])\n",
    "        plt.axis('equal')\n",
    "        plt.show()\n",
    "        return None\n",
    "    \n",
    "        \n",
    "    def plot_service_levels(self, servType, gridDensity=40, nLevels=50):\n",
    "        '''\n",
    "        Plots a contour graph of the results for each ageGroup.\n",
    "        '''\n",
    "        assert isinstance(servType, ServiceType), 'ServiceType expected in input'\n",
    "        \n",
    "        for ageGroup in self.values[servType].keys():\n",
    "            \n",
    "            xPlot,yPlot,z = self.values.plot_output(servType, ageGroup)\n",
    "            \n",
    "            if np.count_nonzero(z) > 0:\n",
    "                if self.bOnGrid:\n",
    "                    gridShape = (len(set(xPlot)), len(set(yPlot.flatten())))\n",
    "                    assert len(xPlot) == gridShape[0]*gridShape[1], 'X values do not seem on a grid'\n",
    "                    assert len(yPlot) == gridShape[0]*gridShape[1], 'Y values do not seem on a grid'\n",
    "                    xi = np.array(xPlot).reshape(gridShape)\n",
    "                    yi = np.array(yPlot).reshape(gridShape)\n",
    "                    zi = z.reshape(gridShape)\n",
    "                else:\n",
    "                    # grid the data using natural neighbour interpolation\n",
    "                    xi = np.linspace(min(xPlot), max(xPlot), gridDensity)\n",
    "                    yi = np.linspace(min(yPlot), max(yPlot), gridDensity)\n",
    "                    zi = griddata((xPlot, yPlot), z, (xi[None,:], yi[:,None]), 'nearest')\n",
    "                    \n",
    "                plt.figure()\n",
    "                plt.title(ageGroup)\n",
    "                CS = plt.contourf(xi, yi, zi, nLevels)\n",
    "                cbar = plt.colorbar(CS)\n",
    "                cbar.ax.set_ylabel('Service level')\n",
    "                plt.show()\n",
    "            \n",
    "        return None"
   ]
  },
  {
   "cell_type": "code",
   "execution_count": null,
   "metadata": {},
   "outputs": [],
   "source": [
    "plotterDemand = ValuesPlotter(tt.weightedValues)\n",
    "plotterDemand.plot_service_levels(ServiceType.School)\n",
    "plotterDemandEval = ValuesPlotter(tt.serviceValues)\n",
    "plotterDemandEval.plot_service_levels(ServiceType.School)"
   ]
  },
  {
   "cell_type": "code",
   "execution_count": null,
   "metadata": {
    "scrolled": false
   },
   "outputs": [],
   "source": [
    "plotterNew = ValuesPlotter(ServiceValues(ServiceEvaluator(schoolUnits[::10]).servicePositions))\n",
    "plotterNew.plot_service_levels(ServiceType.School)\n",
    "plotterNew.plot_locations()"
   ]
  },
  {
   "cell_type": "code",
   "execution_count": null,
   "metadata": {},
   "outputs": [],
   "source": [
    "class JSONWriter:\n",
    "    def __init__(self, kpiCalc):\n",
    "        assert isinstance(kpiCalc, KPICalculator), 'KPI calculator is needed'\n",
    "        self.layersData = kpiCalc.quartiereKPI\n",
    "        self.istatData = kpiCalc.istatKPI\n",
    "        self.city = kpiCalc.city\n",
    "        self.areasTree = {}\n",
    "        for s in self.layersData:\n",
    "            area = s.serviceArea    \n",
    "            self.areasTree[area] = [s] + self.areasTree.get(area, []) \n",
    "\n",
    "        \n",
    "    def make_menu(self):\n",
    "        jsonList = common_cfg.make_output_menu(self.city, \n",
    "            services=list(self.layersData.keys()))\n",
    "        return jsonList\n",
    "        \n",
    "        \n",
    "    def make_serviceareas_output(self, precision=4):\n",
    "        out = dict()\n",
    "        \n",
    "        # make istat layer\n",
    "        istatFrame = self.istatData.round(precision)\n",
    "        origType = istatFrame.index.dtype.type\n",
    "        dataIstat = istatFrame.reset_index().to_dict(orient='records')\n",
    "        # restore type as pandas has a bug and casts to float if int\n",
    "        for quartiereData in dataIstat:\n",
    "            oldValue = quartiereData[common_cfg.IdQuartiereColName]\n",
    "            if origType in (np.int32, np.int64, int):\n",
    "                quartiereData[common_cfg.IdQuartiereColName] = int(oldValue)\n",
    "        out[common_cfg.istatLayerName] = dataIstat\n",
    "        \n",
    "        # make layers\n",
    "        for area, layers in self.areasTree.items():\n",
    "            layerList = []\n",
    "            for service in layers:\n",
    "                data = self.layersData[service].round(precision)\n",
    "                layerList.append(pd.Series(\n",
    "                    data[AgeGroup.all()].as_matrix().tolist(),\n",
    "                    index=data.index, name=service.name))\n",
    "            areaData = pd.concat(layerList, axis=1).reset_index()\n",
    "            print(areaData)\n",
    "            out[area.value] = areaData.to_dict(orient='records')\n",
    "        return out \n",
    "    \n",
    "    \n",
    "    def write_all_files_to_default_path(self):\n",
    "        # build and write menu\n",
    "        with open(os.path.join(\n",
    "            '../',common_cfg.vizOutputPath, 'menu.js'), 'w') as menuFile:\n",
    "            json.dump(self.make_menu(), menuFile, sort_keys=True,\n",
    "                     indent=4, separators=(',', ' : '))\n",
    "        \n",
    "        # build and write all areas\n",
    "        areasOutput = self.make_serviceareas_output()\n",
    "        for name, data in areasOutput.items():\n",
    "            filename =  '%s_%s.js'%(self.city,name)\n",
    "            with open(os.path.join('../', common_cfg.outputPath,\n",
    "                        filename), 'w') as areaFile:\n",
    "                json.dump(data, areaFile, sort_keys=True,\n",
    "                          indent=4, separators=(',', ' : '))\n",
    "    \n",
    "    "
   ]
  },
  {
   "cell_type": "code",
   "execution_count": null,
   "metadata": {},
   "outputs": [],
   "source": [
    "#demandTest[common_cfg.IdQuartiereColName]\n",
    "testCalc = KPICalculator(frame, schoolUnits[:10] + libraryUnits[:10], 'Milano')\n",
    "testCalc.compute_kpi_for_istat_values()\n",
    "testCalc.compute_kpi_for_localized_services()\n",
    "yy = JSONWriter(testCalc)\n",
    "yy.write_all_files_to_default_path()"
   ]
  },
  {
   "cell_type": "code",
   "execution_count": null,
   "metadata": {
    "scrolled": true
   },
   "outputs": [],
   "source": []
  }
 ],
 "metadata": {
  "kernelspec": {
   "display_name": "Python 3",
   "language": "python",
   "name": "python3"
  },
  "language_info": {
   "codemirror_mode": {
    "name": "ipython",
    "version": 3
   },
   "file_extension": ".py",
   "mimetype": "text/x-python",
   "name": "python",
   "nbconvert_exporter": "python",
   "pygments_lexer": "ipython3",
   "version": "3.5.4"
  }
 },
 "nbformat": 4,
 "nbformat_minor": 2
}
