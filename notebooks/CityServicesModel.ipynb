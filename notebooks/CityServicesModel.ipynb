{
 "cells": [
  {
   "cell_type": "markdown",
   "metadata": {},
   "source": [
    "## A simple model for demand and supply of publicly-provided services in a city"
   ]
  },
  {
   "cell_type": "code",
   "execution_count": null,
   "metadata": {
    "scrolled": true
   },
   "outputs": [],
   "source": [
    "from enum import Enum\n",
    "import os.path\n",
    "\n",
    "import numpy as np\n",
    "import pandas as pd\n",
    "import geopandas as gpd\n",
    "import geopy, geopy.distance\n",
    "import shapely\n",
    "from sklearn import gaussian_process\n",
    "\n",
    "from matplotlib import pyplot as plt \n",
    "import seaborn as sns\n",
    "plt.rcParams['figure.figsize']= (20,14)"
   ]
  },
  {
   "cell_type": "code",
   "execution_count": null,
   "metadata": {},
   "outputs": [],
   "source": [
    "## TODO: find way to put this into some global settings\n",
    "import os\n",
    "import sys\n",
    "nb_dir = os.path.dirname(os.getcwd())\n",
    "if nb_dir not in sys.path:\n",
    "    sys.path.append(nb_dir)\n",
    "\n",
    "from references import common_cfg"
   ]
  },
  {
   "cell_type": "code",
   "execution_count": null,
   "metadata": {
    "scrolled": true
   },
   "outputs": [],
   "source": [
    "from src.models.city_items import AgeGroup, ServiceArea, ServiceType, SummaryNorm # enum classes for the model"
   ]
  },
  {
   "cell_type": "code",
   "execution_count": null,
   "metadata": {},
   "outputs": [],
   "source": [
    "from src.models.services_supply import ServiceUnit, ServiceEvaluator, UnitFactory, SchoolFactory, LibraryFactory \n",
    "from src.models.services_supply import get_random_pos #TODO refactor this fun into common utils\n",
    "from src.models.process_tools import MappedPositionsFrame, ServiceValues, GridMaker, ValuesPlotter"
   ]
  },
  {
   "cell_type": "code",
   "execution_count": null,
   "metadata": {
    "scrolled": false
   },
   "outputs": [],
   "source": [
    "quicktest = [ServiceUnit(ServiceType.PoliceStation, 'Duomo', ageDiffusionIn=None), \n",
    "        ServiceUnit(ServiceType.PoliceStation, 'Ripamonti', \n",
    "                    position=geopy.Point(45.43, 9.201), ageDiffusionIn=None)]\n",
    "ServiceEvaluator(quicktest).evaluate_services_at(MappedPositionsFrame(get_random_pos(4)))\n",
    "del quicktest"
   ]
  },
  {
   "cell_type": "code",
   "execution_count": null,
   "metadata": {
    "scrolled": true
   },
   "outputs": [],
   "source": [
    "## Load scuole\n",
    "scuoleFile =  '../data/processed/Milano_datiScuole.csv'\n",
    "schoolLoader = UnitFactory.createLoader(ServiceType.School, scuoleFile)\n",
    "\n",
    "# Initialise with a default lengthscale of 0.5 km\n",
    "schoolUnits = schoolLoader.load(meanRadius=0.5)\n",
    "schoolEval = ServiceEvaluator(schoolUnits)"
   ]
  },
  {
   "cell_type": "code",
   "execution_count": null,
   "metadata": {},
   "outputs": [],
   "source": [
    "## Load scuole\n",
    "bibliotecheFile =  '../data/processed/Milano_biblioteche.csv'\n",
    "bibliotecheLoader = UnitFactory.createLoader(ServiceType.Library, bibliotecheFile)\n",
    "\n",
    "# Initialise with a default lengthscale of 0.5 km\n",
    "libraryUnits = bibliotecheLoader.load(meanRadius=0.5)"
   ]
  },
  {
   "cell_type": "code",
   "execution_count": null,
   "metadata": {},
   "outputs": [],
   "source": [
    "allEvaluator = ServiceEvaluator(schoolUnits + libraryUnits)"
   ]
  },
  {
   "cell_type": "code",
   "execution_count": null,
   "metadata": {},
   "outputs": [],
   "source": [
    "milanoGridMK = GridMaker({'quartieri':'../data/raw/Milano_specific/Milano_quartieri.geojson'}, gridStep=.5)\n",
    "milanoGridMK.grid.head()"
   ]
  },
  {
   "cell_type": "code",
   "execution_count": null,
   "metadata": {},
   "outputs": [],
   "source": [
    "valuesGrid = allEvaluator.evaluate_services_at(milanoGridMK.grid)\n"
   ]
  },
  {
   "cell_type": "code",
   "execution_count": null,
   "metadata": {},
   "outputs": [],
   "source": [
    "## WORK IN PROGRESS - not completed\n",
    "class ValuesAggregator:\n",
    "    '''A class to aggregate provided values for mapped positions'''\n",
    "    \n",
    "    def aggregate_values(self):\n",
    "        \n",
    "        assert self.serviceValues, 'Empty values on grid found, compute first please!'\n",
    "        \n",
    "        quartieri = self.subdivisions[self.quartiereKey][self.IDquartiereCol].values\n",
    "        \n",
    "        # initialize output\n",
    "        averagedValues = {service: pd.DataFrame(np.zeros([len(quartieri), len(AgeGroup.all())]), \n",
    "                                 index=quartieri, columns=AgeGroup.all()) \n",
    "                 for service in self.serviceValues.keys()}\n",
    "      \n",
    "        leftOutZones = []\n",
    "        for quartiere in quartieri:\n",
    "            bThisQuartiere = (self.IDquartiere == quartiere)\n",
    "            # loop over service types\n",
    "            if not bThisQuartiere.any():\n",
    "                print('Quartiere %s has no points in grid within it' % quartiere)\n",
    "                leftOutZones.append(quartiere)\n",
    "                continue\n",
    "                \n",
    "            for servType in self.serviceValues.keys():\n",
    "                for ageGroup, valuesSeries in self.serviceValues[servType].items(): \n",
    "                    quartiereValues = [valuesSeries[tuple(p)] for p in self.plotPoints[bThisQuartiere]]\n",
    "                    averagedValues[servType].loc[quartiere, ageGroup] = np.mean(quartiereValues)\n",
    "                    \n",
    "        return averagedValues, leftOutZones"
   ]
  },
  {
   "cell_type": "code",
   "execution_count": null,
   "metadata": {},
   "outputs": [],
   "source": [
    "plotterNew = ValuesPlotter(valuesGrid)\n",
    "# plots with tricontourf, not so impressive\n",
    "plotterNew.plot_service_levels(ServiceType.School)"
   ]
  },
  {
   "cell_type": "code",
   "execution_count": null,
   "metadata": {
    "scrolled": false
   },
   "outputs": [],
   "source": [
    "plotterNew.plot_service_levels(ServiceType.Library)"
   ]
  }
 ],
 "metadata": {
  "kernelspec": {
   "display_name": "Python 3",
   "language": "python",
   "name": "python3"
  },
  "language_info": {
   "codemirror_mode": {
    "name": "ipython",
    "version": 3
   },
   "file_extension": ".py",
   "mimetype": "text/x-python",
   "name": "python",
   "nbconvert_exporter": "python",
   "pygments_lexer": "ipython3",
   "version": "3.5.4"
  }
 },
 "nbformat": 4,
 "nbformat_minor": 2
}
