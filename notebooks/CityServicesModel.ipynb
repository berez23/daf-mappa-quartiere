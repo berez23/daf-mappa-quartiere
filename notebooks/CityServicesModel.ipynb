{
 "cells": [
  {
   "cell_type": "markdown",
   "metadata": {},
   "source": [
    "## A simple model for demand and supply of publicly-provided services in a city"
   ]
  },
  {
   "cell_type": "code",
   "execution_count": null,
   "metadata": {
    "scrolled": true
   },
   "outputs": [],
   "source": [
    "from enum import Enum\n",
    "import os.path\n",
    "\n",
    "import numpy as np\n",
    "import pandas as pd\n",
    "import geopandas as gpd\n",
    "import geopy, geopy.distance\n",
    "import shapely\n",
    "from sklearn import gaussian_process\n",
    "\n",
    "from matplotlib import pyplot as plt \n",
    "import seaborn as sns\n",
    "plt.rcParams['figure.figsize']= (20,14)"
   ]
  },
  {
   "cell_type": "code",
   "execution_count": null,
   "metadata": {},
   "outputs": [],
   "source": [
    "## TODO: find way to put this into some global settings\n",
    "import os\n",
    "import sys\n",
    "nb_dir = os.path.dirname(os.getcwd())\n",
    "if nb_dir not in sys.path:\n",
    "    sys.path.append(nb_dir)\n",
    "\n",
    "from references import common_cfg"
   ]
  },
  {
   "cell_type": "code",
   "execution_count": null,
   "metadata": {
    "scrolled": true
   },
   "outputs": [],
   "source": [
    "from src.models.city_items import AgeGroup, ServiceArea, ServiceType, SummaryNorm # enum classes for the model"
   ]
  },
  {
   "cell_type": "code",
   "execution_count": null,
   "metadata": {},
   "outputs": [],
   "source": [
    "from src.models.services_supply import ServiceUnit, ServiceEvaluator, UnitFactory, SchoolFactory, LibraryFactory \n",
    "from src.models.services_supply import get_random_pos #TODO refactor this fun into common utils\n",
    "from src.models.process_tools import MappedPositionsFrame, GridMaker #TODO refactor this fun into common utils"
   ]
  },
  {
   "cell_type": "code",
   "execution_count": null,
   "metadata": {
    "scrolled": false
   },
   "outputs": [],
   "source": [
    "quicktest = [ServiceUnit(ServiceType.PoliceStation, 'Duomo', ageDiffusionIn=None), \n",
    "        ServiceUnit(ServiceType.PoliceStation, 'Ripamonti', \n",
    "                    position=geopy.Point(45.43, 9.201), ageDiffusionIn=None)]\n",
    "\n",
    "ServiceEvaluator(quicktest).evaluate_services_at(get_random_pos(4))\n",
    "del quicktest"
   ]
  },
  {
   "cell_type": "code",
   "execution_count": null,
   "metadata": {
    "scrolled": true
   },
   "outputs": [],
   "source": [
    "## Load scuole\n",
    "scuoleFile =  '../data/processed/Milano_datiScuole.csv'\n",
    "schoolLoader = UnitFactory.createLoader(ServiceType.School, scuoleFile)\n",
    "\n",
    "# Initialise with a default lengthscale of 0.5 km\n",
    "schoolUnits = schoolLoader.load(meanRadius=0.5)"
   ]
  },
  {
   "cell_type": "code",
   "execution_count": null,
   "metadata": {},
   "outputs": [],
   "source": [
    "## Load scuole\n",
    "bibliotecheFile =  '../data/processed/Milano_biblioteche.csv'\n",
    "bibliotecheLoader = UnitFactory.createLoader(ServiceType.Library, bibliotecheFile)\n",
    "\n",
    "# Initialise with a default lengthscale of 0.5 km\n",
    "libraryUnits = bibliotecheLoader.load(meanRadius=0.5)"
   ]
  },
  {
   "cell_type": "code",
   "execution_count": null,
   "metadata": {},
   "outputs": [],
   "source": [
    "testgridmaking = GridMaker({'quartieri':'../data/raw/Milano_specific/Milano_quartieri.geojson'}, gridStep=.5)"
   ]
  },
  {
   "cell_type": "code",
   "execution_count": null,
   "metadata": {},
   "outputs": [],
   "source": [
    "testgridmaking.mappedPositions"
   ]
  },
  {
   "cell_type": "code",
   "execution_count": null,
   "metadata": {},
   "outputs": [],
   "source": [
    "class ServiceValues(dict):\n",
    "    '''A class to store, make available for aggregation and easily export estimated service values'''\n",
    "    \n",
    "    def __init__(self, mappedPositions):\n",
    "        assert isinstance(mappedPositions, MappedPositionsFrame), 'Expected MappedPositionsFrame'\n",
    "        self.mappedPositions = mappedPositions\n",
    "        \n",
    "        # initialise for all service types\n",
    "        super().__init__(\n",
    "            {service: pd.DataFrame(np.zeros([mappedPositions.shape[0], len(AgeGroup.all())]),  \n",
    "                                 index=[tuple(t) for t in mappedPositions.Positions], columns=AgeGroup.all()) \n",
    "                 for service in ServiceType})\n",
    "    \n",
    "    @property    \n",
    "    def positions(self):\n",
    "        return list(self.mappedPositions.Positions.values)"
   ]
  },
  {
   "cell_type": "code",
   "execution_count": null,
   "metadata": {},
   "outputs": [],
   "source": [
    "class ServiceEvaluator:\n",
    "    '''A class to evaluate a given list of service units'''\n",
    "    \n",
    "    def __init__(self, unitList, outputServicesIn=[t for t in ServiceType]):\n",
    "        assert isinstance(unitList, list), 'List expected, got %s' % type(unitList)\n",
    "        assert all([isinstance(t, ServiceUnit) for t in unitList]), 'ServiceUnits expected in list'\n",
    "        self.units = unitList\n",
    "        self.outputServices = outputServicesIn\n",
    "    \n",
    "    def evaluate_services_at(self, mappedPositions):\n",
    "        assert isinstance(mappedPositions, MappedPositionsFrame), 'Expected MappedPositionsFrame'\n",
    "        # set all age groups as output default\n",
    "        outputAgeGroups = AgeGroup.all()\n",
    "        # initialise output with dedicated class\n",
    "        valuesStore = ServiceValues(mappedPositions)\n",
    "        \n",
    "        # loop over different services\n",
    "        for thisServType in self.outputServices:\n",
    "            serviceUnits = [u for u in self.units if u.service == thisServType]\n",
    "            if not serviceUnits:\n",
    "                continue\n",
    "            else:\n",
    "                for thisAgeGroup in outputAgeGroups:\n",
    "                    unitValues = np.stack(list(map(\n",
    "                        lambda x: x.evaluate(\n",
    "                            valuesStore.positions, thisAgeGroup), serviceUnits)), axis=-1)\n",
    "                    # aggregate unit contributions according to the service type norm\n",
    "                    valuesStore[thisServType][thisAgeGroup] = thisServType.aggregate_units(unitValues)\n",
    "        return valuesStore "
   ]
  },
  {
   "cell_type": "code",
   "execution_count": null,
   "metadata": {},
   "outputs": [],
   "source": [
    "class ValuesAggregator"
   ]
  },
  {
   "cell_type": "code",
   "execution_count": null,
   "metadata": {},
   "outputs": [],
   "source": [
    "## Aggregation\n",
    "def aggregate_values(self):\n",
    "        \n",
    "        assert self.serviceValues, 'Empty values on grid found, compute first please!'\n",
    "        \n",
    "        quartieri = self.subdivisions[self.quartiereKey][self.IDquartiereCol].values\n",
    "        \n",
    "        # initialize output\n",
    "        averagedValues = {service: pd.DataFrame(np.zeros([len(quartieri), len(AgeGroup.all())]), \n",
    "                                 index=quartieri, columns=AgeGroup.all()) \n",
    "                 for service in self.serviceValues.keys()}\n",
    "      \n",
    "        leftOutZones = []\n",
    "        for quartiere in quartieri:\n",
    "            bThisQuartiere = (self.IDquartiere == quartiere)\n",
    "            # loop over service types\n",
    "            if not bThisQuartiere.any():\n",
    "                print('Quartiere %s has no points in grid within it' % quartiere)\n",
    "                leftOutZones.append(quartiere)\n",
    "                continue\n",
    "                \n",
    "            for servType in self.serviceValues.keys():\n",
    "                for ageGroup, valuesSeries in self.serviceValues[servType].items(): \n",
    "                    quartiereValues = [valuesSeries[tuple(p)] for p in self.plotPoints[bThisQuartiere]]\n",
    "                    averagedValues[servType].loc[quartiere, ageGroup] = np.mean(quartiereValues)\n",
    "                    \n",
    "        return averagedValues, leftOutZones"
   ]
  },
  {
   "cell_type": "code",
   "execution_count": null,
   "metadata": {},
   "outputs": [],
   "source": [
    "# Prepare service level aggregation by quartiere\n",
    "schoolAggr = UnitAggregator(schoolUnits, \n",
    "                {'quartieri':'../data/raw/Milano_specific/Milano_quartieri.geojson'},\n",
    "                IDQuartiereField = common_cfg.IdQuartiereColName,\n",
    "                gridStep=.5)"
   ]
  },
  {
   "cell_type": "code",
   "execution_count": null,
   "metadata": {},
   "outputs": [],
   "source": [
    "# Prepare service level aggregation by quartiere\n",
    "libAggr = UnitAggregator(libraryUnits, \n",
    "                {'quartieri':'../data/raw/Milano_specific/Milano_quartieri.geojson'},\n",
    "                IDQuartiereField = common_cfg.IdQuartiereColName,\n",
    "                gridStep=.5)"
   ]
  },
  {
   "cell_type": "code",
   "execution_count": null,
   "metadata": {},
   "outputs": [],
   "source": [
    "## Plot tools\n",
    "from descartes import PolygonPatch\n",
    "\n",
    "class unitPlotter:\n",
    "    '''\n",
    "    A class that plots various types of output from a UnitAggregator\n",
    "    '''\n",
    "    def __init__(self, unitAggregatorIn):\n",
    "        assert isinstance(unitAggregatorIn, UnitAggregator), 'UnitAggregator class expected'\n",
    "        self.ua = unitAggregatorIn\n",
    "        \n",
    "    def plot_locations(self):\n",
    "        '''\n",
    "        Plots the loaded ServiceUnits according to their locations and rescale them by the relative sizes\n",
    "        '''\n",
    "        plotScales = self.ua.scale/np.mean(self.ua.scale)\n",
    "        plt.figure()\n",
    "        plt.scatter(self.ua.longitude, self.ua.latitude, s=plotScales)\n",
    "        plt.axis('equal')\n",
    "        plt.show()\n",
    "        return None\n",
    "        \n",
    "    def plot_grid_and_boundary(self):\n",
    "        fig = plt.figure()\n",
    "        ax = fig.gca()\n",
    "        plt.scatter(self.ua.xPlot[self.ua.bInPerimeter], self.ua.yPlot[self.ua.bInPerimeter], cmap='k', s=1)\n",
    "        ax.add_patch(PolygonPatch(self.ua.cityBoundary, fc='None',zorder=5))\n",
    "        plt.axis('equal')\n",
    "        plt.show()\n",
    "        return None\n",
    "        \n",
    "    def plot_service_levels(self, servType):\n",
    "        '''\n",
    "        Plots a contour graph of the results for each ageGroup.\n",
    "        '''\n",
    "        assert isinstance(servType, ServiceType), 'ServiceType expected in input'\n",
    "        \n",
    "        for ageGroup, valuesSeries in self.ua.serviceValues[servType].items():\n",
    "            valuesArray = np.vectorize(lambda p: valuesSeries[tuple(p)])(self.ua.plotPoints)\n",
    "            if np.count_nonzero(valuesArray) > 0:\n",
    "                plt.figure()\n",
    "                plt.title(ageGroup)\n",
    "                CS = plt.contourf(self.ua.xPlot, self.ua.yPlot, valuesArray, 40)\n",
    "                cbar = plt.colorbar(CS)\n",
    "                cbar.ax.set_ylabel('Service level')\n",
    "                plt.show()\n",
    "            \n",
    "        return None"
   ]
  },
  {
   "cell_type": "code",
   "execution_count": null,
   "metadata": {},
   "outputs": [],
   "source": [
    "plotterNew= unitPlotter(libAggr)\n",
    "plotterNew.plot_grid_and_boundary()\n",
    "#plotterNew.plot_service_levels(ServiceType.School)"
   ]
  },
  {
   "cell_type": "code",
   "execution_count": null,
   "metadata": {
    "scrolled": true
   },
   "outputs": [],
   "source": [
    "# Run evaluation\n",
    "libAggr.compute_service_levels(ServiceType.Library)"
   ]
  },
  {
   "cell_type": "code",
   "execution_count": null,
   "metadata": {},
   "outputs": [],
   "source": [
    "# Save and display aggregate values for zones\n",
    "out, _ = schoolAggr.aggregate_values\n",
    "finalSchoolData = out[ServiceType.Library].rename_axis(\n",
    "    schoolAggr.IDquartiereCol)\n",
    "finalSchoolData.to_csv('../data/output/Milano_librarySample.csv', encoding='utf-8')\n",
    "finalSchoolData"
   ]
  },
  {
   "cell_type": "code",
   "execution_count": null,
   "metadata": {},
   "outputs": [],
   "source": [
    "outtest = pd.read_csv('../data/output/Milano_librarySample.csv',\n",
    "                     index_col=common_cfg.IdQuartiereColName)\n",
    "outtest"
   ]
  },
  {
   "cell_type": "code",
   "execution_count": null,
   "metadata": {
    "scrolled": false
   },
   "outputs": [],
   "source": [
    "plotterNew.plot_service_levels(ServiceType.Library)"
   ]
  },
  {
   "cell_type": "code",
   "execution_count": null,
   "metadata": {},
   "outputs": [],
   "source": []
  }
 ],
 "metadata": {
  "kernelspec": {
   "display_name": "Python 3",
   "language": "python",
   "name": "python3"
  },
  "language_info": {
   "codemirror_mode": {
    "name": "ipython",
    "version": 3
   },
   "file_extension": ".py",
   "mimetype": "text/x-python",
   "name": "python",
   "nbconvert_exporter": "python",
   "pygments_lexer": "ipython3",
   "version": "3.5.4"
  }
 },
 "nbformat": 4,
 "nbformat_minor": 2
}
