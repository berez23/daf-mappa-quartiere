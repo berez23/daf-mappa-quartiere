{
 "cells": [
  {
   "cell_type": "markdown",
   "metadata": {},
   "source": [
    "## A simple model for demand and supply of publicly-provided services in a city"
   ]
  },
  {
   "cell_type": "code",
   "execution_count": 1,
   "metadata": {
    "scrolled": true
   },
   "outputs": [],
   "source": [
    "from enum import Enum\n",
    "import os.path\n",
    "\n",
    "import numpy as np\n",
    "import pandas as pd\n",
    "import geopandas as gpd\n",
    "import geopy, geopy.distance\n",
    "import shapely\n",
    "from sklearn import gaussian_process\n",
    "\n",
    "from matplotlib import pyplot as plt \n",
    "import seaborn as sns\n",
    "plt.rcParams['figure.figsize']= (20,14)"
   ]
  },
  {
   "cell_type": "code",
   "execution_count": 2,
   "metadata": {},
   "outputs": [],
   "source": [
    "## TODO: find way to put this into some global settings\n",
    "import os\n",
    "import sys\n",
    "nb_dir = os.path.dirname(os.getcwd())\n",
    "if nb_dir not in sys.path:\n",
    "    sys.path.append(nb_dir)\n",
    "\n",
    "from references import common_cfg"
   ]
  },
  {
   "cell_type": "code",
   "execution_count": 3,
   "metadata": {
    "scrolled": true
   },
   "outputs": [
    {
     "name": "stdout",
     "output_type": "stream",
     "text": [
      "WARNING: mock demand factors initalised for ServiceTypes\n",
      "WARNING: mock demand factors initalised for ServiceTypes\n",
      "WARNING: mock demand factors initalised for ServiceTypes\n",
      "WARNING: mock demand factors initalised for ServiceTypes\n"
     ]
    }
   ],
   "source": [
    "from src.models.city_items import AgeGroup, ServiceArea, ServiceType, SummaryNorm # enum classes for the model"
   ]
  },
  {
   "cell_type": "code",
   "execution_count": 4,
   "metadata": {},
   "outputs": [],
   "source": [
    "from src.models.services_supply import ServiceUnit, ServiceEvaluator, UnitFactory, SchoolFactory, LibraryFactory \n",
    "from src.models.services_supply import make_shapely_point, get_random_pos #TODO refactor this fun into common utils"
   ]
  },
  {
   "cell_type": "code",
   "execution_count": 5,
   "metadata": {
    "scrolled": false
   },
   "outputs": [],
   "source": [
    "quicktest = [ServiceUnit(ServiceType.PoliceStation, 'Duomo', ageDiffusionIn=None), \n",
    "        ServiceUnit(ServiceType.PoliceStation, 'Ripamonti', \n",
    "                    position=geopy.Point(45.43, 9.201), ageDiffusionIn=None)]\n",
    "\n",
    "ServiceEvaluator(quicktest).evaluate_services_at(get_random_pos(4))\n",
    "del quicktest"
   ]
  },
  {
   "cell_type": "code",
   "execution_count": 6,
   "metadata": {
    "scrolled": true
   },
   "outputs": [
    {
     "name": "stdout",
     "output_type": "stream",
     "text": [
      "Location data found\n"
     ]
    }
   ],
   "source": [
    "## Load scuole\n",
    "scuoleFile =  '../data/processed/Milano_datiScuole.csv'\n",
    "schoolLoader = UnitFactory.createLoader(ServiceType.School, scuoleFile)\n",
    "\n",
    "# Initialise with a default lengthscale of 0.5 km\n",
    "schoolUnits = schoolLoader.load(meanRadius=0.5)"
   ]
  },
  {
   "cell_type": "code",
   "execution_count": 7,
   "metadata": {},
   "outputs": [
    {
     "name": "stdout",
     "output_type": "stream",
     "text": [
      "Location data found\n"
     ]
    }
   ],
   "source": [
    "## Load scuole\n",
    "bibliotecheFile =  '../data/processed/Milano_biblioteche.csv'\n",
    "bibliotecheLoader = UnitFactory.createLoader(ServiceType.Library, bibliotecheFile)\n",
    "\n",
    "# Initialise with a default lengthscale of 0.5 km\n",
    "libraryUnits = bibliotecheLoader.load(meanRadius=0.5)"
   ]
  },
  {
   "cell_type": "code",
   "execution_count": 60,
   "metadata": {},
   "outputs": [],
   "source": [
    "class MappedPositionFrame(pd.DataFrame):\n",
    "    '''A class to collect an array of position alongside areas labels'''\n",
    "    # do not override DataFrame __init__\n",
    "    def __init__(self, *args, **kwargs):\n",
    "        super().__init__(*args, **kwargs)\n",
    "        self['Positions'] = list(map(lambda x,y: geopy.Point(y,x), \n",
    "                                     self[common_cfg.coordColNames[0]], self[common_cfg.coordColNames[1]]))\n",
    "    @property\n",
    "    def positions(self):\n",
    "        return None"
   ]
  },
  {
   "cell_type": "code",
   "execution_count": 56,
   "metadata": {},
   "outputs": [],
   "source": [
    "class GridMaker():\n",
    "    '''\n",
    "    A class to create a grid and map it to various given land subdivisions\n",
    "    '''\n",
    "    def __init__(self, cityGeoFilesDict, gridStep=0.1): #gridStep in km\n",
    "        self.quartiereKey = 'quartieri' #hardcoded\n",
    "        self.IDquartiereCol = common_cfg.IdQuartiereColName\n",
    "        \n",
    "        # load division geofiles with geopandas\n",
    "        self.subdivisions = {}\n",
    "        for name, fileName in cityGeoFilesDict.items():\n",
    "            self.subdivisions[name] = gpd.read_file(fileName)\n",
    "        \n",
    "        # compute city boundary\n",
    "        self.cityBoundary = shapely.ops.cascaded_union(self.subdivisions[self.quartiereKey]['geometry'])\n",
    "        \n",
    "        # precompute coordinate ranges\n",
    "        self.longRange = (self.cityBoundary.bounds[0], self.cityBoundary.bounds[2])\n",
    "        self.latRange = (self.cityBoundary.bounds[1], self.cityBoundary.bounds[3])\n",
    "        self.longNGrid = int(self.longitudeRangeKm // gridStep)+1\n",
    "        self.latNGrid = int(self.latitudeRangeKm // gridStep)+1\n",
    "        \n",
    "        (self.xPlot, self.yPlot) = np.meshgrid(np.linspace(*self.longRange, self.longNGrid),\n",
    "                                     np.linspace(*self.latRange, self.latNGrid), indexing='ij')\n",
    "        \n",
    "        # construct point objects with same shape\n",
    "        self.bInPerimeter = np.empty_like(self.xPlot, dtype=bool)\n",
    "        self.IDquartiere = np.empty_like(self.xPlot, dtype=object)\n",
    "        \n",
    "        for (i,j),_ in np.ndenumerate(self.bInPerimeter):\n",
    "            shplyPoint = shapely.geometry.Point((self.xPlot[i,j], self.yPlot[i,j]))\n",
    "            # mark points outside boundaries\n",
    "            self.bInPerimeter[i,j] = self.cityBoundary.contains(shplyPoint)\n",
    "            if self.bInPerimeter[i,j]:\n",
    "                bFound = False\n",
    "                for iRow in range(self.subdivisions[self.quartiereKey].shape[0]):\n",
    "                    thisQuartierePolygon = self.subdivisions[self.quartiereKey]['geometry'][iRow]\n",
    "                    if thisQuartierePolygon.contains(shplyPoint):\n",
    "                        # assign found ID\n",
    "                        self.IDquartiere[i,j] = self.subdivisions[\n",
    "                            self.quartiereKey][self.IDquartiereCol][iRow]\n",
    "                        bFound = True\n",
    "                        break # skip remanining zones\n",
    "                assert bFound, 'Point within city boundary was not assigned to any zone'\n",
    "        \n",
    "        # initialise mapping dict\n",
    "        mappingDict = {\n",
    "            common_cfg.coordColNames[0]:self.xPlot[self.bInPerimeter].flatten(), #long\n",
    "            common_cfg.coordColNames[1]:self.yPlot[self.bInPerimeter].flatten(), #lat\n",
    "            self.IDquartiereCol: self.IDquartiere[self.bInPerimeter],       #quartiere aggregation\n",
    "                        } \n",
    "        # call common format constructor\n",
    "        self.mappedPositions = MappedPositionFrame(mappingDict)\n",
    "        \n",
    "    @property\n",
    "    def longitudeRangeKm(self):\n",
    "        return geopy.distance.great_circle(\n",
    "            (self.latRange[0], self.longRange[0]), (self.latRange[0], self.longRange[1])).km\n",
    "    @property\n",
    "    def latitudeRangeKm(self):\n",
    "        return geopy.distance.great_circle(\n",
    "            (self.latRange[0], self.longRange[0]), (self.latRange[1], self.longRange[0])).km    "
   ]
  },
  {
   "cell_type": "code",
   "execution_count": 61,
   "metadata": {},
   "outputs": [],
   "source": [
    "testgridmaking = GridMaker({'quartieri':'../data/raw/Milano_specific/Milano_quartieri.geojson'}, gridStep=.5)"
   ]
  },
  {
   "cell_type": "code",
   "execution_count": null,
   "metadata": {},
   "outputs": [],
   "source": [
    "## Aggregation\n",
    "class UnitAggregator:\n",
    "    '''\n",
    "    A class to evaluate services on a grid and get average values for given land subdivisions\n",
    "    '''\n",
    "    def __init__(self, unitList, cityGeoFilesDict, IDQuartiereField, gridStep=0.1): #gridStep in km\n",
    "        assert isinstance(unitList, list), 'List expected'\n",
    "        assert all([isinstance(t, ServiceUnit) for t in unitList]), 'ServiceUnits expected in list'\n",
    "        self.units = unitList\n",
    "        self.quartiereKey = 'quartieri' #hardcoded\n",
    "        self.IDquartiereCol = IDQuartiereField\n",
    "        \n",
    "        # load division geofiles with geopandas\n",
    "        self.subdivisions = {}\n",
    "        for name, fileName in cityGeoFilesDict.items():\n",
    "            self.subdivisions[name] = gpd.read_file(fileName)\n",
    "        \n",
    "        # compute city boundary\n",
    "        self.cityBoundary = shapely.ops.cascaded_union(self.subdivisions[self.quartiereKey]['geometry'])\n",
    "        \n",
    "        # precompute coordinate rangesquartiereKey\n",
    "        self.longRange = (self.cityBoundary.bounds[0], self.cityBoundary.bounds[2])\n",
    "        self.latRange = (self.cityBoundary.bounds[1], self.cityBoundary.bounds[3])\n",
    "        self.longNGrid = int(self.longitudeRangeKm // gridStep)+1\n",
    "        self.latNGrid = int(self.latitudeRangeKm // gridStep)+1\n",
    "        \n",
    "        # precompute plotting grid\n",
    "        (self.xPlot, self.yPlot) = np.meshgrid(np.linspace(*self.longRange, self.longNGrid),\n",
    "                                               np.linspace(*self.latRange, self.latNGrid),\n",
    "                                        indexing='ij')\n",
    "        \n",
    "        # construct point objects with same shape\n",
    "        self.plotPoints = np.empty_like(self.xPlot, dtype=object)\n",
    "        self.bInPerimeter = np.empty_like(self.xPlot, dtype=bool)\n",
    "        self.IDquartiere = np.empty_like(self.xPlot, dtype=object)\n",
    "        \n",
    "        for (i,j),_ in np.ndenumerate(self.plotPoints):\n",
    "            self.plotPoints[i,j] = geopy.Point(self.yPlot[i,j], self.xPlot[i,j]) # (lat, long) format\n",
    "            shplyPoint = make_shapely_point(self.plotPoints[i,j])\n",
    "            # mark points outside boundaries\n",
    "            self.bInPerimeter[i,j] = self.cityBoundary.contains(shplyPoint)\n",
    "            if self.bInPerimeter[i,j]:\n",
    "                bFound = False\n",
    "                for iRow in range(self.subdivisions[self.quartiereKey].shape[0]):\n",
    "                    thisQuartierePolygon = self.subdivisions[self.quartiereKey]['geometry'][iRow]\n",
    "                    if thisQuartierePolygon.contains(shplyPoint):\n",
    "                        # assign found ID\n",
    "                        self.IDquartiere[i,j] = self.subdivisions[\n",
    "                            self.quartiereKey][self.IDquartiereCol][iRow]\n",
    "                        bFound = True\n",
    "                        break # skip remanining zones\n",
    "                assert bFound, 'Point within city boundary was not assigned to any zone'\n",
    "        \n",
    "    \n",
    "    @property\n",
    "    def longitude(self):\n",
    "        return [unit.site.longitude for unit in self.units]\n",
    "    @property\n",
    "    def longitudeRangeKm(self):\n",
    "        return geopy.distance.great_circle(\n",
    "            (self.latRange[0], self.longRange[0]), (self.latRange[0], self.longRange[1])).km\n",
    "    @property\n",
    "    def latitudeRangeKm(self):\n",
    "        return geopy.distance.great_circle(\n",
    "            (self.latRange[0], self.longRange[0]), (self.latRange[1], self.longRange[0])).km\n",
    "    @property\n",
    "    def latitude(self):\n",
    "        return [unit.site.latitude for unit in self.units]\n",
    "    @property\n",
    "    def scale(self):\n",
    "        scales = [unit.scale for unit in self.units]\n",
    "        return scales\n",
    "    \n",
    "    def compute_service_levels(self, servType):\n",
    "        '''\n",
    "        Evaluates on a grid the aggregate service level for the loaded ServiceUnits of a selected type.\n",
    "        '''\n",
    "        assert isinstance(servType, ServiceType), 'ServiceType expected in input'\n",
    "        \n",
    "        # extend internal cache with computed values\n",
    "        self.serviceValues[servType] = evaluate_services_at(\n",
    "            self.plotPoints.reshape(-1), self.units, [servType])[servType]\n",
    "        return None\n",
    "    \n",
    "    @property\n",
    "    def aggregate_values(self):\n",
    "        \n",
    "        assert self.serviceValues, 'Empty values on grid found, compute first please!'\n",
    "        \n",
    "        quartieri = self.subdivisions[self.quartiereKey][self.IDquartiereCol].values\n",
    "        \n",
    "        # initialize output\n",
    "        averagedValues = {service: pd.DataFrame(np.zeros([len(quartieri), len(AgeGroup.all())]), \n",
    "                                 index=quartieri, columns=AgeGroup.all()) \n",
    "                 for service in self.serviceValues.keys()}\n",
    "      \n",
    "        leftOutZones = []\n",
    "        for quartiere in quartieri:\n",
    "            bThisQuartiere = (self.IDquartiere == quartiere)\n",
    "            # loop over service types\n",
    "            if not bThisQuartiere.any():\n",
    "                print('Quartiere %s has no points in grid within it' % quartiere)\n",
    "                leftOutZones.append(quartiere)\n",
    "                continue\n",
    "                \n",
    "            for servType in self.serviceValues.keys():\n",
    "                for ageGroup, valuesSeries in self.serviceValues[servType].items(): \n",
    "                    quartiereValues = [valuesSeries[tuple(p)] for p in self.plotPoints[bThisQuartiere]]\n",
    "                    averagedValues[servType].loc[quartiere, ageGroup] = np.mean(quartiereValues)\n",
    "                    \n",
    "        return averagedValues, leftOutZones"
   ]
  },
  {
   "cell_type": "code",
   "execution_count": null,
   "metadata": {},
   "outputs": [],
   "source": [
    "# Prepare service level aggregation by quartiere\n",
    "schoolAggr = UnitAggregator(schoolUnits, \n",
    "                {'quartieri':'../data/raw/Milano_specific/Milano_quartieri.geojson'},\n",
    "                IDQuartiereField = common_cfg.IdQuartiereColName,\n",
    "                gridStep=.5)"
   ]
  },
  {
   "cell_type": "code",
   "execution_count": null,
   "metadata": {},
   "outputs": [],
   "source": [
    "# Prepare service level aggregation by quartiere\n",
    "libAggr = UnitAggregator(libraryUnits, \n",
    "                {'quartieri':'../data/raw/Milano_specific/Milano_quartieri.geojson'},\n",
    "                IDQuartiereField = common_cfg.IdQuartiereColName,\n",
    "                gridStep=.5)"
   ]
  },
  {
   "cell_type": "code",
   "execution_count": null,
   "metadata": {},
   "outputs": [],
   "source": [
    "## Plot tools\n",
    "from descartes import PolygonPatch\n",
    "\n",
    "class unitPlotter:\n",
    "    '''\n",
    "    A class that plots various types of output from a UnitAggregator\n",
    "    '''\n",
    "    def __init__(self, unitAggregatorIn):\n",
    "        assert isinstance(unitAggregatorIn, UnitAggregator), 'UnitAggregator class expected'\n",
    "        self.ua = unitAggregatorIn\n",
    "        \n",
    "    def plot_locations(self):\n",
    "        '''\n",
    "        Plots the loaded ServiceUnits according to their locations and rescale them by the relative sizes\n",
    "        '''\n",
    "        plotScales = self.ua.scale/np.mean(self.ua.scale)\n",
    "        plt.figure()\n",
    "        plt.scatter(self.ua.longitude, self.ua.latitude, s=plotScales)\n",
    "        plt.axis('equal')\n",
    "        plt.show()\n",
    "        return None\n",
    "        \n",
    "    def plot_grid_and_boundary(self):\n",
    "        fig = plt.figure()\n",
    "        ax = fig.gca()\n",
    "        plt.scatter(self.ua.xPlot[self.ua.bInPerimeter], self.ua.yPlot[self.ua.bInPerimeter], cmap='k', s=1)\n",
    "        ax.add_patch(PolygonPatch(self.ua.cityBoundary, fc='None',zorder=5))\n",
    "        plt.axis('equal')\n",
    "        plt.show()\n",
    "        return None\n",
    "        \n",
    "    def plot_service_levels(self, servType):\n",
    "        '''\n",
    "        Plots a contour graph of the results for each ageGroup.\n",
    "        '''\n",
    "        assert isinstance(servType, ServiceType), 'ServiceType expected in input'\n",
    "        \n",
    "        for ageGroup, valuesSeries in self.ua.serviceValues[servType].items():\n",
    "            valuesArray = np.vectorize(lambda p: valuesSeries[tuple(p)])(self.ua.plotPoints)\n",
    "            if np.count_nonzero(valuesArray) > 0:\n",
    "                plt.figure()\n",
    "                plt.title(ageGroup)\n",
    "                CS = plt.contourf(self.ua.xPlot, self.ua.yPlot, valuesArray, 40)\n",
    "                cbar = plt.colorbar(CS)\n",
    "                cbar.ax.set_ylabel('Service level')\n",
    "                plt.show()\n",
    "            \n",
    "        return None"
   ]
  },
  {
   "cell_type": "code",
   "execution_count": null,
   "metadata": {},
   "outputs": [],
   "source": [
    "plotterNew= unitPlotter(libAggr)\n",
    "plotterNew.plot_grid_and_boundary()\n",
    "#plotterNew.plot_service_levels(ServiceType.School)"
   ]
  },
  {
   "cell_type": "code",
   "execution_count": null,
   "metadata": {
    "scrolled": true
   },
   "outputs": [],
   "source": [
    "# Run evaluation\n",
    "libAggr.compute_service_levels(ServiceType.Library)"
   ]
  },
  {
   "cell_type": "code",
   "execution_count": null,
   "metadata": {},
   "outputs": [],
   "source": [
    "# Save and display aggregate values for zones\n",
    "out, _ = schoolAggr.aggregate_values\n",
    "finalSchoolData = out[ServiceType.Library].rename_axis(\n",
    "    schoolAggr.IDquartiereCol)\n",
    "finalSchoolData.to_csv('../data/output/Milano_librarySample.csv', encoding='utf-8')\n",
    "finalSchoolData"
   ]
  },
  {
   "cell_type": "code",
   "execution_count": null,
   "metadata": {},
   "outputs": [],
   "source": [
    "outtest = pd.read_csv('../data/output/Milano_librarySample.csv',\n",
    "                     index_col=common_cfg.IdQuartiereColName)\n",
    "outtest"
   ]
  },
  {
   "cell_type": "code",
   "execution_count": null,
   "metadata": {
    "scrolled": false
   },
   "outputs": [],
   "source": [
    "plotterNew.plot_service_levels(ServiceType.Library)"
   ]
  },
  {
   "cell_type": "code",
   "execution_count": null,
   "metadata": {},
   "outputs": [],
   "source": []
  }
 ],
 "metadata": {
  "kernelspec": {
   "display_name": "Python 3",
   "language": "python",
   "name": "python3"
  },
  "language_info": {
   "codemirror_mode": {
    "name": "ipython",
    "version": 3
   },
   "file_extension": ".py",
   "mimetype": "text/x-python",
   "name": "python",
   "nbconvert_exporter": "python",
   "pygments_lexer": "ipython3",
   "version": "3.5.4"
  }
 },
 "nbformat": 4,
 "nbformat_minor": 2
}
