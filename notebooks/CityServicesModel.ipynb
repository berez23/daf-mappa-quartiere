{
 "cells": [
  {
   "cell_type": "markdown",
   "metadata": {},
   "source": [
    "## A simple model for demand and supply of geolocalized services in a city"
   ]
  },
  {
   "cell_type": "markdown",
   "metadata": {},
   "source": [
    "### Load libraries and classes"
   ]
  },
  {
   "cell_type": "code",
   "execution_count": null,
   "metadata": {
    "scrolled": true
   },
   "outputs": [],
   "source": [
    "import numpy as np\n",
    "import pandas as pd\n",
    "\n",
    "import seaborn as sns\n",
    "from matplotlib import pyplot as plt\n",
    "\n",
    "import os\n",
    "import sys\n",
    "nb_dir = os.path.dirname(os.getcwd()) ## TODO: find way to put this into some global settings\n",
    "if nb_dir not in sys.path:\n",
    "    sys.path.append(nb_dir)\n",
    "\n",
    "from references import common_cfg, istat_kpi, city_settings"
   ]
  },
  {
   "cell_type": "code",
   "execution_count": null,
   "metadata": {
    "scrolled": true
   },
   "outputs": [],
   "source": [
    "from src.models.city_items import AgeGroup, ServiceArea, ServiceType, SummaryNorm # enum classes for the model\n",
    "from src.models.core import ServiceUnit, ServiceValues, ServiceEvaluator, \\\n",
    "    MappedPositionsFrame, DemandFrame, KPICalculator\n",
    "from src.models.factories import UnitFactory\n",
    "from src.models.process_tools import GridMaker, ValuesPlotter, JSONWriter"
   ]
  },
  {
   "cell_type": "code",
   "execution_count": null,
   "metadata": {
    "scrolled": true
   },
   "outputs": [],
   "source": [
    "selected_city = 'Milano'"
   ]
  },
  {
   "cell_type": "markdown",
   "metadata": {},
   "source": [
    "### Load service data: locations, scales, other info for city"
   ]
  },
  {
   "cell_type": "code",
   "execution_count": null,
   "metadata": {
    "scrolled": true
   },
   "outputs": [],
   "source": [
    "loaders=UnitFactory.make_loaders_for_city(city_settings.get_city_config(selected_city))\n",
    "loaders"
   ]
  },
  {
   "cell_type": "code",
   "execution_count": null,
   "metadata": {
    "scrolled": true
   },
   "outputs": [],
   "source": [
    "library_units = loaders['Biblioteche'].load(mean_radius=0.4)\n"
   ]
  },
  {
   "cell_type": "code",
   "execution_count": null,
   "metadata": {
    "scrolled": true
   },
   "outputs": [],
   "source": [
    "# Initialise with a default lengthscale of 0.5 km\n",
    "school_units = loaders['Scuole'].load(mean_radius=0.5)\n",
    "\n",
    "# Initialise with a default lengthscale of 0.6 km\n",
    "pharmacy_units = loaders['Farmacie'].load(mean_radius=0.5)\n",
    "\n",
    "# Initialise with a default lengthscale of 0.3 km\n",
    "## awful hack to quickly clean tpl file #FIXME\n",
    "loaders['Fermate TPL']._raw_data = loaders['Fermate TPL']._raw_data[\n",
    "    loaders['Fermate TPL']._raw_data['route_type'].isin([0,1,3])].reset_index()\n",
    "\n",
    "tpl_units = loaders['Fermate TPL'].load(mean_radius=0.3)\n",
    "\n",
    "# Initialise with a default lengthscale of 0.5 km\n",
    "library_units = loaders['Biblioteche'].load(mean_radius=0.4)"
   ]
  },
  {
   "cell_type": "markdown",
   "metadata": {},
   "source": [
    "### Demand import from Censimento Popolazione e Abitazioni (CPA) 2011"
   ]
  },
  {
   "cell_type": "code",
   "execution_count": null,
   "metadata": {
    "scrolled": true
   },
   "outputs": [],
   "source": [
    "demand_data = DemandFrame.create_from_istat_cpa(selected_city)\n",
    "\n",
    "b_demo = False\n",
    "if b_demo:\n",
    "    # demo mode, use a portion of the data\n",
    "    demand_test = DemandFrame(demand_data.sample(50, random_state=80).copy(), False)\n",
    "    test_units = school_units[::50] + pharmacy_units[::30] + tpl_units[::30] \n",
    "    calculator = KPICalculator(demand_test, test_units, selected_city)\n",
    "else:\n",
    "    calculator = KPICalculator(\n",
    "        demand_data, school_units + pharmacy_units + tpl_units + library_units, \n",
    "        selected_city)"
   ]
  },
  {
   "cell_type": "markdown",
   "metadata": {},
   "source": [
    "### Evaluate the services offer at the demand points and average over neighbourhood"
   ]
  },
  {
   "cell_type": "code",
   "execution_count": null,
   "metadata": {
    "scrolled": true
   },
   "outputs": [],
   "source": [
    "# print current value of kernel cutoff\n",
    "print('Ignoring interactions below %s \\n' % common_cfg.kernel_value_cutoff)\n",
    "\n",
    "# compute and plot demand/supply interaction for localized services \n",
    "calculator.evaluate_services_at_demand(b_evaluate_attendance=True, clip_level=1.4)  # this might take a while.\n",
    "\n",
    "calculator.compute_kpi_for_localized_services()\n",
    "\n",
    "for _,loader in loaders.items():\n",
    "    pass\n",
    "    loader.save_units_with_attendance_to_geojson(calculator.evaluator.units)"
   ]
  },
  {
   "cell_type": "code",
   "execution_count": null,
   "metadata": {},
   "outputs": [],
   "source": [
    "ptt = ValuesPlotter(calculator.service_values)\n",
    "ptt.plot_service_levels(ServiceType.Library)\n"
   ]
  },
  {
   "cell_type": "code",
   "execution_count": null,
   "metadata": {
    "scrolled": true
   },
   "outputs": [],
   "source": [
    "for service_type, units in calculator.evaluator.units_tree.items():\n",
    "    values = [u.attendance for u in units]\n",
    "    print(min(values), max(values))\n",
    "    sns.distplot(values, 80)\n",
    "    plt.title(service_type)\n",
    "    plt.show()"
   ]
  },
  {
   "cell_type": "markdown",
   "metadata": {},
   "source": [
    "### Append Istat KPI and export averaged values by Neighbourhood-Service-AgeGroup to JSON"
   ]
  },
  {
   "cell_type": "code",
   "execution_count": null,
   "metadata": {
    "scrolled": true
   },
   "outputs": [],
   "source": [
    "# compute istat kpi as well\n",
    "calculator.compute_kpi_for_istat_values()\n",
    "\n",
    "# write KPI to json outputb\n",
    "json_maker = JSONWriter(calculator)\n",
    "#jsonMaker.write_all_files_to_default_path()"
   ]
  },
  {
   "cell_type": "code",
   "execution_count": null,
   "metadata": {
    "scrolled": true
   },
   "outputs": [],
   "source": [
    "b_save_pickle = False\n",
    "import pickle\n",
    "import time\n",
    "filename = './pickles/'+ selected_city + '_%i.pickle' % int(time.time())\n",
    "if b_save_pickle:\n",
    "    with open(filename, 'wb') as f:\n",
    "        pickle.dump(calculator, f)"
   ]
  }
 ],
 "metadata": {
  "kernelspec": {
   "display_name": "Python 3",
   "language": "python",
   "name": "python3"
  },
  "language_info": {
   "codemirror_mode": {
    "name": "ipython",
    "version": 3
   },
   "file_extension": ".py",
   "mimetype": "text/x-python",
   "name": "python",
   "nbconvert_exporter": "python",
   "pygments_lexer": "ipython3",
   "version": "3.5.4"
  }
 },
 "nbformat": 4,
 "nbformat_minor": 2
}
