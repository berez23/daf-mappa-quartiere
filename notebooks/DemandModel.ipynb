{
 "cells": [
  {
   "cell_type": "markdown",
   "metadata": {},
   "source": [
    "## A simple model for demand and supply of publicly-provided services in a city"
   ]
  },
  {
   "cell_type": "markdown",
   "metadata": {},
   "source": [
    "### Demand modelling"
   ]
  },
  {
   "cell_type": "code",
   "execution_count": null,
   "metadata": {
    "scrolled": true
   },
   "outputs": [],
   "source": [
    "from enum import Enum\n",
    "import os.path\n",
    "\n",
    "import numpy as np\n",
    "import pandas as pd\n",
    "import geopandas as gpd\n",
    "import geopy, geopy.distance\n",
    "import shapely\n",
    "from sklearn import gaussian_process\n",
    "\n",
    "from matplotlib import pyplot as plt \n",
    "import seaborn as sns\n",
    "plt.rcParams['figure.figsize']= (20,14)"
   ]
  },
  {
   "cell_type": "code",
   "execution_count": null,
   "metadata": {},
   "outputs": [],
   "source": [
    "## TODO: find way to put this into some global settings\n",
    "import os\n",
    "import sys\n",
    "nb_dir = os.path.dirname(os.getcwd())\n",
    "if nb_dir not in sys.path:\n",
    "    sys.path.append(nb_dir)\n",
    "\n",
    "from references import common_cfg"
   ]
  },
  {
   "cell_type": "code",
   "execution_count": null,
   "metadata": {
    "scrolled": true
   },
   "outputs": [],
   "source": [
    "from src.models.cityItems import AgeGroup, ServiceArea, ServiceType, SummaryNorm # enum classes for the model"
   ]
  },
  {
   "cell_type": "code",
   "execution_count": null,
   "metadata": {},
   "outputs": [],
   "source": [
    "AgeGroup.classify_array(range(18))"
   ]
  },
  {
   "cell_type": "code",
   "execution_count": null,
   "metadata": {
    "scrolled": true
   },
   "outputs": [],
   "source": [
    "gaussKern = gaussian_process.kernels.RBF\n",
    "get_random_pos = lambda n: list(map(geopy.Point, list(zip(np.round(np.random.uniform(45.40, 45.50, n), 5), \n",
    "                                np.round(np.random.uniform(9.1, 9.3, n), 5)))))\n",
    "make_shapely_point = lambda geoPoint: shapely.geometry.Point((geoPoint.longitude, geoPoint.latitude))"
   ]
  },
  {
   "cell_type": "code",
   "execution_count": null,
   "metadata": {},
   "outputs": [],
   "source": [
    "### Demand modelling\n",
    "class DemandUnit:\n",
    "    def __init__(self, name, position, agesIn, attributesIn={}):\n",
    "        assert isinstance(name, str), 'Name must be a string'\n",
    "        assert isinstance(agesIn, dict), 'AgesInput should be a dict'\n",
    "        assert set(agesIn.keys()) <= set(AgeGroup.all()), 'Ages input keys should be AgeGroups'\n",
    "        assert isinstance(position, geopy.Point), 'Position must be a geopy Point'\n",
    "        assert isinstance(attributesIn, dict), 'Attributes can be provided in a dict'\n",
    "        \n",
    "        # expand input to all age group keys and assign default 0 to missing ones\n",
    "        self.ages = {a: agesIn.get(a, 0) for a in AgeGroup.all()}\n",
    "        self.name = name\n",
    "        self.position = position\n",
    "        self.polygon = attributesIn.get('geometry', [])\n",
    "        \n",
    "        # precompute export format for speed\n",
    "        self.export = pd.DataFrame(self.ages, index=(tuple(self.position)))\n",
    "    \n",
    "    @property\n",
    "    def totalPeople(self):\n",
    "        return sum(self.ages.values())"
   ]
  },
  {
   "cell_type": "code",
   "execution_count": null,
   "metadata": {
    "scrolled": true
   },
   "outputs": [],
   "source": [
    "def evaluate_demand(householdList, outputServices= [t for t in ServiceType]):\n",
    "    \"\"\" \"\"\"\n",
    "    # initialise output\n",
    "    outDemand = dict()\n",
    "    # consolidate positions. If two households share the same position, sum components.\n",
    "    householdData = pd.concat([h.export for h in householdList])\n",
    "    householdData['position'] = householdData.index \n",
    "    consolidated = householdData.groupby('position').sum()\n",
    "    \n",
    "    for thisServType in outputServices:\n",
    "        outDemand[thisServType] = consolidated*thisServType.demandFactors\n",
    "        \n",
    "    return outDemand"
   ]
  },
  {
   "cell_type": "code",
   "execution_count": null,
   "metadata": {},
   "outputs": [],
   "source": [
    "class DemandUnitFactory:\n",
    "    '''\n",
    "    A class to istantiate DemandUnits\n",
    "    '''\n",
    "    def __init__(self, cityNameIn):\n",
    "        assert cityNameIn in common_cfg.cityList, 'Unrecognised city name \"%s\"' % cityNameIn\n",
    "        self.data = common_cfg.get_istat_cpa_data(cityNameIn)\n",
    "        self.nSections = self.data.shape[0]\n",
    "        # prepare the AgeGroups cardinalities\n",
    "        groupsCol = 'ageGroup'\n",
    "        peopleBySampleAge = common_cfg.fill_sample_ages_in_cpa_columns(self.data)\n",
    "        dataByGroup = peopleBySampleAge.rename(AgeGroup.find_AgeGroup, axis='columns').T\n",
    "        dataByGroup.index.name = groupsCol # index is now given by AgeGroup items\n",
    "        dataByGroup = dataByGroup.reset_index() # extract to convert to categorical and groupby\n",
    "        dataByGroup[groupsCol] = dataByGroup[groupsCol].astype('category')\n",
    "        # finally assign in dict form where data.index are the keys\n",
    "        self.peopleByGroup = dataByGroup.groupby(groupsCol).sum().to_dict()\n",
    "        \n",
    "    def make_units_at_centroids(self):\n",
    "        unitList = []\n",
    "\n",
    "        # make units\n",
    "        for iUnit in range(self.nSections):\n",
    "            rowData = self.data.iloc[iUnit,:]\n",
    "            sezId = self.data.index[iUnit]\n",
    "            attrDict = {'geometry':rowData['geometry']}\n",
    "            # get polygon centroid and use that as position\n",
    "            sezCentroid =rowData['geometry'].centroid\n",
    "            sezPosition = geopy.Point(sezCentroid.y, sezCentroid.x)\n",
    "            \n",
    "            thisUnit = DemandUnit(name=sezId, \n",
    "                        position=sezPosition, \n",
    "                        agesIn=self.peopleByGroup[sezId], \n",
    "                        attributesIn=attrDict)\n",
    "            \n",
    "            unitList.append(thisUnit)\n",
    "        \n",
    "        return unitList"
   ]
  },
  {
   "cell_type": "code",
   "execution_count": null,
   "metadata": {},
   "outputs": [],
   "source": [
    "milanDemandFactory = DemandUnitFactory('Milano')"
   ]
  },
  {
   "cell_type": "code",
   "execution_count": null,
   "metadata": {},
   "outputs": [],
   "source": [
    "tt = milanDemandFactory.make_units_at_centroids()\n",
    "# total number of people modelled\n",
    "sum(tt[0].ages.values())"
   ]
  }
 ],
 "metadata": {
  "kernelspec": {
   "display_name": "Python 3",
   "language": "python",
   "name": "python3"
  },
  "language_info": {
   "codemirror_mode": {
    "name": "ipython",
    "version": 3
   },
   "file_extension": ".py",
   "mimetype": "text/x-python",
   "name": "python",
   "nbconvert_exporter": "python",
   "pygments_lexer": "ipython3",
   "version": "3.5.4"
  }
 },
 "nbformat": 4,
 "nbformat_minor": 2
}
