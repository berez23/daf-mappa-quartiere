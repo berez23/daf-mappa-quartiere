{
 "cells": [
  {
   "cell_type": "markdown",
   "metadata": {},
   "source": [
    "## A simple model for demand and supply of publicly-provided services in a city"
   ]
  },
  {
   "cell_type": "markdown",
   "metadata": {},
   "source": [
    "### Demand modelling"
   ]
  },
  {
   "cell_type": "code",
   "execution_count": 1,
   "metadata": {
    "scrolled": true
   },
   "outputs": [],
   "source": [
    "from enum import Enum\n",
    "import os.path\n",
    "\n",
    "import numpy as np\n",
    "import pandas as pd\n",
    "import geopandas as gpd\n",
    "import geopy, geopy.distance\n",
    "import shapely\n",
    "from sklearn import gaussian_process\n",
    "\n",
    "from matplotlib import pyplot as plt \n",
    "import seaborn as sns\n",
    "plt.rcParams['figure.figsize']= (20,14)"
   ]
  },
  {
   "cell_type": "code",
   "execution_count": 2,
   "metadata": {},
   "outputs": [],
   "source": [
    "## TODO: find way to put this into some global settings\n",
    "import os\n",
    "import sys\n",
    "nb_dir = os.path.dirname(os.getcwd())\n",
    "if nb_dir not in sys.path:\n",
    "    sys.path.append(nb_dir)\n",
    "\n",
    "from references import common_cfg"
   ]
  },
  {
   "cell_type": "code",
   "execution_count": 3,
   "metadata": {
    "scrolled": true
   },
   "outputs": [],
   "source": [
    "from src.models.city_items import AgeGroup, ServiceArea, ServiceType, SummaryNorm # enum classes for the model"
   ]
  },
  {
   "cell_type": "code",
   "execution_count": 4,
   "metadata": {},
   "outputs": [],
   "source": [
    "from src.models.core import MappedPositionsFrame, DemandFrame"
   ]
  },
  {
   "cell_type": "code",
   "execution_count": 5,
   "metadata": {
    "scrolled": true
   },
   "outputs": [],
   "source": [
    "gaussKern = gaussian_process.kernels.RBF\n",
    "get_random_pos = lambda n: list(map(geopy.Point, list(zip(np.round(np.random.uniform(45.40, 45.50, n), 5), \n",
    "                                np.round(np.random.uniform(9.1, 9.3, n), 5)))))\n",
    "make_shapely_point = lambda geoPoint: shapely.geometry.Point((geoPoint.longitude, geoPoint.latitude))"
   ]
  },
  {
   "cell_type": "code",
   "execution_count": null,
   "metadata": {},
   "outputs": [],
   "source": [
    "class DemandFrame(pd.DataFrame):\n",
    "    '''A class to store demand units in row and \n",
    "    make them available for aggregation'''\n",
    "    \n",
    "    def __init__(self, dfIn, bDuplicatesCheck=True):\n",
    "        assert isinstance(dfIn, pd.DataFrame), 'Input DataFrame expected'\n",
    "        self.__dict__.update(dfIn.copy().__dict__)\n",
    "        \n",
    "        # prepare the AgeGroups cardinalities\n",
    "        groupsCol = 'ageGroup'\n",
    "        peopleBySampleAge = common_cfg.fill_sample_ages_in_cpa_columns(self)\n",
    "        dataByGroup = peopleBySampleAge.rename(AgeGroup.find_AgeGroup, axis='columns').T\n",
    "        dataByGroup.index.name = groupsCol # index is now given by AgeGroup items\n",
    "        dataByGroup = dataByGroup.reset_index() # extract to convert to categorical and groupby\n",
    "        dataByGroup[groupsCol] = dataByGroup[groupsCol].astype('category')\n",
    "        agesBySection = dataByGroup.groupby(groupsCol).sum().T\n",
    "        #self['Ages'] = pd.Series(agesBySection.T.to_dict()) # assign dict to each section\n",
    "        self['PeopleTot'] = agesBySection.sum(axis=1)\n",
    "        # report all ages\n",
    "        for col in AgeGroup.all():\n",
    "            self[col] = agesBySection.get(col, np.zeros_like(self.iloc[:,0]))\n",
    "        \n",
    "        # assign centroid as position\n",
    "        geopyValues = self['geometry'].apply(\n",
    "            lambda pos: geopy.Point(pos.centroid.y, pos.centroid.x))\n",
    "        self[common_cfg.positionsCol] = geopyValues\n",
    "        \n",
    "        if bDuplicatesCheck:\n",
    "            # check no location is repeated - takes a while\n",
    "            assert not any(self[common_cfg.positionsCol].duplicated()), 'Repeated position found'\n",
    "            \n",
    "            \n",
    "    @property\n",
    "    def mappedPositions(self):\n",
    "        return MappedPositionsFrame(positions=self[common_cfg.positionsCol].tolist(),\n",
    "            idQuartiere=self[common_cfg.IdQuartiereColName].tolist())\n",
    "    \n",
    "    @property\n",
    "    def agesFrame(self):\n",
    "        ageMIndex = [self[common_cfg.IdQuartiereColName],\n",
    "                         self[common_cfg.positionsCol].apply(tuple)]\n",
    "        return self[AgeGroup.all()].set_index(ageMIndex)\n",
    "    \n",
    "    def get_age_sample(self, ageGroup=None, nSample=1000):\n",
    "        \n",
    "        if ageGroup is not None:\n",
    "            coord, nRep = self.mappedPositions.align(self.agesFrame[ageGroup], axis=0)\n",
    "        else:\n",
    "            coord, nRep = self.mappedPositions.align(self.agesFrame.sum(axis=1), axis=0)\n",
    "        idx = np.repeat(range(coord.shape[0]), nRep)\n",
    "        coord = coord[common_cfg.coordColNames].iloc[idx]\n",
    "        sample = coord.sample(int(nSample)).as_matrix()\n",
    "        return sample[:,0], sample[:,1]\n",
    "    \n",
    "    @staticmethod\n",
    "    def create_from_istat_cpa(cityName):\n",
    "        '''Constructor caller for DemandFrame'''\n",
    "        assert cityName in common_cfg.cityList, \\\n",
    "            'Unrecognised city name \"%s\"' % cityName\n",
    "        frame = DemandFrame(common_cfg.get_istat_cpa_data(cityName),\n",
    "                          bDuplicatesCheck=False)\n",
    "        return frame"
   ]
  },
  {
   "cell_type": "code",
   "execution_count": 6,
   "metadata": {},
   "outputs": [],
   "source": [
    "bb = DemandFrame.create_from_istat_cpa('Milano')"
   ]
  },
  {
   "cell_type": "code",
   "execution_count": 7,
   "metadata": {},
   "outputs": [
    {
     "data": {
      "text/plain": [
       "<matplotlib.axes._subplots.AxesSubplot at 0x7f4c448f2c50>"
      ]
     },
     "execution_count": 7,
     "metadata": {},
     "output_type": "execute_result"
    },
    {
     "data": {
      "image/png": "[encoded data removed]",
      "text/plain": [
       "<matplotlib.figure.Figure at 0x7f4c448eabe0>"
      ]
     },
     "metadata": {},
     "output_type": "display_data"
    }
   ],
   "source": [
    "sns.kdeplot(*bb.get_age_sample(None,3e4),shade=True, shade_lowest=True)"
   ]
  },
  {
   "cell_type": "code",
   "execution_count": null,
   "metadata": {},
   "outputs": [],
   "source": [
    "from src.models.process_tools import ValuesPlotter\n",
    "from src.models.services_supply import ServiceValues\n",
    "ptt = ValuesPlotter(ServiceValues(bb.mappedPositions))\n",
    "ptt.plot_locations()"
   ]
  }
 ],
 "metadata": {
  "kernelspec": {
   "display_name": "Python 3",
   "language": "python",
   "name": "python3"
  },
  "language_info": {
   "codemirror_mode": {
    "name": "ipython",
    "version": 3
   },
   "file_extension": ".py",
   "mimetype": "text/x-python",
   "name": "python",
   "nbconvert_exporter": "python",
   "pygments_lexer": "ipython3",
   "version": "3.5.4"
  }
 },
 "nbformat": 4,
 "nbformat_minor": 2
}
