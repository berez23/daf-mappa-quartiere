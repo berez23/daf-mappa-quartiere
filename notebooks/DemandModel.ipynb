{
 "cells": [
  {
   "cell_type": "markdown",
   "metadata": {},
   "source": [
    "## A simple model for demand and supply of publicly-provided services in a city"
   ]
  },
  {
   "cell_type": "markdown",
   "metadata": {},
   "source": [
    "### Demand modelling"
   ]
  },
  {
   "cell_type": "code",
   "execution_count": 1,
   "metadata": {
    "scrolled": true
   },
   "outputs": [],
   "source": [
    "from enum import Enum\n",
    "import os.path\n",
    "\n",
    "import numpy as np\n",
    "import pandas as pd\n",
    "import geopandas as gpd\n",
    "import geopy, geopy.distance\n",
    "import shapely\n",
    "from sklearn import gaussian_process\n",
    "\n",
    "from matplotlib import pyplot as plt \n",
    "import seaborn as sns\n",
    "plt.rcParams['figure.figsize']= (20,14)"
   ]
  },
  {
   "cell_type": "code",
   "execution_count": 2,
   "metadata": {},
   "outputs": [],
   "source": [
    "## TODO: find way to put this into some global settings\n",
    "import os\n",
    "import sys\n",
    "nb_dir = os.path.dirname(os.getcwd())\n",
    "if nb_dir not in sys.path:\n",
    "    sys.path.append(nb_dir)\n",
    "\n",
    "from references import common_cfg"
   ]
  },
  {
   "cell_type": "code",
   "execution_count": 3,
   "metadata": {
    "scrolled": true
   },
   "outputs": [
    {
     "name": "stdout",
     "output_type": "stream",
     "text": [
      "WARNING: mock demand factors initalised for ServiceTypes\n",
      "WARNING: mock demand factors initalised for ServiceTypes\n",
      "WARNING: mock demand factors initalised for ServiceTypes\n",
      "WARNING: mock demand factors initalised for ServiceTypes\n"
     ]
    }
   ],
   "source": [
    "from src.models.cityItems import AgeGroup, ServiceArea, ServiceType, SummaryNorm # enum classes for the model"
   ]
  },
  {
   "cell_type": "code",
   "execution_count": 4,
   "metadata": {},
   "outputs": [
    {
     "data": {
      "text/plain": [
       "[<AgeGroup.Newborn: (0, 3)>,\n",
       " <AgeGroup.Newborn: (0, 3)>,\n",
       " <AgeGroup.Newborn: (0, 3)>,\n",
       " <AgeGroup.Kinder: (3, 6)>,\n",
       " <AgeGroup.Kinder: (3, 6)>,\n",
       " <AgeGroup.Kinder: (3, 6)>,\n",
       " <AgeGroup.ChildPrimary: (6, 10)>,\n",
       " <AgeGroup.ChildPrimary: (6, 10)>,\n",
       " <AgeGroup.ChildPrimary: (6, 10)>,\n",
       " <AgeGroup.ChildPrimary: (6, 10)>,\n",
       " <AgeGroup.ChildMid: (10, 15)>,\n",
       " <AgeGroup.ChildMid: (10, 15)>,\n",
       " <AgeGroup.ChildMid: (10, 15)>,\n",
       " <AgeGroup.ChildMid: (10, 15)>,\n",
       " <AgeGroup.ChildMid: (10, 15)>,\n",
       " <AgeGroup.ChildHigh: (15, 19)>,\n",
       " <AgeGroup.ChildHigh: (15, 19)>,\n",
       " <AgeGroup.ChildHigh: (15, 19)>]"
      ]
     },
     "execution_count": 4,
     "metadata": {},
     "output_type": "execute_result"
    }
   ],
   "source": [
    "AgeGroup.classify_array(range(18))"
   ]
  },
  {
   "cell_type": "code",
   "execution_count": null,
   "metadata": {
    "scrolled": true
   },
   "outputs": [],
   "source": [
    "gaussKern = gaussian_process.kernels.RBF\n",
    "get_random_pos = lambda n: list(map(geopy.Point, list(zip(np.round(np.random.uniform(45.40, 45.50, n), 5), \n",
    "                                np.round(np.random.uniform(9.1, 9.3, n), 5)))))\n",
    "make_shapely_point = lambda geoPoint: shapely.geometry.Point((geoPoint.longitude, geoPoint.latitude))"
   ]
  },
  {
   "cell_type": "code",
   "execution_count": null,
   "metadata": {},
   "outputs": [],
   "source": [
    "### Demand modelling\n",
    "class DemandUnit:\n",
    "    def __init__(self, position=None, agesInput=None, attributesIn={}):\n",
    "        # make defaults\n",
    "        if not position: position = get_random_pos(1)[0]\n",
    "        if not agesInput: agesInput = {a: 1 for a in AgeGroup.all()}\n",
    "        assert isinstance(position, geopy.Point), 'Position must be a geopy Point'\n",
    "        assert isinstance(attributesIn, dict), 'Attributes can be provided in a dict'\n",
    "        # expand input to all age group keys and assign default 0 to missing ones\n",
    "        self.ages = {a: agesInput.get(a, 0) for a in AgeGroup.all()}\n",
    "        self.position = position\n",
    "        self.polygon = attributesIn.get('geometry', [])\n",
    "        # precompute export format for speed\n",
    "        self.export = pd.DataFrame(self.ages, index=(tuple(self.position)))"
   ]
  },
  {
   "cell_type": "code",
   "execution_count": null,
   "metadata": {
    "scrolled": true
   },
   "outputs": [],
   "source": [
    "def evaluate_demand(householdList, outputServices= [t for t in ServiceType]):\n",
    "    \"\"\" \"\"\"\n",
    "    # initialise output\n",
    "    outDemand = dict()\n",
    "    # consolidate positions. If two households share the same position, sum components.\n",
    "    householdData = pd.concat([h.export for h in householdList])\n",
    "    householdData['position'] = householdData.index \n",
    "    consolidated = householdData.groupby('position').sum()\n",
    "    \n",
    "    for thisServType in outputServices:\n",
    "        outDemand[thisServType] = consolidated*thisServType.demandFactors\n",
    "        \n",
    "    return outDemand"
   ]
  },
  {
   "cell_type": "code",
   "execution_count": null,
   "metadata": {},
   "outputs": [],
   "source": []
  },
  {
   "cell_type": "code",
   "execution_count": null,
   "metadata": {
    "scrolled": false
   },
   "outputs": [],
   "source": [
    "hhList =  [DemandUnit() for i in range(40)]\n",
    "#evaluate_demand(hhList)"
   ]
  },
  {
   "cell_type": "code",
   "execution_count": null,
   "metadata": {
    "scrolled": true
   },
   "outputs": [],
   "source": [
    "## Matching demand and supply\n",
    "def get_satisfaction_indexes(householdList):\n",
    "    pass"
   ]
  }
 ],
 "metadata": {
  "kernelspec": {
   "display_name": "Python 3",
   "language": "python",
   "name": "python3"
  },
  "language_info": {
   "codemirror_mode": {
    "name": "ipython",
    "version": 3
   },
   "file_extension": ".py",
   "mimetype": "text/x-python",
   "name": "python",
   "nbconvert_exporter": "python",
   "pygments_lexer": "ipython3",
   "version": "3.5.4"
  }
 },
 "nbformat": 4,
 "nbformat_minor": 2
}
