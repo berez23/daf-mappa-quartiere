{
 "cells": [
  {
   "cell_type": "markdown",
   "metadata": {},
   "source": [
    "## A simple model for demand and supply of publicly-provided services in a city"
   ]
  },
  {
   "cell_type": "markdown",
   "metadata": {},
   "source": [
    "### Demand modelling"
   ]
  },
  {
   "cell_type": "code",
   "execution_count": null,
   "metadata": {
    "scrolled": true
   },
   "outputs": [],
   "source": [
    "from enum import Enum\n",
    "import os.path\n",
    "\n",
    "import numpy as np\n",
    "import pandas as pd\n",
    "import geopandas as gpd\n",
    "import geopy, geopy.distance\n",
    "import shapely\n",
    "from sklearn import gaussian_process\n",
    "\n",
    "from matplotlib import pyplot as plt \n",
    "import seaborn as sns\n",
    "plt.rcParams['figure.figsize']= (20,14)"
   ]
  },
  {
   "cell_type": "code",
   "execution_count": null,
   "metadata": {},
   "outputs": [],
   "source": [
    "## TODO: find way to put this into some global settings\n",
    "import os\n",
    "import sys\n",
    "nb_dir = os.path.dirname(os.getcwd())\n",
    "if nb_dir not in sys.path:\n",
    "    sys.path.append(nb_dir)\n",
    "\n",
    "from references import common_cfg"
   ]
  },
  {
   "cell_type": "code",
   "execution_count": null,
   "metadata": {
    "scrolled": true
   },
   "outputs": [],
   "source": [
    "from src.models.city_items import AgeGroup, ServiceArea, ServiceType, SummaryNorm # enum classes for the model"
   ]
  },
  {
   "cell_type": "code",
   "execution_count": null,
   "metadata": {},
   "outputs": [],
   "source": [
    "from src.models.process_tools import MappedPositionsFrame"
   ]
  },
  {
   "cell_type": "code",
   "execution_count": null,
   "metadata": {},
   "outputs": [],
   "source": [
    "AgeGroup.classify_array(range(18))"
   ]
  },
  {
   "cell_type": "code",
   "execution_count": null,
   "metadata": {
    "scrolled": true
   },
   "outputs": [],
   "source": [
    "gaussKern = gaussian_process.kernels.RBF\n",
    "get_random_pos = lambda n: list(map(geopy.Point, list(zip(np.round(np.random.uniform(45.40, 45.50, n), 5), \n",
    "                                np.round(np.random.uniform(9.1, 9.3, n), 5)))))\n",
    "make_shapely_point = lambda geoPoint: shapely.geometry.Point((geoPoint.longitude, geoPoint.latitude))"
   ]
  },
  {
   "cell_type": "code",
   "execution_count": null,
   "metadata": {},
   "outputs": [],
   "source": [
    "### Demand modelling\n",
    "class DemandFrame(pd.DataFrame):\n",
    "    '''A class to store demand units in row and \n",
    "    make them available for aggregation'''\n",
    "    \n",
    "    def __init__(self, dfIn, bDuplicatesCheck=True):\n",
    "        assert isinstance(dfIn, pd.DataFrame), 'Input DataFrame expected'\n",
    "        self.__dict__.update(dfIn.__dict__)\n",
    "        \n",
    "        # prepare the AgeGroups cardinalities\n",
    "        groupsCol = 'ageGroup'\n",
    "        peopleBySampleAge = common_cfg.fill_sample_ages_in_cpa_columns(self)\n",
    "        dataByGroup = peopleBySampleAge.rename(AgeGroup.find_AgeGroup, axis='columns').T\n",
    "        dataByGroup.index.name = groupsCol # index is now given by AgeGroup items\n",
    "        dataByGroup = dataByGroup.reset_index() # extract to convert to categorical and groupby\n",
    "        dataByGroup[groupsCol] = dataByGroup[groupsCol].astype('category')\n",
    "        agesBySection = dataByGroup.groupby(groupsCol).sum()\n",
    "        self['Ages'] = pd.Series(agesBySection.to_dict()) # assign dict to each section\n",
    "        self['TotalPeople'] = agesBySection.T.sum(axis=1)\n",
    "        \n",
    "        self['Positions'] = self['geometry'].apply(\n",
    "            lambda pos: geopy.Point(pos.centroid.y, pos.centroid.x))\n",
    "        \n",
    "        if bDuplicatesCheck:\n",
    "            # check no location is repeated - takes a while\n",
    "            assert not any(self['Positions'].duplicated()), 'Repeated position found'\n",
    "            \n",
    "    @property\n",
    "    def mappedPositions(self):\n",
    "        return MappedPositionsFrame(positions=self['Positions'].tolist(),\n",
    "            idQuartiere=self[common_cfg.IdQuartiereColName].tolist())\n",
    "    \n",
    "    @property\n",
    "    def totalPeople(self):\n",
    "        return sum(self['TotalPeople'])\n",
    "    \n",
    "    @staticmethod\n",
    "    def create_from_istat_cpa(cityName):\n",
    "        '''Constructor caller for DemandFrame'''\n",
    "        assert cityName in common_cfg.cityList, \\\n",
    "            'Unrecognised city name \"%s\"' % cityName\n",
    "        frame = DemandFrame(common_cfg.get_istat_cpa_data(cityName),\n",
    "                          bDuplicatesCheck=False)\n",
    "        return frame"
   ]
  },
  {
   "cell_type": "code",
   "execution_count": null,
   "metadata": {},
   "outputs": [],
   "source": [
    "bb = DemandFrame.create_from_istat_cpa('Milano')"
   ]
  },
  {
   "cell_type": "code",
   "execution_count": null,
   "metadata": {},
   "outputs": [],
   "source": [
    "bb.mappedPositions"
   ]
  },
  {
   "cell_type": "code",
   "execution_count": null,
   "metadata": {
    "scrolled": true
   },
   "outputs": [],
   "source": [
    "def evaluate_demand(householdList, outputServices= [t for t in ServiceType]):\n",
    "    \"\"\" \"\"\"\n",
    "    # initialise output\n",
    "    outDemand = dict()\n",
    "    # consolidate positions. If two households share the same position, sum components.\n",
    "    householdData = pd.concat([h.export for h in householdList])\n",
    "    householdData['position'] = householdData.index \n",
    "    consolidated = householdData.groupby('position').sum()\n",
    "    \n",
    "    for thisServType in outputServices:\n",
    "        outDemand[thisServType] = consolidated*thisServType.demandFactors\n",
    "        \n",
    "    return outDemand"
   ]
  }
 ],
 "metadata": {
  "kernelspec": {
   "display_name": "Python 3",
   "language": "python",
   "name": "python3"
  },
  "language_info": {
   "codemirror_mode": {
    "name": "ipython",
    "version": 3
   },
   "file_extension": ".py",
   "mimetype": "text/x-python",
   "name": "python",
   "nbconvert_exporter": "python",
   "pygments_lexer": "ipython3",
   "version": "3.5.4"
  }
 },
 "nbformat": 4,
 "nbformat_minor": 2
}
